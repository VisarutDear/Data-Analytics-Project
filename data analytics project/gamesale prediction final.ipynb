{
 "cells": [
  {
   "cell_type": "markdown",
   "id": "judicial-elimination",
   "metadata": {},
   "source": [
    "# Gamesale Prediction"
   ]
  },
  {
   "cell_type": "code",
   "execution_count": 1,
   "id": "sought-genius",
   "metadata": {},
   "outputs": [],
   "source": [
    "import numpy as np\n",
    "import pandas as pd\n",
    "import sklearn\n",
    "import seaborn as sn\n",
    "import matplotlib.pyplot as plt\n",
    "import seaborn as sns\n",
    "from scipy import stats\n",
    "from scipy.stats import norm, skew \n",
    "%matplotlib inline\n",
    "\n",
    "import warnings\n",
    "def ignore_warn(*args, **kwargs):\n",
    "    pass\n",
    "warnings.warn = ignore_warn #ignore annoying warning (from sklearn and seaborn)"
   ]
  },
  {
   "cell_type": "code",
   "execution_count": 2,
   "id": "welcome-score",
   "metadata": {},
   "outputs": [
    {
     "data": {
      "text/html": [
       "<div>\n",
       "<style scoped>\n",
       "    .dataframe tbody tr th:only-of-type {\n",
       "        vertical-align: middle;\n",
       "    }\n",
       "\n",
       "    .dataframe tbody tr th {\n",
       "        vertical-align: top;\n",
       "    }\n",
       "\n",
       "    .dataframe thead th {\n",
       "        text-align: right;\n",
       "    }\n",
       "</style>\n",
       "<table border=\"1\" class=\"dataframe\">\n",
       "  <thead>\n",
       "    <tr style=\"text-align: right;\">\n",
       "      <th></th>\n",
       "      <th>Name</th>\n",
       "      <th>Platform</th>\n",
       "      <th>Year_of_Release</th>\n",
       "      <th>Genre</th>\n",
       "      <th>Publisher</th>\n",
       "      <th>NA_Sales</th>\n",
       "      <th>EU_Sales</th>\n",
       "      <th>JP_Sales</th>\n",
       "      <th>Other_Sales</th>\n",
       "      <th>Global_Sales</th>\n",
       "      <th>Critic_Score</th>\n",
       "      <th>Critic_Count</th>\n",
       "      <th>User_Score</th>\n",
       "      <th>User_Count</th>\n",
       "      <th>Developer</th>\n",
       "      <th>Rating</th>\n",
       "    </tr>\n",
       "  </thead>\n",
       "  <tbody>\n",
       "    <tr>\n",
       "      <th>0</th>\n",
       "      <td>Wii Sports</td>\n",
       "      <td>Wii</td>\n",
       "      <td>2006.0</td>\n",
       "      <td>Sports</td>\n",
       "      <td>Nintendo</td>\n",
       "      <td>41.36</td>\n",
       "      <td>28.96</td>\n",
       "      <td>3.77</td>\n",
       "      <td>8.45</td>\n",
       "      <td>82.53</td>\n",
       "      <td>76.0</td>\n",
       "      <td>51.0</td>\n",
       "      <td>8</td>\n",
       "      <td>322.0</td>\n",
       "      <td>Nintendo</td>\n",
       "      <td>E</td>\n",
       "    </tr>\n",
       "    <tr>\n",
       "      <th>1</th>\n",
       "      <td>Super Mario Bros.</td>\n",
       "      <td>NES</td>\n",
       "      <td>1985.0</td>\n",
       "      <td>Platform</td>\n",
       "      <td>Nintendo</td>\n",
       "      <td>29.08</td>\n",
       "      <td>3.58</td>\n",
       "      <td>6.81</td>\n",
       "      <td>0.77</td>\n",
       "      <td>40.24</td>\n",
       "      <td>NaN</td>\n",
       "      <td>NaN</td>\n",
       "      <td>NaN</td>\n",
       "      <td>NaN</td>\n",
       "      <td>NaN</td>\n",
       "      <td>NaN</td>\n",
       "    </tr>\n",
       "    <tr>\n",
       "      <th>2</th>\n",
       "      <td>Mario Kart Wii</td>\n",
       "      <td>Wii</td>\n",
       "      <td>2008.0</td>\n",
       "      <td>Racing</td>\n",
       "      <td>Nintendo</td>\n",
       "      <td>15.68</td>\n",
       "      <td>12.76</td>\n",
       "      <td>3.79</td>\n",
       "      <td>3.29</td>\n",
       "      <td>35.52</td>\n",
       "      <td>82.0</td>\n",
       "      <td>73.0</td>\n",
       "      <td>8.3</td>\n",
       "      <td>709.0</td>\n",
       "      <td>Nintendo</td>\n",
       "      <td>E</td>\n",
       "    </tr>\n",
       "    <tr>\n",
       "      <th>3</th>\n",
       "      <td>Wii Sports Resort</td>\n",
       "      <td>Wii</td>\n",
       "      <td>2009.0</td>\n",
       "      <td>Sports</td>\n",
       "      <td>Nintendo</td>\n",
       "      <td>15.61</td>\n",
       "      <td>10.93</td>\n",
       "      <td>3.28</td>\n",
       "      <td>2.95</td>\n",
       "      <td>32.77</td>\n",
       "      <td>80.0</td>\n",
       "      <td>73.0</td>\n",
       "      <td>8</td>\n",
       "      <td>192.0</td>\n",
       "      <td>Nintendo</td>\n",
       "      <td>E</td>\n",
       "    </tr>\n",
       "    <tr>\n",
       "      <th>4</th>\n",
       "      <td>Pokemon Red/Pokemon Blue</td>\n",
       "      <td>GB</td>\n",
       "      <td>1996.0</td>\n",
       "      <td>Role-Playing</td>\n",
       "      <td>Nintendo</td>\n",
       "      <td>11.27</td>\n",
       "      <td>8.89</td>\n",
       "      <td>10.22</td>\n",
       "      <td>1.00</td>\n",
       "      <td>31.37</td>\n",
       "      <td>NaN</td>\n",
       "      <td>NaN</td>\n",
       "      <td>NaN</td>\n",
       "      <td>NaN</td>\n",
       "      <td>NaN</td>\n",
       "      <td>NaN</td>\n",
       "    </tr>\n",
       "  </tbody>\n",
       "</table>\n",
       "</div>"
      ],
      "text/plain": [
       "                       Name Platform  Year_of_Release         Genre Publisher  \\\n",
       "0                Wii Sports      Wii           2006.0        Sports  Nintendo   \n",
       "1         Super Mario Bros.      NES           1985.0      Platform  Nintendo   \n",
       "2            Mario Kart Wii      Wii           2008.0        Racing  Nintendo   \n",
       "3         Wii Sports Resort      Wii           2009.0        Sports  Nintendo   \n",
       "4  Pokemon Red/Pokemon Blue       GB           1996.0  Role-Playing  Nintendo   \n",
       "\n",
       "   NA_Sales  EU_Sales  JP_Sales  Other_Sales  Global_Sales  Critic_Score  \\\n",
       "0     41.36     28.96      3.77         8.45         82.53          76.0   \n",
       "1     29.08      3.58      6.81         0.77         40.24           NaN   \n",
       "2     15.68     12.76      3.79         3.29         35.52          82.0   \n",
       "3     15.61     10.93      3.28         2.95         32.77          80.0   \n",
       "4     11.27      8.89     10.22         1.00         31.37           NaN   \n",
       "\n",
       "   Critic_Count User_Score  User_Count Developer Rating  \n",
       "0          51.0          8       322.0  Nintendo      E  \n",
       "1           NaN        NaN         NaN       NaN    NaN  \n",
       "2          73.0        8.3       709.0  Nintendo      E  \n",
       "3          73.0          8       192.0  Nintendo      E  \n",
       "4           NaN        NaN         NaN       NaN    NaN  "
      ]
     },
     "execution_count": 2,
     "metadata": {},
     "output_type": "execute_result"
    }
   ],
   "source": [
    "data = pd.read_csv('Video_Games_Sales_as_at_22_Dec_2016.csv')\n",
    "data.head()"
   ]
  },
  {
   "cell_type": "markdown",
   "id": "charitable-audio",
   "metadata": {},
   "source": [
    " ## Data Preprocessing"
   ]
  },
  {
   "cell_type": "code",
   "execution_count": 3,
   "id": "surrounded-watershed",
   "metadata": {},
   "outputs": [
    {
     "name": "stdout",
     "output_type": "stream",
     "text": [
      "<class 'pandas.core.frame.DataFrame'>\n",
      "RangeIndex: 16719 entries, 0 to 16718\n",
      "Data columns (total 16 columns):\n",
      " #   Column           Non-Null Count  Dtype  \n",
      "---  ------           --------------  -----  \n",
      " 0   Name             16717 non-null  object \n",
      " 1   Platform         16719 non-null  object \n",
      " 2   Year_of_Release  16450 non-null  float64\n",
      " 3   Genre            16717 non-null  object \n",
      " 4   Publisher        16665 non-null  object \n",
      " 5   NA_Sales         16719 non-null  float64\n",
      " 6   EU_Sales         16719 non-null  float64\n",
      " 7   JP_Sales         16719 non-null  float64\n",
      " 8   Other_Sales      16719 non-null  float64\n",
      " 9   Global_Sales     16719 non-null  float64\n",
      " 10  Critic_Score     8137 non-null   float64\n",
      " 11  Critic_Count     8137 non-null   float64\n",
      " 12  User_Score       10015 non-null  object \n",
      " 13  User_Count       7590 non-null   float64\n",
      " 14  Developer        10096 non-null  object \n",
      " 15  Rating           9950 non-null   object \n",
      "dtypes: float64(9), object(7)\n",
      "memory usage: 2.0+ MB\n"
     ]
    }
   ],
   "source": [
    "data.info()"
   ]
  },
  {
   "cell_type": "code",
   "execution_count": 4,
   "id": "final-france",
   "metadata": {},
   "outputs": [
    {
     "data": {
      "text/html": [
       "<div>\n",
       "<style scoped>\n",
       "    .dataframe tbody tr th:only-of-type {\n",
       "        vertical-align: middle;\n",
       "    }\n",
       "\n",
       "    .dataframe tbody tr th {\n",
       "        vertical-align: top;\n",
       "    }\n",
       "\n",
       "    .dataframe thead th {\n",
       "        text-align: right;\n",
       "    }\n",
       "</style>\n",
       "<table border=\"1\" class=\"dataframe\">\n",
       "  <thead>\n",
       "    <tr style=\"text-align: right;\">\n",
       "      <th></th>\n",
       "      <th>Missing Ratio</th>\n",
       "    </tr>\n",
       "  </thead>\n",
       "  <tbody>\n",
       "    <tr>\n",
       "      <th>User_Count</th>\n",
       "      <td>54.602548</td>\n",
       "    </tr>\n",
       "    <tr>\n",
       "      <th>Critic_Score</th>\n",
       "      <td>51.330821</td>\n",
       "    </tr>\n",
       "    <tr>\n",
       "      <th>Critic_Count</th>\n",
       "      <td>51.330821</td>\n",
       "    </tr>\n",
       "    <tr>\n",
       "      <th>Rating</th>\n",
       "      <td>40.486871</td>\n",
       "    </tr>\n",
       "    <tr>\n",
       "      <th>User_Score</th>\n",
       "      <td>40.098092</td>\n",
       "    </tr>\n",
       "    <tr>\n",
       "      <th>Developer</th>\n",
       "      <td>39.613613</td>\n",
       "    </tr>\n",
       "    <tr>\n",
       "      <th>Year_of_Release</th>\n",
       "      <td>1.608948</td>\n",
       "    </tr>\n",
       "    <tr>\n",
       "      <th>Publisher</th>\n",
       "      <td>0.322986</td>\n",
       "    </tr>\n",
       "    <tr>\n",
       "      <th>Name</th>\n",
       "      <td>0.011962</td>\n",
       "    </tr>\n",
       "    <tr>\n",
       "      <th>Genre</th>\n",
       "      <td>0.011962</td>\n",
       "    </tr>\n",
       "  </tbody>\n",
       "</table>\n",
       "</div>"
      ],
      "text/plain": [
       "                 Missing Ratio\n",
       "User_Count           54.602548\n",
       "Critic_Score         51.330821\n",
       "Critic_Count         51.330821\n",
       "Rating               40.486871\n",
       "User_Score           40.098092\n",
       "Developer            39.613613\n",
       "Year_of_Release       1.608948\n",
       "Publisher             0.322986\n",
       "Name                  0.011962\n",
       "Genre                 0.011962"
      ]
     },
     "execution_count": 4,
     "metadata": {},
     "output_type": "execute_result"
    }
   ],
   "source": [
    "data_na = (data.isnull().sum() / len(data)) * 100\n",
    "data_na = data_na.drop(data_na[data_na == 0].index).sort_values(ascending=False)[:30]\n",
    "missing_data = pd.DataFrame({ 'Missing Ratio' : data_na })\n",
    "missing_data.head(16)"
   ]
  },
  {
   "cell_type": "markdown",
   "id": "toxic-output",
   "metadata": {},
   "source": [
    "#### See how importance of score (user & critic score)"
   ]
  },
  {
   "cell_type": "code",
   "execution_count": 5,
   "id": "appreciated-visiting",
   "metadata": {},
   "outputs": [
    {
     "data": {
      "text/plain": [
       "<seaborn.axisgrid.FacetGrid at 0x7fce0dbb3cd0>"
      ]
     },
     "execution_count": 5,
     "metadata": {},
     "output_type": "execute_result"
    },
    {
     "data": {
      "image/png": "[encoded data removed]",
      "text/plain": [
       "<Figure size 637.25x576 with 1 Axes>"
      ]
     },
     "metadata": {
      "needs_background": "light"
     },
     "output_type": "display_data"
    },
    {
     "data": {
      "image/png": "[encoded data removed]",
      "text/plain": [
       "<Figure size 637.25x576 with 1 Axes>"
      ]
     },
     "metadata": {
      "needs_background": "light"
     },
     "output_type": "display_data"
    }
   ],
   "source": [
    "data[\"Has_Score\"] = data[\"User_Score\"].notnull() & data[\"Critic_Score\"].notnull()\n",
    "\n",
    "data[\"Country\"] = data[[\"NA_Sales\", \"EU_Sales\", \"JP_Sales\", \"Other_Sales\"]].idxmax(1, skipna=True)\n",
    "palette = {True: \"limegreen\", False: \"indianred\"}\n",
    "sns.factorplot(y=\"Country\", hue=\"Has_Score\", data=data, size=8, kind=\"count\", palette=palette)\n",
    "sns.factorplot(y=\"Country\", x=\"Global_Sales\", hue=\"Has_Score\", data=data, size=8, kind=\"bar\", palette=palette,\n",
    "               estimator=lambda x: np.median(x))"
   ]
  },
  {
   "cell_type": "code",
   "execution_count": 6,
   "id": "urban-paper",
   "metadata": {
    "scrolled": true
   },
   "outputs": [
    {
     "name": "stdout",
     "output_type": "stream",
     "text": [
      "(8137, 18)\n"
     ]
    },
    {
     "data": {
      "text/html": [
       "<div>\n",
       "<style scoped>\n",
       "    .dataframe tbody tr th:only-of-type {\n",
       "        vertical-align: middle;\n",
       "    }\n",
       "\n",
       "    .dataframe tbody tr th {\n",
       "        vertical-align: top;\n",
       "    }\n",
       "\n",
       "    .dataframe thead th {\n",
       "        text-align: right;\n",
       "    }\n",
       "</style>\n",
       "<table border=\"1\" class=\"dataframe\">\n",
       "  <thead>\n",
       "    <tr style=\"text-align: right;\">\n",
       "      <th></th>\n",
       "      <th>Missing Ratio</th>\n",
       "    </tr>\n",
       "  </thead>\n",
       "  <tbody>\n",
       "    <tr>\n",
       "      <th>User_Count</th>\n",
       "      <td>13.764287</td>\n",
       "    </tr>\n",
       "    <tr>\n",
       "      <th>Year_of_Release</th>\n",
       "      <td>1.892589</td>\n",
       "    </tr>\n",
       "    <tr>\n",
       "      <th>Rating</th>\n",
       "      <td>1.020032</td>\n",
       "    </tr>\n",
       "    <tr>\n",
       "      <th>User_Score</th>\n",
       "      <td>0.467003</td>\n",
       "    </tr>\n",
       "    <tr>\n",
       "      <th>Developer</th>\n",
       "      <td>0.073737</td>\n",
       "    </tr>\n",
       "    <tr>\n",
       "      <th>Publisher</th>\n",
       "      <td>0.049158</td>\n",
       "    </tr>\n",
       "  </tbody>\n",
       "</table>\n",
       "</div>"
      ],
      "text/plain": [
       "                 Missing Ratio\n",
       "User_Count           13.764287\n",
       "Year_of_Release       1.892589\n",
       "Rating                1.020032\n",
       "User_Score            0.467003\n",
       "Developer             0.073737\n",
       "Publisher             0.049158"
      ]
     },
     "execution_count": 6,
     "metadata": {},
     "output_type": "execute_result"
    }
   ],
   "source": [
    "data = data.dropna(subset=['Critic_Score'])\n",
    "\n",
    "#Let's see the shape of the data again\n",
    "print(data.shape)\n",
    "\n",
    "#Lets see the missing ratios again\n",
    "data_na = (data.isnull().sum() / len(data)) * 100\n",
    "data_na = data_na.drop(data_na[data_na == 0].index).sort_values(ascending=False)[:30]\n",
    "missing_data = pd.DataFrame({'Missing Ratio' :data_na})\n",
    "missing_data.head(16)"
   ]
  },
  {
   "cell_type": "code",
   "execution_count": 7,
   "id": "editorial-provincial",
   "metadata": {},
   "outputs": [
    {
     "name": "stdout",
     "output_type": "stream",
     "text": [
      "PS2     1298\n",
      "X360     916\n",
      "PS3      820\n",
      "XB       725\n",
      "DS       717\n",
      "PC       715\n",
      "Wii      585\n",
      "PSP      462\n",
      "GC       448\n",
      "GBA      438\n",
      "PS4      252\n",
      "PS       200\n",
      "XOne     169\n",
      "3DS      168\n",
      "PSV      120\n",
      "WiiU      90\n",
      "DC        14\n",
      "Name: Platform, dtype: int64\n"
     ]
    }
   ],
   "source": [
    "print(pd.value_counts(data[\"Platform\"]))"
   ]
  },
  {
   "cell_type": "code",
   "execution_count": 8,
   "id": "military-token",
   "metadata": {},
   "outputs": [
    {
     "name": "stdout",
     "output_type": "stream",
     "text": [
      "X360    916\n",
      "PS3     820\n",
      "PC      715\n",
      "Wii     585\n",
      "PS4     252\n",
      "XOne    169\n",
      "WiiU     90\n",
      "Name: Platform, dtype: int64\n",
      "(3547, 18)\n"
     ]
    },
    {
     "data": {
      "text/html": [
       "<div>\n",
       "<style scoped>\n",
       "    .dataframe tbody tr th:only-of-type {\n",
       "        vertical-align: middle;\n",
       "    }\n",
       "\n",
       "    .dataframe tbody tr th {\n",
       "        vertical-align: top;\n",
       "    }\n",
       "\n",
       "    .dataframe thead th {\n",
       "        text-align: right;\n",
       "    }\n",
       "</style>\n",
       "<table border=\"1\" class=\"dataframe\">\n",
       "  <thead>\n",
       "    <tr style=\"text-align: right;\">\n",
       "      <th></th>\n",
       "      <th>Missing Ratio</th>\n",
       "    </tr>\n",
       "  </thead>\n",
       "  <tbody>\n",
       "    <tr>\n",
       "      <th>User_Count</th>\n",
       "      <td>5.018325</td>\n",
       "    </tr>\n",
       "    <tr>\n",
       "      <th>Year_of_Release</th>\n",
       "      <td>2.001692</td>\n",
       "    </tr>\n",
       "    <tr>\n",
       "      <th>Rating</th>\n",
       "      <td>2.001692</td>\n",
       "    </tr>\n",
       "    <tr>\n",
       "      <th>User_Score</th>\n",
       "      <td>0.563857</td>\n",
       "    </tr>\n",
       "    <tr>\n",
       "      <th>Publisher</th>\n",
       "      <td>0.084579</td>\n",
       "    </tr>\n",
       "    <tr>\n",
       "      <th>Developer</th>\n",
       "      <td>0.084579</td>\n",
       "    </tr>\n",
       "  </tbody>\n",
       "</table>\n",
       "</div>"
      ],
      "text/plain": [
       "                 Missing Ratio\n",
       "User_Count            5.018325\n",
       "Year_of_Release       2.001692\n",
       "Rating                2.001692\n",
       "User_Score            0.563857\n",
       "Publisher             0.084579\n",
       "Developer             0.084579"
      ]
     },
     "execution_count": 8,
     "metadata": {},
     "output_type": "execute_result"
    }
   ],
   "source": [
    "data = data[(data['Platform'] == 'PS3') | (data['Platform'] == 'PS4') | (data['Platform'] == 'X360') | (data['Platform'] == 'XOne') | (data['Platform'] == 'Wii') | (data['Platform'] == 'WiiU') | (data['Platform'] == 'PC')]\n",
    "\n",
    "#Let's double check the value counts to be sure\n",
    "print(pd.value_counts(data[\"Platform\"]))\n",
    "\n",
    "#Let's see the shape of the data again\n",
    "print(data.shape)\n",
    "\n",
    "#Lets see the missing ratios again\n",
    "data_na = (data.isnull().sum() / len(data)) * 100\n",
    "data_na = data_na.drop(data_na[data_na == 0].index).sort_values(ascending=False)[:30]\n",
    "missing_data = pd.DataFrame({'Missing Ratio' :data_na})\n",
    "missing_data.head(16)"
   ]
  },
  {
   "cell_type": "code",
   "execution_count": 9,
   "id": "patient-cruise",
   "metadata": {},
   "outputs": [],
   "source": [
    "data['Publisher'] = data['Publisher'].fillna(data['Publisher'].mode()[0])"
   ]
  },
  {
   "cell_type": "code",
   "execution_count": 10,
   "id": "graphic-alfred",
   "metadata": {},
   "outputs": [],
   "source": [
    "data['Developer'] = data['Developer'].fillna(data['Developer'].mode()[0])"
   ]
  },
  {
   "cell_type": "code",
   "execution_count": 11,
   "id": "portuguese-productivity",
   "metadata": {},
   "outputs": [],
   "source": [
    "data['Rating'] = data['Rating'].fillna(data['Rating'].mode()[0])"
   ]
  },
  {
   "cell_type": "code",
   "execution_count": 12,
   "id": "furnished-custom",
   "metadata": {},
   "outputs": [],
   "source": [
    "data['Year_of_Release'] = data['Year_of_Release'].fillna(data['Year_of_Release'].median())"
   ]
  },
  {
   "cell_type": "code",
   "execution_count": 13,
   "id": "associate-family",
   "metadata": {},
   "outputs": [],
   "source": [
    "#There's \"tbd\" values in the mix here which we need to handle first\n",
    "data['User_Score'] = data['User_Score'].replace('tbd', None)\n",
    "\n",
    "#Now we can handle the N/A's appropriately\n",
    "data['User_Score'] = data['User_Score'].fillna(data['User_Score'].median())"
   ]
  },
  {
   "cell_type": "code",
   "execution_count": 14,
   "id": "shaped-trunk",
   "metadata": {},
   "outputs": [],
   "source": [
    "data['User_Count'] = data['User_Count'].fillna(data['User_Count'].median())"
   ]
  },
  {
   "cell_type": "code",
   "execution_count": 15,
   "id": "proper-vancouver",
   "metadata": {},
   "outputs": [
    {
     "data": {
      "text/html": [
       "<div>\n",
       "<style scoped>\n",
       "    .dataframe tbody tr th:only-of-type {\n",
       "        vertical-align: middle;\n",
       "    }\n",
       "\n",
       "    .dataframe tbody tr th {\n",
       "        vertical-align: top;\n",
       "    }\n",
       "\n",
       "    .dataframe thead th {\n",
       "        text-align: right;\n",
       "    }\n",
       "</style>\n",
       "<table border=\"1\" class=\"dataframe\">\n",
       "  <thead>\n",
       "    <tr style=\"text-align: right;\">\n",
       "      <th></th>\n",
       "      <th>Missing Ratio</th>\n",
       "    </tr>\n",
       "  </thead>\n",
       "  <tbody>\n",
       "  </tbody>\n",
       "</table>\n",
       "</div>"
      ],
      "text/plain": [
       "Empty DataFrame\n",
       "Columns: [Missing Ratio]\n",
       "Index: []"
      ]
     },
     "execution_count": 15,
     "metadata": {},
     "output_type": "execute_result"
    }
   ],
   "source": [
    "data_na = (data.isnull().sum() / len(data)) * 100\n",
    "data_na = data_na.drop(data_na[data_na == 0].index).sort_values(ascending=False)[:30]\n",
    "missing_data = pd.DataFrame({ 'Missing Ratio' : data_na })\n",
    "missing_data.head(16)"
   ]
  },
  {
   "cell_type": "code",
   "execution_count": 16,
   "id": "aquatic-twelve",
   "metadata": {
    "scrolled": true
   },
   "outputs": [
    {
     "name": "stdout",
     "output_type": "stream",
     "text": [
      "(3547, 18)\n"
     ]
    }
   ],
   "source": [
    "print(data.shape)"
   ]
  },
  {
   "cell_type": "code",
   "execution_count": 17,
   "id": "dramatic-dominican",
   "metadata": {},
   "outputs": [
    {
     "name": "stdout",
     "output_type": "stream",
     "text": [
      "<class 'pandas.core.frame.DataFrame'>\n",
      "Int64Index: 3547 entries, 0 to 16709\n",
      "Data columns (total 18 columns):\n",
      " #   Column           Non-Null Count  Dtype  \n",
      "---  ------           --------------  -----  \n",
      " 0   Name             3547 non-null   object \n",
      " 1   Platform         3547 non-null   object \n",
      " 2   Year_of_Release  3547 non-null   float64\n",
      " 3   Genre            3547 non-null   object \n",
      " 4   Publisher        3547 non-null   object \n",
      " 5   NA_Sales         3547 non-null   float64\n",
      " 6   EU_Sales         3547 non-null   float64\n",
      " 7   JP_Sales         3547 non-null   float64\n",
      " 8   Other_Sales      3547 non-null   float64\n",
      " 9   Global_Sales     3547 non-null   float64\n",
      " 10  Critic_Score     3547 non-null   float64\n",
      " 11  Critic_Count     3547 non-null   float64\n",
      " 12  User_Score       3547 non-null   object \n",
      " 13  User_Count       3547 non-null   float64\n",
      " 14  Developer        3547 non-null   object \n",
      " 15  Rating           3547 non-null   object \n",
      " 16  Has_Score        3547 non-null   bool   \n",
      " 17  Country          3547 non-null   object \n",
      "dtypes: bool(1), float64(9), object(8)\n",
      "memory usage: 502.3+ KB\n"
     ]
    }
   ],
   "source": [
    "data.info()"
   ]
  },
  {
   "cell_type": "markdown",
   "id": "pharmaceutical-costume",
   "metadata": {},
   "source": [
    "## Data Observation"
   ]
  },
  {
   "cell_type": "code",
   "execution_count": 18,
   "id": "sensitive-windows",
   "metadata": {},
   "outputs": [
    {
     "data": {
      "image/png": "[encoded data removed]",
      "text/plain": [
       "<Figure size 432x288 with 1 Axes>"
      ]
     },
     "metadata": {
      "needs_background": "light"
     },
     "output_type": "display_data"
    }
   ],
   "source": [
    "fig, ax = plt.subplots()\n",
    "ax.scatter(x = data['Critic_Score'], y = data['Global_Sales'])\n",
    "plt.ylabel('Global_Sales', fontsize=13)\n",
    "plt.xlabel('Critic_Score', fontsize=13)\n",
    "plt.show()"
   ]
  },
  {
   "cell_type": "code",
   "execution_count": 19,
   "id": "entitled-quick",
   "metadata": {},
   "outputs": [],
   "source": [
    "data = data.drop(data[data['Global_Sales']>60].index)"
   ]
  },
  {
   "cell_type": "code",
   "execution_count": 20,
   "id": "beginning-cradle",
   "metadata": {},
   "outputs": [
    {
     "data": {
      "image/png": "[encoded data removed]",
      "text/plain": [
       "<Figure size 432x288 with 1 Axes>"
      ]
     },
     "metadata": {
      "needs_background": "light"
     },
     "output_type": "display_data"
    }
   ],
   "source": [
    "fig, ax = plt.subplots()\n",
    "ax.scatter(x = data['Critic_Score'], y = data['Global_Sales'])\n",
    "plt.ylabel('Global_Sales', fontsize=13)\n",
    "plt.xlabel('Critic_Score', fontsize=13)\n",
    "plt.show()"
   ]
  },
  {
   "cell_type": "code",
   "execution_count": 21,
   "id": "headed-queens",
   "metadata": {},
   "outputs": [
    {
     "data": {
      "image/png": "[encoded data removed]",
      "text/plain": [
       "<Figure size 432x288 with 1 Axes>"
      ]
     },
     "metadata": {
      "needs_background": "light"
     },
     "output_type": "display_data"
    }
   ],
   "source": [
    "# Histogram plot of Year of release\n",
    "data = data[data[\"Year_of_Release\"].notnull()]\n",
    "data = data[data[\"Genre\"].notnull()]\n",
    "data[\"Year_of_Release\"] = data[\"Year_of_Release\"].apply(int)\n",
    "\n",
    "num_years = data[\"Year_of_Release\"].max() - data[\"Year_of_Release\"].min() + 1\n",
    "plt.hist(data[\"Year_of_Release\"], bins=num_years, color=\"lightskyblue\", edgecolor=\"black\")\n",
    "plt.title(\"Distribution of year of release\")\n",
    "plt.xlabel(\"Year_of_Release\")\n",
    "plt.ylabel(\"Number of games\");"
   ]
  },
  {
   "cell_type": "markdown",
   "id": "executed-demand",
   "metadata": {},
   "source": [
    "### Platform"
   ]
  },
  {
   "cell_type": "code",
   "execution_count": 22,
   "id": "complimentary-blanket",
   "metadata": {},
   "outputs": [],
   "source": [
    "def donut_chart(column, palette=\"Set2\"):\n",
    "    values = column.value_counts().values\n",
    "    labels = column.value_counts().index\n",
    "    plt.pie(values, colors=sns.color_palette(palette), \n",
    "            labels=labels, autopct=\"%1.1f%%\", \n",
    "            startangle=90, pctdistance=0.85)\n",
    "    #draw circle\n",
    "    centre_circle = plt.Circle((0,0), 0.70, fc=\"white\")\n",
    "    fig = plt.gcf()\n",
    "    fig.gca().add_artist(centre_circle)"
   ]
  },
  {
   "cell_type": "code",
   "execution_count": 23,
   "id": "encouraging-branch",
   "metadata": {},
   "outputs": [
    {
     "data": {
      "image/png": "[encoded data removed]",
      "text/plain": [
       "<Figure size 432x288 with 1 Axes>"
      ]
     },
     "metadata": {},
     "output_type": "display_data"
    }
   ],
   "source": [
    "donut_chart(data[\"Platform\"])\n",
    "plt.title(\"Platforms\")\n",
    "plt.axis(\"equal\");"
   ]
  },
  {
   "cell_type": "code",
   "execution_count": 24,
   "id": "indie-earth",
   "metadata": {},
   "outputs": [
    {
     "data": {
      "text/plain": [
       "array(['Wii', 'X360', 'PS3', 'PS4', 'PC', 'WiiU', 'XOne'], dtype=object)"
      ]
     },
     "execution_count": 24,
     "metadata": {},
     "output_type": "execute_result"
    }
   ],
   "source": [
    "data[\"Platform\"].unique()"
   ]
  },
  {
   "cell_type": "code",
   "execution_count": 25,
   "id": "brief-instrument",
   "metadata": {},
   "outputs": [],
   "source": [
    "platforms = {\"Playstation\" : [\"PS\", \"PS2\", \"PS3\", \"PS4\"],\n",
    "             \"Xbox\" : [\"XB\", \"X360\", \"XOne\"], \n",
    "             \"PC\" : [\"PC\"],\n",
    "             \"Nintendo\" : [\"Wii\", \"WiiU\"],\n",
    "             \"Portable\" : [\"GB\", \"GBA\", \"GC\", \"DS\", \"3DS\", \"PSP\", \"PSV\"]}"
   ]
  },
  {
   "cell_type": "code",
   "execution_count": 26,
   "id": "extensive-superior",
   "metadata": {},
   "outputs": [],
   "source": [
    "def get_group_label(x, groups=None):\n",
    "    if groups is None:\n",
    "        return \"Other\"\n",
    "    else:\n",
    "        for key, val in groups.items():\n",
    "            if x in val:\n",
    "                return key\n",
    "        return \"Other\""
   ]
  },
  {
   "cell_type": "code",
   "execution_count": 27,
   "id": "confidential-variation",
   "metadata": {},
   "outputs": [
    {
     "data": {
      "image/png": "[encoded data removed]",
      "text/plain": [
       "<Figure size 432x288 with 1 Axes>"
      ]
     },
     "metadata": {},
     "output_type": "display_data"
    }
   ],
   "source": [
    "data[\"Grouped_Platform\"] = data[\"Platform\"].apply(lambda x: get_group_label(x, groups=platforms))\n",
    "donut_chart(data[\"Grouped_Platform\"])\n",
    "plt.title(\"Groups of platforms\")\n",
    "plt.axis(\"equal\");"
   ]
  },
  {
   "cell_type": "markdown",
   "id": "swiss-residence",
   "metadata": {},
   "source": [
    "### Genre "
   ]
  },
  {
   "cell_type": "code",
   "execution_count": 28,
   "id": "double-biography",
   "metadata": {},
   "outputs": [
    {
     "data": {
      "image/png": "[encoded data removed]",
      "text/plain": [
       "<Figure size 432x288 with 1 Axes>"
      ]
     },
     "metadata": {},
     "output_type": "display_data"
    }
   ],
   "source": [
    "donut_chart(data[\"Genre\"], palette=\"muted\")\n",
    "plt.title(\"Genres\")\n",
    "plt.axis(\"equal\");"
   ]
  },
  {
   "cell_type": "markdown",
   "id": "irish-republican",
   "metadata": {},
   "source": [
    "### Distribution"
   ]
  },
  {
   "cell_type": "code",
   "execution_count": 29,
   "id": "impressed-template",
   "metadata": {},
   "outputs": [
    {
     "name": "stdout",
     "output_type": "stream",
     "text": [
      "\n",
      " mu = 0.82 and sigma = 1.89\n",
      "\n"
     ]
    },
    {
     "data": {
      "image/png": "[encoded data removed]",
      "text/plain": [
       "<Figure size 432x288 with 1 Axes>"
      ]
     },
     "metadata": {
      "needs_background": "light"
     },
     "output_type": "display_data"
    },
    {
     "data": {
      "image/png": "[encoded data removed]",
      "text/plain": [
       "<Figure size 432x288 with 1 Axes>"
      ]
     },
     "metadata": {
      "needs_background": "light"
     },
     "output_type": "display_data"
    }
   ],
   "source": [
    "sns.distplot(data['Global_Sales'] , fit=norm);\n",
    "\n",
    "# Get the fitted parameters used by the function\n",
    "(mu, sigma) = norm.fit(data['Global_Sales'])\n",
    "print( '\\n mu = {:.2f} and sigma = {:.2f}\\n'.format(mu, sigma))\n",
    "\n",
    "#Now plot the distribution\n",
    "plt.legend(['Normal dist. ($\\mu=$ {:.2f} and $\\sigma=$ {:.2f} )'.format(mu, sigma)],\n",
    "            loc='best')\n",
    "plt.ylabel('Frequency')\n",
    "plt.title('Global_Sales distribution')\n",
    "\n",
    "#Get also the QQ-plot\n",
    "fig = plt.figure()\n",
    "res = stats.probplot(data['Global_Sales'], plot=plt)\n",
    "plt.show()"
   ]
  },
  {
   "cell_type": "code",
   "execution_count": 30,
   "id": "rising-traffic",
   "metadata": {},
   "outputs": [
    {
     "name": "stdout",
     "output_type": "stream",
     "text": [
      "\n",
      " mu = 0.43 and sigma = 0.48\n",
      "\n"
     ]
    },
    {
     "data": {
      "image/png": "[encoded data removed]",
      "text/plain": [
       "<Figure size 432x288 with 1 Axes>"
      ]
     },
     "metadata": {
      "needs_background": "light"
     },
     "output_type": "display_data"
    },
    {
     "data": {
      "image/png": "[encoded data removed]",
      "text/plain": [
       "<Figure size 432x288 with 1 Axes>"
      ]
     },
     "metadata": {
      "needs_background": "light"
     },
     "output_type": "display_data"
    }
   ],
   "source": [
    "#Check the new distribution \n",
    "Y_log_transformed = np.log1p(data['Global_Sales']) #For comparison to earlier, here's the whole Y transformed\n",
    "sns.distplot(Y_log_transformed , fit=norm);\n",
    "\n",
    "# Get the fitted parameters used by the function\n",
    "(mu, sigma) = norm.fit(Y_log_transformed)\n",
    "print( '\\n mu = {:.2f} and sigma = {:.2f}\\n'.format(mu, sigma))\n",
    "\n",
    "#Now plot the distribution\n",
    "plt.legend(['Normal dist. ($\\mu=$ {:.2f} and $\\sigma=$ {:.2f} )'.format(mu, sigma)],\n",
    "            loc='best')\n",
    "plt.ylabel('Frequency')\n",
    "plt.title('Global_Sales distribution')\n",
    "\n",
    "#Get also the QQ-plot\n",
    "fig = plt.figure()\n",
    "res = stats.probplot(Y_log_transformed, plot=plt)\n",
    "plt.show()"
   ]
  },
  {
   "cell_type": "markdown",
   "id": "universal-simon",
   "metadata": {},
   "source": [
    "### Score "
   ]
  },
  {
   "cell_type": "code",
   "execution_count": 31,
   "id": "irish-teach",
   "metadata": {},
   "outputs": [
    {
     "data": {
      "text/html": [
       "<div>\n",
       "<style scoped>\n",
       "    .dataframe tbody tr th:only-of-type {\n",
       "        vertical-align: middle;\n",
       "    }\n",
       "\n",
       "    .dataframe tbody tr th {\n",
       "        vertical-align: top;\n",
       "    }\n",
       "\n",
       "    .dataframe thead th {\n",
       "        text-align: right;\n",
       "    }\n",
       "</style>\n",
       "<table border=\"1\" class=\"dataframe\">\n",
       "  <thead>\n",
       "    <tr style=\"text-align: right;\">\n",
       "      <th></th>\n",
       "      <th>Year_of_Release</th>\n",
       "      <th>NA_Sales</th>\n",
       "      <th>EU_Sales</th>\n",
       "      <th>JP_Sales</th>\n",
       "      <th>Other_Sales</th>\n",
       "      <th>Global_Sales</th>\n",
       "      <th>Critic_Score</th>\n",
       "      <th>Critic_Count</th>\n",
       "      <th>User_Count</th>\n",
       "    </tr>\n",
       "  </thead>\n",
       "  <tbody>\n",
       "    <tr>\n",
       "      <th>count</th>\n",
       "      <td>3546.000000</td>\n",
       "      <td>3546.000000</td>\n",
       "      <td>3546.000000</td>\n",
       "      <td>3546.000000</td>\n",
       "      <td>3546.000000</td>\n",
       "      <td>3546.000000</td>\n",
       "      <td>3546.000000</td>\n",
       "      <td>3546.000000</td>\n",
       "      <td>3546.000000</td>\n",
       "    </tr>\n",
       "    <tr>\n",
       "      <th>mean</th>\n",
       "      <td>2010.153976</td>\n",
       "      <td>0.416748</td>\n",
       "      <td>0.277721</td>\n",
       "      <td>0.038001</td>\n",
       "      <td>0.090457</td>\n",
       "      <td>0.823153</td>\n",
       "      <td>70.066836</td>\n",
       "      <td>32.591371</td>\n",
       "      <td>302.380993</td>\n",
       "    </tr>\n",
       "    <tr>\n",
       "      <th>std</th>\n",
       "      <td>3.181396</td>\n",
       "      <td>0.963661</td>\n",
       "      <td>0.684301</td>\n",
       "      <td>0.192394</td>\n",
       "      <td>0.213082</td>\n",
       "      <td>1.887443</td>\n",
       "      <td>14.377748</td>\n",
       "      <td>21.691457</td>\n",
       "      <td>791.196765</td>\n",
       "    </tr>\n",
       "    <tr>\n",
       "      <th>min</th>\n",
       "      <td>1985.000000</td>\n",
       "      <td>0.000000</td>\n",
       "      <td>0.000000</td>\n",
       "      <td>0.000000</td>\n",
       "      <td>0.000000</td>\n",
       "      <td>0.010000</td>\n",
       "      <td>13.000000</td>\n",
       "      <td>3.000000</td>\n",
       "      <td>4.000000</td>\n",
       "    </tr>\n",
       "    <tr>\n",
       "      <th>25%</th>\n",
       "      <td>2008.000000</td>\n",
       "      <td>0.050000</td>\n",
       "      <td>0.020000</td>\n",
       "      <td>0.000000</td>\n",
       "      <td>0.010000</td>\n",
       "      <td>0.100000</td>\n",
       "      <td>62.000000</td>\n",
       "      <td>15.000000</td>\n",
       "      <td>23.000000</td>\n",
       "    </tr>\n",
       "    <tr>\n",
       "      <th>50%</th>\n",
       "      <td>2010.000000</td>\n",
       "      <td>0.150000</td>\n",
       "      <td>0.070000</td>\n",
       "      <td>0.000000</td>\n",
       "      <td>0.030000</td>\n",
       "      <td>0.290000</td>\n",
       "      <td>73.000000</td>\n",
       "      <td>29.000000</td>\n",
       "      <td>60.000000</td>\n",
       "    </tr>\n",
       "    <tr>\n",
       "      <th>75%</th>\n",
       "      <td>2012.000000</td>\n",
       "      <td>0.410000</td>\n",
       "      <td>0.270000</td>\n",
       "      <td>0.010000</td>\n",
       "      <td>0.090000</td>\n",
       "      <td>0.830000</td>\n",
       "      <td>81.000000</td>\n",
       "      <td>46.000000</td>\n",
       "      <td>206.000000</td>\n",
       "    </tr>\n",
       "    <tr>\n",
       "      <th>max</th>\n",
       "      <td>2016.000000</td>\n",
       "      <td>15.680000</td>\n",
       "      <td>12.760000</td>\n",
       "      <td>4.700000</td>\n",
       "      <td>3.960000</td>\n",
       "      <td>35.520000</td>\n",
       "      <td>98.000000</td>\n",
       "      <td>113.000000</td>\n",
       "      <td>10665.000000</td>\n",
       "    </tr>\n",
       "  </tbody>\n",
       "</table>\n",
       "</div>"
      ],
      "text/plain": [
       "       Year_of_Release     NA_Sales     EU_Sales     JP_Sales  Other_Sales  \\\n",
       "count      3546.000000  3546.000000  3546.000000  3546.000000  3546.000000   \n",
       "mean       2010.153976     0.416748     0.277721     0.038001     0.090457   \n",
       "std           3.181396     0.963661     0.684301     0.192394     0.213082   \n",
       "min        1985.000000     0.000000     0.000000     0.000000     0.000000   \n",
       "25%        2008.000000     0.050000     0.020000     0.000000     0.010000   \n",
       "50%        2010.000000     0.150000     0.070000     0.000000     0.030000   \n",
       "75%        2012.000000     0.410000     0.270000     0.010000     0.090000   \n",
       "max        2016.000000    15.680000    12.760000     4.700000     3.960000   \n",
       "\n",
       "       Global_Sales  Critic_Score  Critic_Count    User_Count  \n",
       "count   3546.000000   3546.000000   3546.000000   3546.000000  \n",
       "mean       0.823153     70.066836     32.591371    302.380993  \n",
       "std        1.887443     14.377748     21.691457    791.196765  \n",
       "min        0.010000     13.000000      3.000000      4.000000  \n",
       "25%        0.100000     62.000000     15.000000     23.000000  \n",
       "50%        0.290000     73.000000     29.000000     60.000000  \n",
       "75%        0.830000     81.000000     46.000000    206.000000  \n",
       "max       35.520000     98.000000    113.000000  10665.000000  "
      ]
     },
     "execution_count": 31,
     "metadata": {},
     "output_type": "execute_result"
    }
   ],
   "source": [
    "scored = data.dropna(subset=[\"User_Score\", \"Critic_Score\", \"Rating\"])\n",
    "scored.describe()"
   ]
  },
  {
   "cell_type": "markdown",
   "id": "organic-check",
   "metadata": {},
   "source": [
    "> Each Developer's Average Score"
   ]
  },
  {
   "cell_type": "code",
   "execution_count": 32,
   "id": "fitting-butterfly",
   "metadata": {},
   "outputs": [
    {
     "data": {
      "text/html": [
       "<div>\n",
       "<style scoped>\n",
       "    .dataframe tbody tr th:only-of-type {\n",
       "        vertical-align: middle;\n",
       "    }\n",
       "\n",
       "    .dataframe tbody tr th {\n",
       "        vertical-align: top;\n",
       "    }\n",
       "\n",
       "    .dataframe thead th {\n",
       "        text-align: right;\n",
       "    }\n",
       "</style>\n",
       "<table border=\"1\" class=\"dataframe\">\n",
       "  <thead>\n",
       "    <tr style=\"text-align: right;\">\n",
       "      <th></th>\n",
       "      <th>dev</th>\n",
       "      <th>count</th>\n",
       "      <th>mean_score</th>\n",
       "      <th>percent</th>\n",
       "      <th>top%</th>\n",
       "      <th>top_group</th>\n",
       "    </tr>\n",
       "  </thead>\n",
       "  <tbody>\n",
       "    <tr>\n",
       "      <th>833</th>\n",
       "      <td>G.Rev</td>\n",
       "      <td>1</td>\n",
       "      <td>60.175000</td>\n",
       "      <td>0.000282</td>\n",
       "      <td>0.028201</td>\n",
       "      <td>1.0</td>\n",
       "    </tr>\n",
       "    <tr>\n",
       "      <th>611</th>\n",
       "      <td>Digital Extremes, 2K Marin</td>\n",
       "      <td>1</td>\n",
       "      <td>87.383047</td>\n",
       "      <td>0.000282</td>\n",
       "      <td>0.056402</td>\n",
       "      <td>1.0</td>\n",
       "    </tr>\n",
       "    <tr>\n",
       "      <th>612</th>\n",
       "      <td>MileStone Inc.</td>\n",
       "      <td>1</td>\n",
       "      <td>81.000000</td>\n",
       "      <td>0.000282</td>\n",
       "      <td>0.084602</td>\n",
       "      <td>1.0</td>\n",
       "    </tr>\n",
       "    <tr>\n",
       "      <th>613</th>\n",
       "      <td>Sega AM3</td>\n",
       "      <td>1</td>\n",
       "      <td>79.522388</td>\n",
       "      <td>0.000282</td>\n",
       "      <td>0.112803</td>\n",
       "      <td>1.0</td>\n",
       "    </tr>\n",
       "    <tr>\n",
       "      <th>614</th>\n",
       "      <td>EA Redwood Shores, EA Salt Lake</td>\n",
       "      <td>1</td>\n",
       "      <td>58.300000</td>\n",
       "      <td>0.000282</td>\n",
       "      <td>0.141004</td>\n",
       "      <td>1.0</td>\n",
       "    </tr>\n",
       "    <tr>\n",
       "      <th>...</th>\n",
       "      <td>...</td>\n",
       "      <td>...</td>\n",
       "      <td>...</td>\n",
       "      <td>...</td>\n",
       "      <td>...</td>\n",
       "      <td>...</td>\n",
       "    </tr>\n",
       "    <tr>\n",
       "      <th>4</th>\n",
       "      <td>EA Tiburon</td>\n",
       "      <td>50</td>\n",
       "      <td>67.404684</td>\n",
       "      <td>0.014100</td>\n",
       "      <td>92.780598</td>\n",
       "      <td>5.0</td>\n",
       "    </tr>\n",
       "    <tr>\n",
       "      <th>3</th>\n",
       "      <td>EA Sports</td>\n",
       "      <td>53</td>\n",
       "      <td>62.511749</td>\n",
       "      <td>0.014946</td>\n",
       "      <td>94.275240</td>\n",
       "      <td>5.0</td>\n",
       "    </tr>\n",
       "    <tr>\n",
       "      <th>2</th>\n",
       "      <td>Ubisoft</td>\n",
       "      <td>62</td>\n",
       "      <td>66.026416</td>\n",
       "      <td>0.017484</td>\n",
       "      <td>96.023689</td>\n",
       "      <td>5.0</td>\n",
       "    </tr>\n",
       "    <tr>\n",
       "      <th>1</th>\n",
       "      <td>Ubisoft Montreal</td>\n",
       "      <td>66</td>\n",
       "      <td>70.410822</td>\n",
       "      <td>0.018613</td>\n",
       "      <td>97.884941</td>\n",
       "      <td>5.0</td>\n",
       "    </tr>\n",
       "    <tr>\n",
       "      <th>0</th>\n",
       "      <td>EA Canada</td>\n",
       "      <td>75</td>\n",
       "      <td>69.659965</td>\n",
       "      <td>0.021151</td>\n",
       "      <td>100.000000</td>\n",
       "      <td>5.0</td>\n",
       "    </tr>\n",
       "  </tbody>\n",
       "</table>\n",
       "<p>834 rows × 6 columns</p>\n",
       "</div>"
      ],
      "text/plain": [
       "                                 dev  count  mean_score   percent        top%  \\\n",
       "833                            G.Rev      1   60.175000  0.000282    0.028201   \n",
       "611       Digital Extremes, 2K Marin      1   87.383047  0.000282    0.056402   \n",
       "612                   MileStone Inc.      1   81.000000  0.000282    0.084602   \n",
       "613                         Sega AM3      1   79.522388  0.000282    0.112803   \n",
       "614  EA Redwood Shores, EA Salt Lake      1   58.300000  0.000282    0.141004   \n",
       "..                               ...    ...         ...       ...         ...   \n",
       "4                         EA Tiburon     50   67.404684  0.014100   92.780598   \n",
       "3                          EA Sports     53   62.511749  0.014946   94.275240   \n",
       "2                            Ubisoft     62   66.026416  0.017484   96.023689   \n",
       "1                   Ubisoft Montreal     66   70.410822  0.018613   97.884941   \n",
       "0                          EA Canada     75   69.659965  0.021151  100.000000   \n",
       "\n",
       "     top_group  \n",
       "833        1.0  \n",
       "611        1.0  \n",
       "612        1.0  \n",
       "613        1.0  \n",
       "614        1.0  \n",
       "..         ...  \n",
       "4          5.0  \n",
       "3          5.0  \n",
       "2          5.0  \n",
       "1          5.0  \n",
       "0          5.0  \n",
       "\n",
       "[834 rows x 6 columns]"
      ]
     },
     "execution_count": 32,
     "metadata": {},
     "output_type": "execute_result"
    }
   ],
   "source": [
    "scored[\"User_Score\"] = scored[\"User_Score\"].replace(\"tbd\", np.nan).astype(float)\n",
    "\n",
    "scored[\"Weighted_Score\"] = (scored[\"User_Score\"] * 10 * scored[\"User_Count\"] + \n",
    "                            scored[\"Critic_Score\"] * scored[\"Critic_Count\"]) / (scored[\"User_Count\"] + scored[\"Critic_Count\"])\n",
    "\n",
    "devs = pd.DataFrame({\"dev\": scored[\"Developer\"].value_counts().index,\n",
    "                     \"count\": scored[\"Developer\"].value_counts().values})\n",
    "m_score = pd.DataFrame({\"dev\": scored.groupby(\"Developer\")[\"Weighted_Score\"].mean().index,\n",
    "                        \"mean_score\": scored.groupby(\"Developer\")[\"Weighted_Score\"].mean().values})\n",
    "devs = pd.merge(devs, m_score, on=\"dev\")\n",
    "devs = devs.sort_values(by=\"count\", ascending=True)\n",
    "devs[\"percent\"] = devs[\"count\"] / devs[\"count\"].sum()\n",
    "devs[\"top%\"] = devs[\"percent\"].cumsum() * 100\n",
    "n_groups = 5\n",
    "devs[\"top_group\"] = (devs[\"top%\"] * n_groups) // 100 + 1\n",
    "devs[\"top_group\"].iloc[-1] = n_groups\n",
    "devs"
   ]
  },
  {
   "cell_type": "code",
   "execution_count": 33,
   "id": "filled-playlist",
   "metadata": {},
   "outputs": [
    {
     "data": {
      "image/png": "[encoded data removed]",
      "text/plain": [
       "<Figure size 864x864 with 3 Axes>"
      ]
     },
     "metadata": {
      "needs_background": "light"
     },
     "output_type": "display_data"
    }
   ],
   "source": [
    "from matplotlib.lines import Line2D\n",
    "\n",
    "pal = sns.color_palette(\"RdYlGn\", n_groups)\n",
    "g = sns.JointGrid(x=\"top%\", y=\"mean_score\", data=devs, size=12)\n",
    "legend_elements = []\n",
    "for k in range(0, n_groups):\n",
    "    g.ax_joint.scatter(devs[devs[\"top_group\"]==k+1][\"top%\"], \n",
    "                       devs[devs[\"top_group\"]==k+1][\"mean_score\"],\n",
    "                       color=pal[k], alpha=.9, edgecolor=\"black\")\n",
    "    legend_elements.append(Line2D([0], [0], label=k+1, marker=\"o\", ls=\"\", \n",
    "                                  mfc=pal[k], mec=pal[k], alpha=.9, markersize=15))\n",
    "    g.ax_marg_x.bar(np.arange(k * 100 / n_groups, (k+1) * 100 / n_groups), \n",
    "                    devs[devs[\"top_group\"]==k+1].shape[0], \n",
    "                    width=1, align=\"edge\", color=pal[k], alpha=.9)\n",
    "g.ax_marg_y.hist(devs[\"mean_score\"], color=pal[-1], alpha=.9,\n",
    "                 orientation=\"horizontal\", bins=25, edgecolor=\"white\")\n",
    "g.set_axis_labels(\"Top %\", \"Mean Weighted Score\")\n",
    "g.ax_joint.tick_params(labelsize=15)\n",
    "g.ax_marg_x.grid(False)\n",
    "g.ax_marg_y.grid(False)\n",
    "#g.ax_joint.legend(handles=legend_elements, title=\"Top Group\", loc=4)\n",
    "plt.subplots_adjust(top=0.9)\n",
    "g.fig.suptitle(\"Developers\");"
   ]
  },
  {
   "cell_type": "markdown",
   "id": "gentle-plymouth",
   "metadata": {},
   "source": [
    "> Score Relation (User Score & Critic Score)"
   ]
  },
  {
   "cell_type": "code",
   "execution_count": 34,
   "id": "warming-breakfast",
   "metadata": {},
   "outputs": [
    {
     "data": {
      "image/png": "[encoded data removed]",
      "text/plain": [
       "<Figure size 720x720 with 3 Axes>"
      ]
     },
     "metadata": {
      "needs_background": "light"
     },
     "output_type": "display_data"
    }
   ],
   "source": [
    "# Replacing \"tbd\" values with np.nan and transforming column to float type\n",
    "data[\"User_Score\"] = data[\"User_Score\"].replace(\"tbd\", np.nan).astype(float)\n",
    "\n",
    "g = sns.jointplot(x=\"User_Score\", y=\"Critic_Score\", data=data, cmap=\"Blues\", kind=\"hex\", \n",
    "                  height=10)\n",
    "g.ax_marg_x.grid(False)\n",
    "g.ax_marg_y.grid(False)"
   ]
  },
  {
   "cell_type": "markdown",
   "id": "diagnostic-darwin",
   "metadata": {},
   "source": [
    "### Correlation"
   ]
  },
  {
   "cell_type": "code",
   "execution_count": 35,
   "id": "floral-mention",
   "metadata": {},
   "outputs": [
    {
     "data": {
      "text/plain": [
       "<AxesSubplot:title={'center':'Pearson Correlation of Video Game Numerical Features'}>"
      ]
     },
     "execution_count": 35,
     "metadata": {},
     "output_type": "execute_result"
    },
    {
     "data": {
      "image/png": "[encoded data removed]",
      "text/plain": [
       "<Figure size 1008x792 with 2 Axes>"
      ]
     },
     "metadata": {
      "needs_background": "light"
     },
     "output_type": "display_data"
    }
   ],
   "source": [
    "str_list = [] # empty list to contain columns with strings (words)\n",
    "for colname, colvalue in data.iteritems():\n",
    "    if type(colvalue[2]) == str:\n",
    "         str_list.append(colname)\n",
    "# Get to the numeric columns by inversion            \n",
    "num_list = data.columns.difference(str_list) \n",
    "# Create Dataframe containing only numerical features\n",
    "data_num = data[num_list]\n",
    "f, ax = plt.subplots(figsize=(14, 11))\n",
    "plt.title('Pearson Correlation of Video Game Numerical Features')\n",
    "# Draw the heatmap using seaborn\n",
    "sns.heatmap(data_num.astype(float).corr(),linewidths=0.25,vmax=1.0, \n",
    "            square=True, cmap=\"cubehelix_r\", linecolor='k', annot=True)"
   ]
  },
  {
   "cell_type": "markdown",
   "id": "beneficial-visiting",
   "metadata": {},
   "source": [
    "## Data Prediction"
   ]
  },
  {
   "cell_type": "markdown",
   "id": "joined-smile",
   "metadata": {},
   "source": [
    "For this, we need to decide, which models we will use. So, let's try:\n",
    "\n",
    "* Linear Regression\n",
    "* Lasso\n",
    "* Ridge Regression\n",
    "* Support Vector Regressor\n",
    "* Random Forest\n",
    "* Gradient Boosting Regressor"
   ]
  },
  {
   "cell_type": "markdown",
   "id": "latest-hindu",
   "metadata": {},
   "source": [
    "### Handle Categorical Data (One Hot)"
   ]
  },
  {
   "cell_type": "code",
   "execution_count": 36,
   "id": "measured-aggregate",
   "metadata": {},
   "outputs": [
    {
     "name": "stdout",
     "output_type": "stream",
     "text": [
      "(3546, 19)\n",
      "(3546, 40)\n"
     ]
    },
    {
     "data": {
      "text/plain": [
       "<bound method NDFrame.head of                                     Name  Year_of_Release  \\\n",
       "2                         Mario Kart Wii             2008   \n",
       "3                      Wii Sports Resort             2009   \n",
       "7                               Wii Play             2006   \n",
       "8              New Super Mario Bros. Wii             2009   \n",
       "13                               Wii Fit             2007   \n",
       "...                                  ...              ...   \n",
       "16664                   Prison Architect             2016   \n",
       "16696  Metal Gear Solid V: Ground Zeroes             2014   \n",
       "16700                             Breach             2011   \n",
       "16706            STORM: Frontline Nation             2011   \n",
       "16709                            15 Days             2009   \n",
       "\n",
       "                          Publisher  NA_Sales  EU_Sales  JP_Sales  \\\n",
       "2                          Nintendo     15.68     12.76      3.79   \n",
       "3                          Nintendo     15.61     10.93      3.28   \n",
       "7                          Nintendo     13.96      9.18      2.93   \n",
       "8                          Nintendo     14.44      6.94      4.70   \n",
       "13                         Nintendo      8.92      8.03      3.60   \n",
       "...                             ...       ...       ...       ...   \n",
       "16664         Introversion Software      0.01      0.00      0.00   \n",
       "16696  Konami Digital Entertainment      0.00      0.01      0.00   \n",
       "16700                     Destineer      0.01      0.00      0.00   \n",
       "16706                       Unknown      0.00      0.01      0.00   \n",
       "16709             DTP Entertainment      0.00      0.01      0.00   \n",
       "\n",
       "       Other_Sales  Global_Sales  Critic_Score  Critic_Count  ...  \\\n",
       "2             3.29         35.52          82.0          73.0  ...   \n",
       "3             2.95         32.77          80.0          73.0  ...   \n",
       "7             2.84         28.92          58.0          41.0  ...   \n",
       "8             2.24         28.32          87.0          80.0  ...   \n",
       "13            2.15         22.70          80.0          63.0  ...   \n",
       "...            ...           ...           ...           ...  ...   \n",
       "16664         0.00          0.01          74.0          13.0  ...   \n",
       "16696         0.00          0.01          80.0          20.0  ...   \n",
       "16700         0.00          0.01          61.0          12.0  ...   \n",
       "16706         0.00          0.01          60.0          12.0  ...   \n",
       "16709         0.00          0.01          63.0           6.0  ...   \n",
       "\n",
       "       Genre_Role-Playing  Genre_Shooter Genre_Simulation  Genre_Sports  \\\n",
       "2                       0              0                0             0   \n",
       "3                       0              0                0             1   \n",
       "7                       0              0                0             0   \n",
       "8                       0              0                0             0   \n",
       "13                      0              0                0             1   \n",
       "...                   ...            ...              ...           ...   \n",
       "16664                   0              0                0             0   \n",
       "16696                   0              0                0             0   \n",
       "16700                   0              1                0             0   \n",
       "16706                   0              0                0             0   \n",
       "16709                   0              0                0             0   \n",
       "\n",
       "      Genre_Strategy Rating_E  Rating_E10+  Rating_M  Rating_RP  Rating_T  \n",
       "2                  0        1            0         0          0         0  \n",
       "3                  0        1            0         0          0         0  \n",
       "7                  0        1            0         0          0         0  \n",
       "8                  0        1            0         0          0         0  \n",
       "13                 0        1            0         0          0         0  \n",
       "...              ...      ...          ...       ...        ...       ...  \n",
       "16664              0        0            0         0          0         1  \n",
       "16696              0        0            0         1          0         0  \n",
       "16700              0        0            0         0          0         1  \n",
       "16706              1        0            1         0          0         0  \n",
       "16709              0        0            0         0          0         1  \n",
       "\n",
       "[3546 rows x 40 columns]>"
      ]
     },
     "execution_count": 36,
     "metadata": {},
     "output_type": "execute_result"
    }
   ],
   "source": [
    "print(data.shape) #pre-dummies shape\n",
    "data_one_hot = pd.get_dummies(data=data, columns=['Platform', 'Genre', 'Rating'])\n",
    "print(data_one_hot.shape) #post-dummies shape\n",
    "data_one_hot.head #Check to verify that dummies are ok"
   ]
  },
  {
   "cell_type": "code",
   "execution_count": 37,
   "id": "dimensional-jewelry",
   "metadata": {
    "scrolled": true
   },
   "outputs": [
    {
     "data": {
      "text/html": [
       "<div>\n",
       "<style scoped>\n",
       "    .dataframe tbody tr th:only-of-type {\n",
       "        vertical-align: middle;\n",
       "    }\n",
       "\n",
       "    .dataframe tbody tr th {\n",
       "        vertical-align: top;\n",
       "    }\n",
       "\n",
       "    .dataframe thead th {\n",
       "        text-align: right;\n",
       "    }\n",
       "</style>\n",
       "<table border=\"1\" class=\"dataframe\">\n",
       "  <thead>\n",
       "    <tr style=\"text-align: right;\">\n",
       "      <th></th>\n",
       "      <th>Name</th>\n",
       "      <th>Year_of_Release</th>\n",
       "      <th>Publisher</th>\n",
       "      <th>NA_Sales</th>\n",
       "      <th>EU_Sales</th>\n",
       "      <th>JP_Sales</th>\n",
       "      <th>Other_Sales</th>\n",
       "      <th>Global_Sales</th>\n",
       "      <th>Critic_Score</th>\n",
       "      <th>Critic_Count</th>\n",
       "      <th>...</th>\n",
       "      <th>Genre_Role-Playing</th>\n",
       "      <th>Genre_Shooter</th>\n",
       "      <th>Genre_Simulation</th>\n",
       "      <th>Genre_Sports</th>\n",
       "      <th>Genre_Strategy</th>\n",
       "      <th>Rating_E</th>\n",
       "      <th>Rating_E10+</th>\n",
       "      <th>Rating_M</th>\n",
       "      <th>Rating_RP</th>\n",
       "      <th>Rating_T</th>\n",
       "    </tr>\n",
       "  </thead>\n",
       "  <tbody>\n",
       "    <tr>\n",
       "      <th>2</th>\n",
       "      <td>Mario Kart Wii</td>\n",
       "      <td>2008</td>\n",
       "      <td>Nintendo</td>\n",
       "      <td>15.68</td>\n",
       "      <td>12.76</td>\n",
       "      <td>3.79</td>\n",
       "      <td>3.29</td>\n",
       "      <td>35.52</td>\n",
       "      <td>82.0</td>\n",
       "      <td>73.0</td>\n",
       "      <td>...</td>\n",
       "      <td>0</td>\n",
       "      <td>0</td>\n",
       "      <td>0</td>\n",
       "      <td>0</td>\n",
       "      <td>0</td>\n",
       "      <td>1</td>\n",
       "      <td>0</td>\n",
       "      <td>0</td>\n",
       "      <td>0</td>\n",
       "      <td>0</td>\n",
       "    </tr>\n",
       "    <tr>\n",
       "      <th>3</th>\n",
       "      <td>Wii Sports Resort</td>\n",
       "      <td>2009</td>\n",
       "      <td>Nintendo</td>\n",
       "      <td>15.61</td>\n",
       "      <td>10.93</td>\n",
       "      <td>3.28</td>\n",
       "      <td>2.95</td>\n",
       "      <td>32.77</td>\n",
       "      <td>80.0</td>\n",
       "      <td>73.0</td>\n",
       "      <td>...</td>\n",
       "      <td>0</td>\n",
       "      <td>0</td>\n",
       "      <td>0</td>\n",
       "      <td>1</td>\n",
       "      <td>0</td>\n",
       "      <td>1</td>\n",
       "      <td>0</td>\n",
       "      <td>0</td>\n",
       "      <td>0</td>\n",
       "      <td>0</td>\n",
       "    </tr>\n",
       "    <tr>\n",
       "      <th>7</th>\n",
       "      <td>Wii Play</td>\n",
       "      <td>2006</td>\n",
       "      <td>Nintendo</td>\n",
       "      <td>13.96</td>\n",
       "      <td>9.18</td>\n",
       "      <td>2.93</td>\n",
       "      <td>2.84</td>\n",
       "      <td>28.92</td>\n",
       "      <td>58.0</td>\n",
       "      <td>41.0</td>\n",
       "      <td>...</td>\n",
       "      <td>0</td>\n",
       "      <td>0</td>\n",
       "      <td>0</td>\n",
       "      <td>0</td>\n",
       "      <td>0</td>\n",
       "      <td>1</td>\n",
       "      <td>0</td>\n",
       "      <td>0</td>\n",
       "      <td>0</td>\n",
       "      <td>0</td>\n",
       "    </tr>\n",
       "    <tr>\n",
       "      <th>8</th>\n",
       "      <td>New Super Mario Bros. Wii</td>\n",
       "      <td>2009</td>\n",
       "      <td>Nintendo</td>\n",
       "      <td>14.44</td>\n",
       "      <td>6.94</td>\n",
       "      <td>4.70</td>\n",
       "      <td>2.24</td>\n",
       "      <td>28.32</td>\n",
       "      <td>87.0</td>\n",
       "      <td>80.0</td>\n",
       "      <td>...</td>\n",
       "      <td>0</td>\n",
       "      <td>0</td>\n",
       "      <td>0</td>\n",
       "      <td>0</td>\n",
       "      <td>0</td>\n",
       "      <td>1</td>\n",
       "      <td>0</td>\n",
       "      <td>0</td>\n",
       "      <td>0</td>\n",
       "      <td>0</td>\n",
       "    </tr>\n",
       "    <tr>\n",
       "      <th>13</th>\n",
       "      <td>Wii Fit</td>\n",
       "      <td>2007</td>\n",
       "      <td>Nintendo</td>\n",
       "      <td>8.92</td>\n",
       "      <td>8.03</td>\n",
       "      <td>3.60</td>\n",
       "      <td>2.15</td>\n",
       "      <td>22.70</td>\n",
       "      <td>80.0</td>\n",
       "      <td>63.0</td>\n",
       "      <td>...</td>\n",
       "      <td>0</td>\n",
       "      <td>0</td>\n",
       "      <td>0</td>\n",
       "      <td>1</td>\n",
       "      <td>0</td>\n",
       "      <td>1</td>\n",
       "      <td>0</td>\n",
       "      <td>0</td>\n",
       "      <td>0</td>\n",
       "      <td>0</td>\n",
       "    </tr>\n",
       "  </tbody>\n",
       "</table>\n",
       "<p>5 rows × 40 columns</p>\n",
       "</div>"
      ],
      "text/plain": [
       "                         Name  Year_of_Release Publisher  NA_Sales  EU_Sales  \\\n",
       "2              Mario Kart Wii             2008  Nintendo     15.68     12.76   \n",
       "3           Wii Sports Resort             2009  Nintendo     15.61     10.93   \n",
       "7                    Wii Play             2006  Nintendo     13.96      9.18   \n",
       "8   New Super Mario Bros. Wii             2009  Nintendo     14.44      6.94   \n",
       "13                    Wii Fit             2007  Nintendo      8.92      8.03   \n",
       "\n",
       "    JP_Sales  Other_Sales  Global_Sales  Critic_Score  Critic_Count  ...  \\\n",
       "2       3.79         3.29         35.52          82.0          73.0  ...   \n",
       "3       3.28         2.95         32.77          80.0          73.0  ...   \n",
       "7       2.93         2.84         28.92          58.0          41.0  ...   \n",
       "8       4.70         2.24         28.32          87.0          80.0  ...   \n",
       "13      3.60         2.15         22.70          80.0          63.0  ...   \n",
       "\n",
       "    Genre_Role-Playing  Genre_Shooter Genre_Simulation  Genre_Sports  \\\n",
       "2                    0              0                0             0   \n",
       "3                    0              0                0             1   \n",
       "7                    0              0                0             0   \n",
       "8                    0              0                0             0   \n",
       "13                   0              0                0             1   \n",
       "\n",
       "   Genre_Strategy Rating_E  Rating_E10+  Rating_M  Rating_RP  Rating_T  \n",
       "2               0        1            0         0          0         0  \n",
       "3               0        1            0         0          0         0  \n",
       "7               0        1            0         0          0         0  \n",
       "8               0        1            0         0          0         0  \n",
       "13              0        1            0         0          0         0  \n",
       "\n",
       "[5 rows x 40 columns]"
      ]
     },
     "execution_count": 37,
     "metadata": {},
     "output_type": "execute_result"
    }
   ],
   "source": [
    "data_one_hot.head(5)"
   ]
  },
  {
   "cell_type": "code",
   "execution_count": 38,
   "id": "controlling-stream",
   "metadata": {},
   "outputs": [],
   "source": [
    "data_one_hot = data_one_hot.drop(['Name', 'Publisher', 'Developer', 'NA_Sales', 'EU_Sales', 'JP_Sales', 'Other_Sales', 'Has_Score', 'Country', 'Grouped_Platform'], axis=1)"
   ]
  },
  {
   "cell_type": "code",
   "execution_count": 39,
   "id": "broad-petersburg",
   "metadata": {},
   "outputs": [
    {
     "name": "stdout",
     "output_type": "stream",
     "text": [
      "Index(['Year_of_Release', 'Global_Sales', 'Critic_Score', 'Critic_Count',\n",
      "       'User_Score', 'User_Count', 'Platform_PC', 'Platform_PS3',\n",
      "       'Platform_PS4', 'Platform_Wii', 'Platform_WiiU', 'Platform_X360',\n",
      "       'Platform_XOne', 'Genre_Action', 'Genre_Adventure', 'Genre_Fighting',\n",
      "       'Genre_Misc', 'Genre_Platform', 'Genre_Puzzle', 'Genre_Racing',\n",
      "       'Genre_Role-Playing', 'Genre_Shooter', 'Genre_Simulation',\n",
      "       'Genre_Sports', 'Genre_Strategy', 'Rating_E', 'Rating_E10+', 'Rating_M',\n",
      "       'Rating_RP', 'Rating_T'],\n",
      "      dtype='object')\n",
      "(3546, 29)\n",
      "(3546, 1)\n"
     ]
    }
   ],
   "source": [
    "print(data_one_hot.columns) #easy to copy-paste the values to rearrange from here\n",
    "\n",
    "X = data_one_hot[['Year_of_Release', 'Critic_Score', 'Critic_Count',\n",
    "       'User_Score', 'User_Count', 'Platform_PC', 'Platform_PS3',\n",
    "       'Platform_PS4', 'Platform_Wii', 'Platform_WiiU', 'Platform_X360',\n",
    "       'Platform_XOne', 'Genre_Action', 'Genre_Adventure', 'Genre_Fighting',\n",
    "       'Genre_Misc', 'Genre_Platform', 'Genre_Puzzle', 'Genre_Racing',\n",
    "       'Genre_Role-Playing', 'Genre_Shooter', 'Genre_Simulation',\n",
    "       'Genre_Sports', 'Genre_Strategy', 'Rating_E', 'Rating_E10+', 'Rating_M',\n",
    "       'Rating_RP', 'Rating_T']]\n",
    "\n",
    "Y = data_one_hot[['Global_Sales']]\n",
    "\n",
    "#Double checking the shape\n",
    "print(X.shape)\n",
    "print(Y.shape)"
   ]
  },
  {
   "cell_type": "code",
   "execution_count": 40,
   "id": "suffering-logistics",
   "metadata": {},
   "outputs": [
    {
     "name": "stdout",
     "output_type": "stream",
     "text": [
      "X_train shape: (2659, 29)\n",
      "Y_train shape: (2659, 1)\n",
      "X_test shape: (887, 29)\n",
      "Y_test shape: (887, 1)\n"
     ]
    }
   ],
   "source": [
    "from sklearn.model_selection import train_test_split\n",
    "\n",
    "X_train, X_test, Y_train, Y_test = train_test_split(X, Y, random_state=42)\n",
    "\n",
    "#Let's check the shape of the split data as a precaution\n",
    "print(\"X_train shape: {}\".format(X_train.shape))\n",
    "print(\"Y_train shape: {}\".format(Y_train.shape))\n",
    "\n",
    "print(\"X_test shape: {}\".format(X_test.shape))\n",
    "print(\"Y_test shape: {}\".format(Y_test.shape))"
   ]
  },
  {
   "cell_type": "code",
   "execution_count": 41,
   "id": "gentle-basketball",
   "metadata": {},
   "outputs": [],
   "source": [
    "#We use the numpy fuction log1p which  applies log(1+x) to all elements of the column\n",
    "Y_train = np.log1p(Y_train)\n",
    "Y_test = np.log1p(Y_test)"
   ]
  },
  {
   "cell_type": "markdown",
   "id": "substantial-smith",
   "metadata": {},
   "source": [
    "### Prepare Parameter "
   ]
  },
  {
   "cell_type": "code",
   "execution_count": 42,
   "id": "floppy-bristol",
   "metadata": {},
   "outputs": [],
   "source": [
    "#No grid to define for vanilla linear regression\n",
    "param_grid_lr = [\n",
    "    {}\n",
    "]\n",
    "\n",
    "#Parameter grid for lasso\n",
    "param_grid_lasso = [\n",
    "    {'alpha': [10, 1, 0.1, 0.01, 0.001, 0.0001], 'max_iter': [1000000, 100000, 10000, 1000]}\n",
    "]\n",
    "\n",
    "#Parameter grid for Ridge Regression\n",
    "param_grid_rr = [\n",
    "    {'alpha': [100, 10, 1, 0.1, 0.01, 0.001]}\n",
    "]\n",
    "\n",
    "#Parameter grid for Support Vector Regressor\n",
    "param_grid_svr = [\n",
    "    {'C': [0.01, 0.1, 1, 10], 'gamma': [0.0001, 0.001, 0.01, 0.1, 1],\n",
    "     'kernel': ['rbf']}\n",
    "]\n",
    "\n",
    "#Parameter grid for Random Forest\n",
    "param_grid_rf = [\n",
    "    {'n_estimators': [3, 10, 30, 50, 70], 'max_features': [2,4,6,8,10,12], 'max_depth': [2, 3, 5, 7, 9]}\n",
    "]\n",
    "\n",
    "#Parameter grid for Gradient Boosting Regressor\n",
    "param_grid_gbr = [\n",
    "    {'n_estimators': [200, 225, 250, 275], 'max_features': [6, 8, 10, 12], 'max_depth': [5, 7, 9]}\n",
    "]"
   ]
  },
  {
   "cell_type": "code",
   "execution_count": 43,
   "id": "departmental-newport",
   "metadata": {},
   "outputs": [
    {
     "name": "stdout",
     "output_type": "stream",
     "text": [
      "Best parameters: {}\n",
      "Best cross-validation score: 0.41\n",
      "Test set score: 0.43\n"
     ]
    }
   ],
   "source": [
    "from sklearn.linear_model import LinearRegression\n",
    "from sklearn.model_selection import GridSearchCV\n",
    "\n",
    "grid_search_lr = GridSearchCV(LinearRegression(), param_grid_lr, scoring='neg_mean_squared_error',  cv=5)\n",
    "grid_search_lr.fit(X_train, Y_train)\n",
    "print(\"Best parameters: {}\".format(grid_search_lr.best_params_))\n",
    "lr_best_cross_val_score = (np.sqrt(-grid_search_lr.best_score_))\n",
    "print(\"Best cross-validation score: {:.2f}\".format(np.expm1(lr_best_cross_val_score)))\n",
    "lr_score = np.sqrt(-grid_search_lr.score(X_test, Y_test))\n",
    "print(\"Test set score: {:.2f}\".format(np.expm1(lr_score)))"
   ]
  },
  {
   "cell_type": "code",
   "execution_count": 44,
   "id": "social-enlargement",
   "metadata": {},
   "outputs": [
    {
     "name": "stdout",
     "output_type": "stream",
     "text": [
      "Best parameters: {'alpha': 0.0001, 'max_iter': 1000000}\n",
      "Best cross-validation score: 0.41\n",
      "Test set score: 0.43\n"
     ]
    }
   ],
   "source": [
    "from sklearn.linear_model import Lasso\n",
    "\n",
    "grid_search_lasso = GridSearchCV(Lasso(), param_grid_lasso, cv=5, scoring='neg_mean_squared_error')\n",
    "grid_search_lasso.fit(X_train, Y_train)\n",
    "print(\"Best parameters: {}\".format(grid_search_lasso.best_params_))\n",
    "lasso_best_cross_val_score = (np.sqrt(-grid_search_lasso.best_score_))\n",
    "print(\"Best cross-validation score: {:.2f}\".format(np.expm1(lasso_best_cross_val_score)))\n",
    "lasso_score = np.sqrt(-grid_search_lasso.score(X_test, Y_test))\n",
    "print(\"Test set score: {:.2f}\".format(np.expm1(lasso_score)))"
   ]
  },
  {
   "cell_type": "code",
   "execution_count": 45,
   "id": "electric-forestry",
   "metadata": {},
   "outputs": [
    {
     "name": "stdout",
     "output_type": "stream",
     "text": [
      "Best parameters: {'alpha': 10}\n",
      "Best cross-validation score: 0.41\n",
      "Test set score: 0.43\n"
     ]
    }
   ],
   "source": [
    "from sklearn.linear_model import Ridge\n",
    "\n",
    "grid_search_rr = GridSearchCV(Ridge(), param_grid_rr, cv=5, scoring='neg_mean_squared_error')\n",
    "grid_search_rr.fit(X_train, Y_train)\n",
    "print(\"Best parameters: {}\".format(grid_search_rr.best_params_))\n",
    "rr_best_cross_val_score = (np.sqrt(-grid_search_rr.best_score_))\n",
    "print(\"Best cross-validation score: {:.2f}\".format(np.expm1(rr_best_cross_val_score)))\n",
    "rr_score = np.sqrt(-grid_search_rr.score(X_test, Y_test))\n",
    "print(\"Test set score: {:.2f}\".format(np.expm1(rr_score)))"
   ]
  },
  {
   "cell_type": "code",
   "execution_count": 46,
   "id": "introductory-rochester",
   "metadata": {},
   "outputs": [
    {
     "name": "stdout",
     "output_type": "stream",
     "text": [
      "Best parameters: {'C': 10, 'gamma': 0.0001, 'kernel': 'rbf'}\n",
      "Best cross-validation score: 0.47\n",
      "Test set score: 0.50\n"
     ]
    }
   ],
   "source": [
    "from sklearn.svm import SVR\n",
    "\n",
    "grid_search_svr = GridSearchCV(SVR(), param_grid_svr, cv=5, scoring='neg_mean_squared_error')\n",
    "grid_search_svr.fit(X_train, Y_train)\n",
    "print(\"Best parameters: {}\".format(grid_search_svr.best_params_))\n",
    "svr_best_cross_val_score = (np.sqrt(-grid_search_svr.best_score_))\n",
    "print(\"Best cross-validation score: {:.2f}\".format(np.expm1(svr_best_cross_val_score)))\n",
    "svr_score = np.sqrt(-grid_search_svr.score(X_test, Y_test))\n",
    "print(\"Test set score: {:.2f}\".format(np.expm1(svr_score)))"
   ]
  },
  {
   "cell_type": "code",
   "execution_count": 47,
   "id": "consolidated-probability",
   "metadata": {},
   "outputs": [
    {
     "name": "stdout",
     "output_type": "stream",
     "text": [
      "Best parameters: {'max_depth': 9, 'max_features': 8, 'n_estimators': 70}\n",
      "Best cross-validation score: 0.34\n",
      "Test set score: 0.37\n"
     ]
    }
   ],
   "source": [
    "from sklearn.ensemble import RandomForestRegressor\n",
    "\n",
    "grid_search_rf = GridSearchCV(RandomForestRegressor(), param_grid_rf, cv=5, scoring='neg_mean_squared_error')\n",
    "grid_search_rf.fit(X_train, Y_train)\n",
    "print(\"Best parameters: {}\".format(grid_search_rf.best_params_))\n",
    "rf_best_cross_val_score = (np.sqrt(-grid_search_rf.best_score_))\n",
    "print(\"Best cross-validation score: {:.2f}\".format(np.expm1(rf_best_cross_val_score)))\n",
    "rf_score = np.sqrt(-grid_search_rf.score(X_test, Y_test))\n",
    "print(\"Test set score: {:.2f}\".format(np.expm1(rf_score)))"
   ]
  },
  {
   "cell_type": "code",
   "execution_count": 48,
   "id": "placed-academy",
   "metadata": {},
   "outputs": [
    {
     "name": "stdout",
     "output_type": "stream",
     "text": [
      "Best parameters: {'max_depth': 5, 'max_features': 6, 'n_estimators': 225}\n",
      "Best cross-validation score: 0.32\n",
      "Test set score: 0.33\n"
     ]
    }
   ],
   "source": [
    "from sklearn.ensemble import GradientBoostingRegressor\n",
    "\n",
    "grid_search_gbr = GridSearchCV(GradientBoostingRegressor(), param_grid_gbr, cv=5, scoring='neg_mean_squared_error')\n",
    "grid_search_gbr.fit(X_train, Y_train)\n",
    "print(\"Best parameters: {}\".format(grid_search_gbr.best_params_))\n",
    "gbr_best_cross_val_score = (np.sqrt(-grid_search_gbr.best_score_))\n",
    "print(\"Best cross-validation score: {:.2f}\".format(np.expm1(gbr_best_cross_val_score)))\n",
    "gbr_score = np.sqrt(-grid_search_gbr.score(X_test, Y_test))\n",
    "print(\"Test set score: {:.2f}\".format(np.expm1(gbr_score)))"
   ]
  },
  {
   "cell_type": "markdown",
   "id": "acknowledged-collapse",
   "metadata": {},
   "source": [
    "### Error Comparison"
   ]
  },
  {
   "cell_type": "code",
   "execution_count": 49,
   "id": "economic-brunswick",
   "metadata": {},
   "outputs": [
    {
     "data": {
      "image/png": "[encoded data removed]",
      "text/plain": [
       "<Figure size 432x288 with 1 Axes>"
      ]
     },
     "metadata": {
      "needs_background": "light"
     },
     "output_type": "display_data"
    }
   ],
   "source": [
    "model_comparison = pd.DataFrame({\"model\": [\"Linear Regression\", \"Lasso Regression\", \"Support Vector Machine\",\n",
    "                                           \"Random Forest\", \"Gradient Boosting\", \"Ridge Regression\"],\n",
    "                                 \"rmse\": [lr_best_cross_val_score, lasso_best_cross_val_score, svr_best_cross_val_score, \n",
    "                                          rf_best_cross_val_score, gbr_best_cross_val_score, rr_best_cross_val_score]})\n",
    "\n",
    "model_comparison.sort_values(\"rmse\", ascending=False).plot(x=\"model\", y=\"rmse\", kind=\"barh\",\n",
    "                                                           color=\"lightskyblue\", legend=False)\n",
    "plt.ylabel(\"\"); plt.yticks(size=14); plt.xlabel(\"Root Mean Square Error\"); plt.xticks(size=14)\n",
    "plt.title(\"Model Comparison on Test RMSE\", size=20);"
   ]
  },
  {
   "cell_type": "markdown",
   "id": "prepared-sphere",
   "metadata": {},
   "source": [
    "## Improved Version: Adding Developer & Publisher Column <= Binary Encoding"
   ]
  },
  {
   "cell_type": "code",
   "execution_count": 50,
   "id": "weird-funds",
   "metadata": {},
   "outputs": [
    {
     "data": {
      "text/html": [
       "<div>\n",
       "<style scoped>\n",
       "    .dataframe tbody tr th:only-of-type {\n",
       "        vertical-align: middle;\n",
       "    }\n",
       "\n",
       "    .dataframe tbody tr th {\n",
       "        vertical-align: top;\n",
       "    }\n",
       "\n",
       "    .dataframe thead th {\n",
       "        text-align: right;\n",
       "    }\n",
       "</style>\n",
       "<table border=\"1\" class=\"dataframe\">\n",
       "  <thead>\n",
       "    <tr style=\"text-align: right;\">\n",
       "      <th></th>\n",
       "      <th>Platform</th>\n",
       "      <th>Year_of_Release</th>\n",
       "      <th>Genre</th>\n",
       "      <th>Publisher</th>\n",
       "      <th>Global_Sales</th>\n",
       "      <th>Critic_Score</th>\n",
       "      <th>Critic_Count</th>\n",
       "      <th>User_Score</th>\n",
       "      <th>User_Count</th>\n",
       "      <th>Developer</th>\n",
       "      <th>Rating</th>\n",
       "    </tr>\n",
       "  </thead>\n",
       "  <tbody>\n",
       "    <tr>\n",
       "      <th>2</th>\n",
       "      <td>Wii</td>\n",
       "      <td>2008</td>\n",
       "      <td>Racing</td>\n",
       "      <td>Nintendo</td>\n",
       "      <td>35.52</td>\n",
       "      <td>82.0</td>\n",
       "      <td>73.0</td>\n",
       "      <td>8.3</td>\n",
       "      <td>709.0</td>\n",
       "      <td>Nintendo</td>\n",
       "      <td>E</td>\n",
       "    </tr>\n",
       "    <tr>\n",
       "      <th>3</th>\n",
       "      <td>Wii</td>\n",
       "      <td>2009</td>\n",
       "      <td>Sports</td>\n",
       "      <td>Nintendo</td>\n",
       "      <td>32.77</td>\n",
       "      <td>80.0</td>\n",
       "      <td>73.0</td>\n",
       "      <td>8.0</td>\n",
       "      <td>192.0</td>\n",
       "      <td>Nintendo</td>\n",
       "      <td>E</td>\n",
       "    </tr>\n",
       "    <tr>\n",
       "      <th>7</th>\n",
       "      <td>Wii</td>\n",
       "      <td>2006</td>\n",
       "      <td>Misc</td>\n",
       "      <td>Nintendo</td>\n",
       "      <td>28.92</td>\n",
       "      <td>58.0</td>\n",
       "      <td>41.0</td>\n",
       "      <td>6.6</td>\n",
       "      <td>129.0</td>\n",
       "      <td>Nintendo</td>\n",
       "      <td>E</td>\n",
       "    </tr>\n",
       "    <tr>\n",
       "      <th>8</th>\n",
       "      <td>Wii</td>\n",
       "      <td>2009</td>\n",
       "      <td>Platform</td>\n",
       "      <td>Nintendo</td>\n",
       "      <td>28.32</td>\n",
       "      <td>87.0</td>\n",
       "      <td>80.0</td>\n",
       "      <td>8.4</td>\n",
       "      <td>594.0</td>\n",
       "      <td>Nintendo</td>\n",
       "      <td>E</td>\n",
       "    </tr>\n",
       "    <tr>\n",
       "      <th>13</th>\n",
       "      <td>Wii</td>\n",
       "      <td>2007</td>\n",
       "      <td>Sports</td>\n",
       "      <td>Nintendo</td>\n",
       "      <td>22.70</td>\n",
       "      <td>80.0</td>\n",
       "      <td>63.0</td>\n",
       "      <td>7.7</td>\n",
       "      <td>146.0</td>\n",
       "      <td>Nintendo</td>\n",
       "      <td>E</td>\n",
       "    </tr>\n",
       "    <tr>\n",
       "      <th>...</th>\n",
       "      <td>...</td>\n",
       "      <td>...</td>\n",
       "      <td>...</td>\n",
       "      <td>...</td>\n",
       "      <td>...</td>\n",
       "      <td>...</td>\n",
       "      <td>...</td>\n",
       "      <td>...</td>\n",
       "      <td>...</td>\n",
       "      <td>...</td>\n",
       "      <td>...</td>\n",
       "    </tr>\n",
       "    <tr>\n",
       "      <th>16664</th>\n",
       "      <td>XOne</td>\n",
       "      <td>2016</td>\n",
       "      <td>Action</td>\n",
       "      <td>Introversion Software</td>\n",
       "      <td>0.01</td>\n",
       "      <td>74.0</td>\n",
       "      <td>13.0</td>\n",
       "      <td>6.7</td>\n",
       "      <td>7.0</td>\n",
       "      <td>Introversion, Double Eleven</td>\n",
       "      <td>T</td>\n",
       "    </tr>\n",
       "    <tr>\n",
       "      <th>16696</th>\n",
       "      <td>PC</td>\n",
       "      <td>2014</td>\n",
       "      <td>Action</td>\n",
       "      <td>Konami Digital Entertainment</td>\n",
       "      <td>0.01</td>\n",
       "      <td>80.0</td>\n",
       "      <td>20.0</td>\n",
       "      <td>7.6</td>\n",
       "      <td>412.0</td>\n",
       "      <td>Kojima Productions</td>\n",
       "      <td>M</td>\n",
       "    </tr>\n",
       "    <tr>\n",
       "      <th>16700</th>\n",
       "      <td>PC</td>\n",
       "      <td>2011</td>\n",
       "      <td>Shooter</td>\n",
       "      <td>Destineer</td>\n",
       "      <td>0.01</td>\n",
       "      <td>61.0</td>\n",
       "      <td>12.0</td>\n",
       "      <td>5.8</td>\n",
       "      <td>43.0</td>\n",
       "      <td>Atomic Games</td>\n",
       "      <td>T</td>\n",
       "    </tr>\n",
       "    <tr>\n",
       "      <th>16706</th>\n",
       "      <td>PC</td>\n",
       "      <td>2011</td>\n",
       "      <td>Strategy</td>\n",
       "      <td>Unknown</td>\n",
       "      <td>0.01</td>\n",
       "      <td>60.0</td>\n",
       "      <td>12.0</td>\n",
       "      <td>7.2</td>\n",
       "      <td>13.0</td>\n",
       "      <td>SimBin</td>\n",
       "      <td>E10+</td>\n",
       "    </tr>\n",
       "    <tr>\n",
       "      <th>16709</th>\n",
       "      <td>PC</td>\n",
       "      <td>2009</td>\n",
       "      <td>Adventure</td>\n",
       "      <td>DTP Entertainment</td>\n",
       "      <td>0.01</td>\n",
       "      <td>63.0</td>\n",
       "      <td>6.0</td>\n",
       "      <td>5.8</td>\n",
       "      <td>8.0</td>\n",
       "      <td>DTP Entertainment</td>\n",
       "      <td>T</td>\n",
       "    </tr>\n",
       "  </tbody>\n",
       "</table>\n",
       "<p>3546 rows × 11 columns</p>\n",
       "</div>"
      ],
      "text/plain": [
       "      Platform  Year_of_Release      Genre                     Publisher  \\\n",
       "2          Wii             2008     Racing                      Nintendo   \n",
       "3          Wii             2009     Sports                      Nintendo   \n",
       "7          Wii             2006       Misc                      Nintendo   \n",
       "8          Wii             2009   Platform                      Nintendo   \n",
       "13         Wii             2007     Sports                      Nintendo   \n",
       "...        ...              ...        ...                           ...   \n",
       "16664     XOne             2016     Action         Introversion Software   \n",
       "16696       PC             2014     Action  Konami Digital Entertainment   \n",
       "16700       PC             2011    Shooter                     Destineer   \n",
       "16706       PC             2011   Strategy                       Unknown   \n",
       "16709       PC             2009  Adventure             DTP Entertainment   \n",
       "\n",
       "       Global_Sales  Critic_Score  Critic_Count  User_Score  User_Count  \\\n",
       "2             35.52          82.0          73.0         8.3       709.0   \n",
       "3             32.77          80.0          73.0         8.0       192.0   \n",
       "7             28.92          58.0          41.0         6.6       129.0   \n",
       "8             28.32          87.0          80.0         8.4       594.0   \n",
       "13            22.70          80.0          63.0         7.7       146.0   \n",
       "...             ...           ...           ...         ...         ...   \n",
       "16664          0.01          74.0          13.0         6.7         7.0   \n",
       "16696          0.01          80.0          20.0         7.6       412.0   \n",
       "16700          0.01          61.0          12.0         5.8        43.0   \n",
       "16706          0.01          60.0          12.0         7.2        13.0   \n",
       "16709          0.01          63.0           6.0         5.8         8.0   \n",
       "\n",
       "                         Developer Rating  \n",
       "2                         Nintendo      E  \n",
       "3                         Nintendo      E  \n",
       "7                         Nintendo      E  \n",
       "8                         Nintendo      E  \n",
       "13                        Nintendo      E  \n",
       "...                            ...    ...  \n",
       "16664  Introversion, Double Eleven      T  \n",
       "16696           Kojima Productions      M  \n",
       "16700                 Atomic Games      T  \n",
       "16706                       SimBin   E10+  \n",
       "16709            DTP Entertainment      T  \n",
       "\n",
       "[3546 rows x 11 columns]"
      ]
     },
     "execution_count": 50,
     "metadata": {},
     "output_type": "execute_result"
    }
   ],
   "source": [
    "data_improve = data.copy()\n",
    "data_improve = data_improve.drop(['Name', 'NA_Sales', 'EU_Sales', 'JP_Sales', 'Other_Sales', 'Has_Score', 'Country', 'Grouped_Platform'], axis=1)\n",
    "data_improve"
   ]
  },
  {
   "cell_type": "code",
   "execution_count": 51,
   "id": "occasional-malaysia",
   "metadata": {},
   "outputs": [
    {
     "data": {
      "text/html": [
       "<div>\n",
       "<style scoped>\n",
       "    .dataframe tbody tr th:only-of-type {\n",
       "        vertical-align: middle;\n",
       "    }\n",
       "\n",
       "    .dataframe tbody tr th {\n",
       "        vertical-align: top;\n",
       "    }\n",
       "\n",
       "    .dataframe thead th {\n",
       "        text-align: right;\n",
       "    }\n",
       "</style>\n",
       "<table border=\"1\" class=\"dataframe\">\n",
       "  <thead>\n",
       "    <tr style=\"text-align: right;\">\n",
       "      <th></th>\n",
       "      <th>Platform</th>\n",
       "      <th>Year_of_Release</th>\n",
       "      <th>Genre</th>\n",
       "      <th>Publisher</th>\n",
       "      <th>Global_Sales</th>\n",
       "      <th>Critic_Score</th>\n",
       "      <th>Critic_Count</th>\n",
       "      <th>User_Score</th>\n",
       "      <th>User_Count</th>\n",
       "      <th>Developer</th>\n",
       "      <th>...</th>\n",
       "      <th>Developer_1</th>\n",
       "      <th>Developer_2</th>\n",
       "      <th>Developer_3</th>\n",
       "      <th>Developer_4</th>\n",
       "      <th>Developer_5</th>\n",
       "      <th>Developer_6</th>\n",
       "      <th>Developer_7</th>\n",
       "      <th>Developer_8</th>\n",
       "      <th>Developer_9</th>\n",
       "      <th>Developer_10</th>\n",
       "    </tr>\n",
       "  </thead>\n",
       "  <tbody>\n",
       "    <tr>\n",
       "      <th>2</th>\n",
       "      <td>Wii</td>\n",
       "      <td>2008</td>\n",
       "      <td>Racing</td>\n",
       "      <td>Nintendo</td>\n",
       "      <td>35.52</td>\n",
       "      <td>82.0</td>\n",
       "      <td>73.0</td>\n",
       "      <td>8.3</td>\n",
       "      <td>709.0</td>\n",
       "      <td>Nintendo</td>\n",
       "      <td>...</td>\n",
       "      <td>0</td>\n",
       "      <td>0</td>\n",
       "      <td>0</td>\n",
       "      <td>0</td>\n",
       "      <td>0</td>\n",
       "      <td>0</td>\n",
       "      <td>0</td>\n",
       "      <td>0</td>\n",
       "      <td>0</td>\n",
       "      <td>1</td>\n",
       "    </tr>\n",
       "    <tr>\n",
       "      <th>3</th>\n",
       "      <td>Wii</td>\n",
       "      <td>2009</td>\n",
       "      <td>Sports</td>\n",
       "      <td>Nintendo</td>\n",
       "      <td>32.77</td>\n",
       "      <td>80.0</td>\n",
       "      <td>73.0</td>\n",
       "      <td>8.0</td>\n",
       "      <td>192.0</td>\n",
       "      <td>Nintendo</td>\n",
       "      <td>...</td>\n",
       "      <td>0</td>\n",
       "      <td>0</td>\n",
       "      <td>0</td>\n",
       "      <td>0</td>\n",
       "      <td>0</td>\n",
       "      <td>0</td>\n",
       "      <td>0</td>\n",
       "      <td>0</td>\n",
       "      <td>0</td>\n",
       "      <td>1</td>\n",
       "    </tr>\n",
       "    <tr>\n",
       "      <th>7</th>\n",
       "      <td>Wii</td>\n",
       "      <td>2006</td>\n",
       "      <td>Misc</td>\n",
       "      <td>Nintendo</td>\n",
       "      <td>28.92</td>\n",
       "      <td>58.0</td>\n",
       "      <td>41.0</td>\n",
       "      <td>6.6</td>\n",
       "      <td>129.0</td>\n",
       "      <td>Nintendo</td>\n",
       "      <td>...</td>\n",
       "      <td>0</td>\n",
       "      <td>0</td>\n",
       "      <td>0</td>\n",
       "      <td>0</td>\n",
       "      <td>0</td>\n",
       "      <td>0</td>\n",
       "      <td>0</td>\n",
       "      <td>0</td>\n",
       "      <td>0</td>\n",
       "      <td>1</td>\n",
       "    </tr>\n",
       "    <tr>\n",
       "      <th>8</th>\n",
       "      <td>Wii</td>\n",
       "      <td>2009</td>\n",
       "      <td>Platform</td>\n",
       "      <td>Nintendo</td>\n",
       "      <td>28.32</td>\n",
       "      <td>87.0</td>\n",
       "      <td>80.0</td>\n",
       "      <td>8.4</td>\n",
       "      <td>594.0</td>\n",
       "      <td>Nintendo</td>\n",
       "      <td>...</td>\n",
       "      <td>0</td>\n",
       "      <td>0</td>\n",
       "      <td>0</td>\n",
       "      <td>0</td>\n",
       "      <td>0</td>\n",
       "      <td>0</td>\n",
       "      <td>0</td>\n",
       "      <td>0</td>\n",
       "      <td>0</td>\n",
       "      <td>1</td>\n",
       "    </tr>\n",
       "    <tr>\n",
       "      <th>13</th>\n",
       "      <td>Wii</td>\n",
       "      <td>2007</td>\n",
       "      <td>Sports</td>\n",
       "      <td>Nintendo</td>\n",
       "      <td>22.70</td>\n",
       "      <td>80.0</td>\n",
       "      <td>63.0</td>\n",
       "      <td>7.7</td>\n",
       "      <td>146.0</td>\n",
       "      <td>Nintendo</td>\n",
       "      <td>...</td>\n",
       "      <td>0</td>\n",
       "      <td>0</td>\n",
       "      <td>0</td>\n",
       "      <td>0</td>\n",
       "      <td>0</td>\n",
       "      <td>0</td>\n",
       "      <td>0</td>\n",
       "      <td>0</td>\n",
       "      <td>0</td>\n",
       "      <td>1</td>\n",
       "    </tr>\n",
       "    <tr>\n",
       "      <th>...</th>\n",
       "      <td>...</td>\n",
       "      <td>...</td>\n",
       "      <td>...</td>\n",
       "      <td>...</td>\n",
       "      <td>...</td>\n",
       "      <td>...</td>\n",
       "      <td>...</td>\n",
       "      <td>...</td>\n",
       "      <td>...</td>\n",
       "      <td>...</td>\n",
       "      <td>...</td>\n",
       "      <td>...</td>\n",
       "      <td>...</td>\n",
       "      <td>...</td>\n",
       "      <td>...</td>\n",
       "      <td>...</td>\n",
       "      <td>...</td>\n",
       "      <td>...</td>\n",
       "      <td>...</td>\n",
       "      <td>...</td>\n",
       "      <td>...</td>\n",
       "    </tr>\n",
       "    <tr>\n",
       "      <th>16664</th>\n",
       "      <td>XOne</td>\n",
       "      <td>2016</td>\n",
       "      <td>Action</td>\n",
       "      <td>Introversion Software</td>\n",
       "      <td>0.01</td>\n",
       "      <td>74.0</td>\n",
       "      <td>13.0</td>\n",
       "      <td>6.7</td>\n",
       "      <td>7.0</td>\n",
       "      <td>Introversion, Double Eleven</td>\n",
       "      <td>...</td>\n",
       "      <td>1</td>\n",
       "      <td>0</td>\n",
       "      <td>1</td>\n",
       "      <td>1</td>\n",
       "      <td>1</td>\n",
       "      <td>1</td>\n",
       "      <td>0</td>\n",
       "      <td>1</td>\n",
       "      <td>0</td>\n",
       "      <td>0</td>\n",
       "    </tr>\n",
       "    <tr>\n",
       "      <th>16696</th>\n",
       "      <td>PC</td>\n",
       "      <td>2014</td>\n",
       "      <td>Action</td>\n",
       "      <td>Konami Digital Entertainment</td>\n",
       "      <td>0.01</td>\n",
       "      <td>80.0</td>\n",
       "      <td>20.0</td>\n",
       "      <td>7.6</td>\n",
       "      <td>412.0</td>\n",
       "      <td>Kojima Productions</td>\n",
       "      <td>...</td>\n",
       "      <td>0</td>\n",
       "      <td>0</td>\n",
       "      <td>0</td>\n",
       "      <td>0</td>\n",
       "      <td>0</td>\n",
       "      <td>1</td>\n",
       "      <td>1</td>\n",
       "      <td>1</td>\n",
       "      <td>1</td>\n",
       "      <td>1</td>\n",
       "    </tr>\n",
       "    <tr>\n",
       "      <th>16700</th>\n",
       "      <td>PC</td>\n",
       "      <td>2011</td>\n",
       "      <td>Shooter</td>\n",
       "      <td>Destineer</td>\n",
       "      <td>0.01</td>\n",
       "      <td>61.0</td>\n",
       "      <td>12.0</td>\n",
       "      <td>5.8</td>\n",
       "      <td>43.0</td>\n",
       "      <td>Atomic Games</td>\n",
       "      <td>...</td>\n",
       "      <td>1</td>\n",
       "      <td>1</td>\n",
       "      <td>0</td>\n",
       "      <td>1</td>\n",
       "      <td>0</td>\n",
       "      <td>0</td>\n",
       "      <td>0</td>\n",
       "      <td>0</td>\n",
       "      <td>1</td>\n",
       "      <td>0</td>\n",
       "    </tr>\n",
       "    <tr>\n",
       "      <th>16706</th>\n",
       "      <td>PC</td>\n",
       "      <td>2011</td>\n",
       "      <td>Strategy</td>\n",
       "      <td>Unknown</td>\n",
       "      <td>0.01</td>\n",
       "      <td>60.0</td>\n",
       "      <td>12.0</td>\n",
       "      <td>7.2</td>\n",
       "      <td>13.0</td>\n",
       "      <td>SimBin</td>\n",
       "      <td>...</td>\n",
       "      <td>1</td>\n",
       "      <td>0</td>\n",
       "      <td>0</td>\n",
       "      <td>0</td>\n",
       "      <td>1</td>\n",
       "      <td>0</td>\n",
       "      <td>0</td>\n",
       "      <td>1</td>\n",
       "      <td>0</td>\n",
       "      <td>1</td>\n",
       "    </tr>\n",
       "    <tr>\n",
       "      <th>16709</th>\n",
       "      <td>PC</td>\n",
       "      <td>2009</td>\n",
       "      <td>Adventure</td>\n",
       "      <td>DTP Entertainment</td>\n",
       "      <td>0.01</td>\n",
       "      <td>63.0</td>\n",
       "      <td>6.0</td>\n",
       "      <td>5.8</td>\n",
       "      <td>8.0</td>\n",
       "      <td>DTP Entertainment</td>\n",
       "      <td>...</td>\n",
       "      <td>1</td>\n",
       "      <td>1</td>\n",
       "      <td>0</td>\n",
       "      <td>0</td>\n",
       "      <td>0</td>\n",
       "      <td>1</td>\n",
       "      <td>0</td>\n",
       "      <td>1</td>\n",
       "      <td>0</td>\n",
       "      <td>0</td>\n",
       "    </tr>\n",
       "  </tbody>\n",
       "</table>\n",
       "<p>3546 rows × 39 columns</p>\n",
       "</div>"
      ],
      "text/plain": [
       "      Platform  Year_of_Release      Genre                     Publisher  \\\n",
       "2          Wii             2008     Racing                      Nintendo   \n",
       "3          Wii             2009     Sports                      Nintendo   \n",
       "7          Wii             2006       Misc                      Nintendo   \n",
       "8          Wii             2009   Platform                      Nintendo   \n",
       "13         Wii             2007     Sports                      Nintendo   \n",
       "...        ...              ...        ...                           ...   \n",
       "16664     XOne             2016     Action         Introversion Software   \n",
       "16696       PC             2014     Action  Konami Digital Entertainment   \n",
       "16700       PC             2011    Shooter                     Destineer   \n",
       "16706       PC             2011   Strategy                       Unknown   \n",
       "16709       PC             2009  Adventure             DTP Entertainment   \n",
       "\n",
       "       Global_Sales  Critic_Score  Critic_Count  User_Score  User_Count  \\\n",
       "2             35.52          82.0          73.0         8.3       709.0   \n",
       "3             32.77          80.0          73.0         8.0       192.0   \n",
       "7             28.92          58.0          41.0         6.6       129.0   \n",
       "8             28.32          87.0          80.0         8.4       594.0   \n",
       "13            22.70          80.0          63.0         7.7       146.0   \n",
       "...             ...           ...           ...         ...         ...   \n",
       "16664          0.01          74.0          13.0         6.7         7.0   \n",
       "16696          0.01          80.0          20.0         7.6       412.0   \n",
       "16700          0.01          61.0          12.0         5.8        43.0   \n",
       "16706          0.01          60.0          12.0         7.2        13.0   \n",
       "16709          0.01          63.0           6.0         5.8         8.0   \n",
       "\n",
       "                         Developer  ... Developer_1  Developer_2  Developer_3  \\\n",
       "2                         Nintendo  ...           0            0            0   \n",
       "3                         Nintendo  ...           0            0            0   \n",
       "7                         Nintendo  ...           0            0            0   \n",
       "8                         Nintendo  ...           0            0            0   \n",
       "13                        Nintendo  ...           0            0            0   \n",
       "...                            ...  ...         ...          ...          ...   \n",
       "16664  Introversion, Double Eleven  ...           1            0            1   \n",
       "16696           Kojima Productions  ...           0            0            0   \n",
       "16700                 Atomic Games  ...           1            1            0   \n",
       "16706                       SimBin  ...           1            0            0   \n",
       "16709            DTP Entertainment  ...           1            1            0   \n",
       "\n",
       "       Developer_4  Developer_5  Developer_6  Developer_7  Developer_8  \\\n",
       "2                0            0            0            0            0   \n",
       "3                0            0            0            0            0   \n",
       "7                0            0            0            0            0   \n",
       "8                0            0            0            0            0   \n",
       "13               0            0            0            0            0   \n",
       "...            ...          ...          ...          ...          ...   \n",
       "16664            1            1            1            0            1   \n",
       "16696            0            0            1            1            1   \n",
       "16700            1            0            0            0            0   \n",
       "16706            0            1            0            0            1   \n",
       "16709            0            0            1            0            1   \n",
       "\n",
       "       Developer_9  Developer_10  \n",
       "2                0             1  \n",
       "3                0             1  \n",
       "7                0             1  \n",
       "8                0             1  \n",
       "13               0             1  \n",
       "...            ...           ...  \n",
       "16664            0             0  \n",
       "16696            1             1  \n",
       "16700            1             0  \n",
       "16706            0             1  \n",
       "16709            0             0  \n",
       "\n",
       "[3546 rows x 39 columns]"
      ]
     },
     "execution_count": 51,
     "metadata": {},
     "output_type": "execute_result"
    }
   ],
   "source": [
    "import category_encoders as ce\n",
    "\n",
    "encoder = ce.BinaryEncoder(cols=['Genre'],drop_invariant=True)\n",
    "dfh = encoder.fit_transform(data_improve['Genre'])\n",
    "data_improve = pd.concat([data_improve, dfh], axis=1)\n",
    "\n",
    "encoder = ce.BinaryEncoder(cols=['Platform'],drop_invariant=True)\n",
    "dfh = encoder.fit_transform(data_improve['Platform'])\n",
    "data_improve = pd.concat([data_improve, dfh], axis=1)\n",
    "\n",
    "encoder = ce.BinaryEncoder(cols=['Rating'],drop_invariant=True)\n",
    "dfh = encoder.fit_transform(data_improve['Rating'])\n",
    "data_improve = pd.concat([data_improve, dfh], axis=1)\n",
    "\n",
    "encoder = ce.BinaryEncoder(cols=['Publisher'],drop_invariant=True)\n",
    "dfh = encoder.fit_transform(data_improve['Publisher'])\n",
    "data_improve = pd.concat([data_improve, dfh], axis=1)\n",
    "\n",
    "encoder = ce.BinaryEncoder(cols=['Developer'],drop_invariant=True)\n",
    "dfh = encoder.fit_transform(data_improve['Developer'])\n",
    "data_improve = pd.concat([data_improve, dfh], axis=1)\n",
    "\n",
    "data_improve"
   ]
  },
  {
   "cell_type": "code",
   "execution_count": 52,
   "id": "recorded-sarah",
   "metadata": {},
   "outputs": [
    {
     "name": "stdout",
     "output_type": "stream",
     "text": [
      "Index(['Year_of_Release', 'Global_Sales', 'Critic_Score', 'Critic_Count',\n",
      "       'User_Score', 'User_Count', 'Genre_1', 'Genre_2', 'Genre_3', 'Genre_4',\n",
      "       'Platform_1', 'Platform_2', 'Platform_3', 'Rating_1', 'Rating_2',\n",
      "       'Rating_3', 'Publisher_1', 'Publisher_2', 'Publisher_3', 'Publisher_4',\n",
      "       'Publisher_5', 'Publisher_6', 'Publisher_7', 'Publisher_8',\n",
      "       'Developer_1', 'Developer_2', 'Developer_3', 'Developer_4',\n",
      "       'Developer_5', 'Developer_6', 'Developer_7', 'Developer_8',\n",
      "       'Developer_9', 'Developer_10'],\n",
      "      dtype='object')\n"
     ]
    }
   ],
   "source": [
    "data_improve = data_improve.drop(['Genre', 'Platform', 'Rating', 'Publisher', 'Developer'], axis=1)\n",
    "print(data_improve.columns) #easy to copy-paste the values to rearrange from here"
   ]
  },
  {
   "cell_type": "code",
   "execution_count": 53,
   "id": "adjacent-sperm",
   "metadata": {},
   "outputs": [
    {
     "name": "stdout",
     "output_type": "stream",
     "text": [
      "(3546, 33)\n",
      "(3546, 1)\n"
     ]
    }
   ],
   "source": [
    "X_improve = data_improve[['Year_of_Release', 'Critic_Score', 'Critic_Count',\n",
    "       'User_Score', 'User_Count', 'Genre_1', 'Genre_2', 'Genre_3', 'Genre_4',\n",
    "       'Platform_1', 'Platform_2', 'Platform_3', 'Rating_1', 'Rating_2',\n",
    "       'Rating_3', 'Publisher_1', 'Publisher_2', 'Publisher_3', 'Publisher_4',\n",
    "       'Publisher_5', 'Publisher_6', 'Publisher_7', 'Publisher_8',\n",
    "       'Developer_1', 'Developer_2', 'Developer_3', 'Developer_4',\n",
    "       'Developer_5', 'Developer_6', 'Developer_7', 'Developer_8',\n",
    "       'Developer_9', 'Developer_10']]\n",
    "\n",
    "Y_improve = data_improve[['Global_Sales']]\n",
    "\n",
    "#Double checking the shape\n",
    "print(X_improve.shape)\n",
    "print(Y_improve.shape)"
   ]
  },
  {
   "cell_type": "code",
   "execution_count": 54,
   "id": "interested-basis",
   "metadata": {},
   "outputs": [
    {
     "name": "stdout",
     "output_type": "stream",
     "text": [
      "X_train shape: (2659, 33)\n",
      "Y_train shape: (2659, 1)\n",
      "X_test shape: (887, 33)\n",
      "Y_test shape: (887, 1)\n"
     ]
    }
   ],
   "source": [
    "X_train_improve, X_test_improve, Y_train_improve, Y_test_improve = train_test_split(X_improve, Y_improve, random_state=42)\n",
    "\n",
    "#Let's check the shape of the split data as a precaution\n",
    "print(\"X_train shape: {}\".format(X_train_improve.shape))\n",
    "print(\"Y_train shape: {}\".format(Y_train_improve.shape))\n",
    "\n",
    "print(\"X_test shape: {}\".format(X_test_improve.shape))\n",
    "print(\"Y_test shape: {}\".format(Y_test_improve.shape))"
   ]
  },
  {
   "cell_type": "code",
   "execution_count": 55,
   "id": "foreign-liver",
   "metadata": {},
   "outputs": [],
   "source": [
    "#We use the numpy fuction log1p which  applies log(1+x) to all elements of the column\n",
    "Y_train_improve = np.log1p(Y_train_improve)\n",
    "Y_test_improve = np.log1p(Y_test_improve)"
   ]
  },
  {
   "cell_type": "code",
   "execution_count": 56,
   "id": "exclusive-wallace",
   "metadata": {},
   "outputs": [
    {
     "name": "stdout",
     "output_type": "stream",
     "text": [
      "Best parameters: {}\n",
      "Best cross-validation score: 0.40\n",
      "Test set score: 0.41\n"
     ]
    }
   ],
   "source": [
    "grid_search_lr_improve = GridSearchCV(LinearRegression(), param_grid_lr, scoring='neg_mean_squared_error', cv=5)\n",
    "grid_search_lr_improve.fit(X_train_improve, Y_train_improve)\n",
    "print(\"Best parameters: {}\".format(grid_search_lr_improve.best_params_))\n",
    "lr_best_cross_val_score_improve = (np.sqrt(-grid_search_lr_improve.best_score_))\n",
    "print(\"Best cross-validation score: {:.2f}\".format(np.expm1(lr_best_cross_val_score_improve)))\n",
    "lr_score_improve = np.sqrt(-grid_search_lr_improve.score(X_test_improve, Y_test_improve))\n",
    "print(\"Test set score: {:.2f}\".format(np.expm1(lr_score_improve)))"
   ]
  },
  {
   "cell_type": "code",
   "execution_count": 57,
   "id": "graduate-violation",
   "metadata": {},
   "outputs": [
    {
     "name": "stdout",
     "output_type": "stream",
     "text": [
      "Best parameters: {'alpha': 0.0001, 'max_iter': 1000000}\n",
      "Best cross-validation score: 0.40\n",
      "Test set score: 0.41\n"
     ]
    }
   ],
   "source": [
    "grid_search_lasso_improve = GridSearchCV(Lasso(), param_grid_lasso, cv=5, scoring='neg_mean_squared_error')\n",
    "grid_search_lasso_improve.fit(X_train_improve, Y_train_improve)\n",
    "print(\"Best parameters: {}\".format(grid_search_lasso_improve.best_params_))\n",
    "lasso_best_cross_val_score_improve = (np.sqrt(-grid_search_lasso_improve.best_score_))\n",
    "print(\"Best cross-validation score: {:.2f}\".format(np.expm1(lasso_best_cross_val_score_improve)))\n",
    "lasso_score_improve = np.sqrt(-grid_search_lasso_improve.score(X_test_improve, Y_test_improve))\n",
    "print(\"Test set score: {:.2f}\".format(np.expm1(lasso_score_improve)))"
   ]
  },
  {
   "cell_type": "code",
   "execution_count": 58,
   "id": "chief-paper",
   "metadata": {},
   "outputs": [
    {
     "name": "stdout",
     "output_type": "stream",
     "text": [
      "Best parameters: {'alpha': 10}\n",
      "Best cross-validation score: 0.40\n",
      "Test set score: 0.41\n"
     ]
    }
   ],
   "source": [
    "grid_search_rr_improve = GridSearchCV(Ridge(), param_grid_rr, cv=5, scoring='neg_mean_squared_error')\n",
    "grid_search_rr_improve.fit(X_train_improve, Y_train_improve)\n",
    "print(\"Best parameters: {}\".format(grid_search_rr_improve.best_params_))\n",
    "rr_best_cross_val_score_improve = (np.sqrt(-grid_search_rr_improve.best_score_))\n",
    "print(\"Best cross-validation score: {:.2f}\".format(np.expm1(rr_best_cross_val_score_improve)))\n",
    "rr_score_improve = np.sqrt(-grid_search_rr_improve.score(X_test_improve, Y_test_improve))\n",
    "print(\"Test set score: {:.2f}\".format(np.expm1(rr_score_improve)))"
   ]
  },
  {
   "cell_type": "code",
   "execution_count": 59,
   "id": "imported-budget",
   "metadata": {},
   "outputs": [
    {
     "name": "stdout",
     "output_type": "stream",
     "text": [
      "Best parameters: {'C': 10, 'gamma': 0.0001, 'kernel': 'rbf'}\n",
      "Best cross-validation score: 0.46\n",
      "Test set score: 0.49\n"
     ]
    }
   ],
   "source": [
    "grid_search_svr_improve = GridSearchCV(SVR(), param_grid_svr, cv=5, scoring='neg_mean_squared_error')\n",
    "grid_search_svr_improve.fit(X_train_improve, Y_train_improve)\n",
    "print(\"Best parameters: {}\".format(grid_search_svr_improve.best_params_))\n",
    "svr_best_cross_val_score_improve = (np.sqrt(-grid_search_svr_improve.best_score_))\n",
    "print(\"Best cross-validation score: {:.2f}\".format(np.expm1(svr_best_cross_val_score_improve)))\n",
    "svr_score_improve = np.sqrt(-grid_search_svr_improve.score(X_test_improve, Y_test_improve))\n",
    "print(\"Test set score: {:.2f}\".format(np.expm1(svr_score_improve)))"
   ]
  },
  {
   "cell_type": "code",
   "execution_count": 60,
   "id": "returning-batch",
   "metadata": {},
   "outputs": [
    {
     "name": "stdout",
     "output_type": "stream",
     "text": [
      "Best parameters: {'max_depth': 9, 'max_features': 12, 'n_estimators': 70}\n",
      "Best cross-validation score: 0.31\n",
      "Test set score: 0.33\n"
     ]
    }
   ],
   "source": [
    "grid_search_rf_improve = GridSearchCV(RandomForestRegressor(), param_grid_rf, cv=5, scoring='neg_mean_squared_error')\n",
    "grid_search_rf_improve.fit(X_train_improve, Y_train_improve)\n",
    "print(\"Best parameters: {}\".format(grid_search_rf_improve.best_params_))\n",
    "rf_best_cross_val_score_improve = (np.sqrt(-grid_search_rf_improve.best_score_))\n",
    "print(\"Best cross-validation score: {:.2f}\".format(np.expm1(rf_best_cross_val_score_improve)))\n",
    "rf_score_improve = np.sqrt(-grid_search_rf_improve.score(X_test_improve, Y_test_improve))\n",
    "print(\"Test set score: {:.2f}\".format(np.expm1(rf_score_improve)))"
   ]
  },
  {
   "cell_type": "code",
   "execution_count": 61,
   "id": "satisfied-consortium",
   "metadata": {},
   "outputs": [
    {
     "name": "stdout",
     "output_type": "stream",
     "text": [
      "Best parameters: {'max_depth': 9, 'max_features': 6, 'n_estimators': 275}\n",
      "Best cross-validation score: 0.27\n",
      "Test set score: 0.27\n"
     ]
    }
   ],
   "source": [
    "grid_search_gbr_improve = GridSearchCV(GradientBoostingRegressor(), param_grid_gbr, cv=5, scoring='neg_mean_squared_error')\n",
    "grid_search_gbr_improve.fit(X_train_improve, Y_train_improve)\n",
    "print(\"Best parameters: {}\".format(grid_search_gbr_improve.best_params_))\n",
    "gbr_best_cross_val_score_improve = (np.sqrt(-grid_search_gbr_improve.best_score_))\n",
    "print(\"Best cross-validation score: {:.2f}\".format(np.expm1(gbr_best_cross_val_score_improve)))\n",
    "gbr_score_improve = np.sqrt(-grid_search_gbr_improve.score(X_test_improve, Y_test_improve))\n",
    "print(\"Test set score: {:.2f}\".format(np.expm1(gbr_score_improve)))"
   ]
  },
  {
   "cell_type": "markdown",
   "id": "eight-enlargement",
   "metadata": {},
   "source": [
    "### Error Comparison"
   ]
  },
  {
   "cell_type": "code",
   "execution_count": 62,
   "id": "relevant-rapid",
   "metadata": {},
   "outputs": [
    {
     "data": {
      "image/png": "[encoded data removed]",
      "text/plain": [
       "<Figure size 432x288 with 1 Axes>"
      ]
     },
     "metadata": {
      "needs_background": "light"
     },
     "output_type": "display_data"
    }
   ],
   "source": [
    "model_comparison = pd.DataFrame({\"model\": [\"Linear Regression\", \"Lasso Regression\", \"Support Vector Machine\",\n",
    "                                           \"Random Forest\", \"Gradient Boosting\", \"Ridge Regression\"],\n",
    "                                 \"rmse\": [lr_score_improve, lasso_score_improve, svr_score_improve, \n",
    "                                          rf_score_improve, gbr_score_improve, rr_score_improve]})\n",
    "\n",
    "model_comparison.sort_values(\"rmse\", ascending=False).plot(x=\"model\", y=\"rmse\", kind=\"barh\",\n",
    "                                                           color=\"lightskyblue\", legend=False)\n",
    "plt.ylabel(\"\"); plt.yticks(size=14); plt.xlabel(\"Root Mean Square Error\"); plt.xticks(size=14)\n",
    "plt.title(\"Improved Model Comparison on Test RMSE\", size=20);"
   ]
  },
  {
   "cell_type": "markdown",
   "id": "extra-genetics",
   "metadata": {},
   "source": [
    "------------------------------------------------------------------------------------------------------------------"
   ]
  },
  {
   "cell_type": "markdown",
   "id": "geological-sympathy",
   "metadata": {},
   "source": [
    "### Error Comparison Between 2 Versions (Gradient Boosting - Best Overall Model) "
   ]
  },
  {
   "cell_type": "code",
   "execution_count": 133,
   "id": "inner-peoples",
   "metadata": {},
   "outputs": [
    {
     "data": {
      "image/png": "[encoded data removed]",
      "text/plain": [
       "<Figure size 432x288 with 1 Axes>"
      ]
     },
     "metadata": {
      "needs_background": "light"
     },
     "output_type": "display_data"
    }
   ],
   "source": [
    "model_comparison = pd.DataFrame({\"model\": [\"Basic Version\", \"Improved Version\"],\n",
    "                                 \"score\": [gbr_score, gbr_score_improve]})\n",
    "\n",
    "\n",
    "model_comparison.sort_values(\"score\", ascending=False).plot(x=\"model\", y=\"score\", kind=\"barh\",\n",
    "                                                            color=\"lightgreen\", legend=False)\n",
    "plt.ylabel(\"\"); \n",
    "plt.yticks(size=10); \n",
    "plt.xlabel(\"Root Mean Square Error\"); \n",
    "plt.xticks(size=10)\n",
    "plt.title(\"Gradient Boosting Regressor\", size=15);"
   ]
  },
  {
   "cell_type": "code",
   "execution_count": 129,
   "id": "infectious-marshall",
   "metadata": {},
   "outputs": [
    {
     "data": {
      "image/png": "[encoded data removed]",
      "text/plain": [
       "<Figure size 864x288 with 3 Axes>"
      ]
     },
     "metadata": {
      "needs_background": "light"
     },
     "output_type": "display_data"
    }
   ],
   "source": [
    "from matplotlib.pyplot import figure\n",
    "\n",
    "fig, ax = plt.subplots(nrows=1, ncols=3, sharey=True, figsize=(12,4))\n",
    "\n",
    "rmse = [gbr_score, gbr_score_improve]\n",
    "\n",
    "basic = \"Basic Version [rmse: {:.2f}]\".format(np.expm1(gbr_score))\n",
    "improve = \"Improved Version [rmse: {:.2f}]\".format(np.expm1(gbr_score_improve))\n",
    "\n",
    "\n",
    "# plots\n",
    "ax[0].plot(Y_pred,Y_test,'o', c='b')\n",
    "ax[1].plot(Y_pred_improve,Y_test,'o',c='r')\n",
    "ax[2].plot(Y_pred,Y_test,'o', c='b')\n",
    "ax[2].plot(Y_pred_improve,Y_test,'o',c='r')\n",
    "\n",
    "ax[0].set_xlabel('Predicted Value')\n",
    "ax[0].set_ylabel('Actual Value')\n",
    "ax[1].set_xlabel('Predicted Value')\n",
    "ax[1].set_ylabel('Actual Value')\n",
    "ax[2].set_xlabel('Predicted Value')\n",
    "ax[2].set_ylabel('Actual Value')\n",
    "\n",
    "ax[0].axis(xmin=0,xmax=3.5)\n",
    "ax[0].axis(ymin=0,ymax=3.5)\n",
    "ax[1].axis(xmin=0,xmax=3.5)\n",
    "ax[1].axis(ymin=0,ymax=3.5)\n",
    "ax[2].axis(xmin=0,xmax=3.5)\n",
    "ax[2].axis(ymin=0,ymax=3.5)\n",
    "\n",
    "ax[0].set_title(basic)\n",
    "ax[1].set_title(improve)\n",
    "ax[2].set_title('Comparison')\n",
    "\n",
    "fig.tight_layout() # adjusts spacing between subplots"
   ]
  }
 ],
 "metadata": {
  "kernelspec": {
   "display_name": "Python 3",
   "language": "python",
   "name": "python3"
  },
  "language_info": {
   "codemirror_mode": {
    "name": "ipython",
    "version": 3
   },
   "file_extension": ".py",
   "mimetype": "text/x-python",
   "name": "python",
   "nbconvert_exporter": "python",
   "pygments_lexer": "ipython3",
   "version": "3.7.9"
  }
 },
 "nbformat": 4,
 "nbformat_minor": 5
}
