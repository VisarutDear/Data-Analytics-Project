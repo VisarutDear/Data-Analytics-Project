{
 "cells": [
  {
   "cell_type": "code",
   "execution_count": 3,
   "metadata": {},
   "outputs": [],
   "source": [
    "import numpy as np\n",
    "import pandas as pd\n",
    "import matplotlib.pyplot as plt\n",
    "import seaborn as sns\n",
    "import warnings\n",
    "from sklearn.svm import SVR\n",
    "warnings.filterwarnings('ignore')"
   ]
  },
  {
   "cell_type": "code",
   "execution_count": 4,
   "metadata": {},
   "outputs": [
    {
     "data": {
      "text/html": [
       "<div>\n",
       "<style scoped>\n",
       "    .dataframe tbody tr th:only-of-type {\n",
       "        vertical-align: middle;\n",
       "    }\n",
       "\n",
       "    .dataframe tbody tr th {\n",
       "        vertical-align: top;\n",
       "    }\n",
       "\n",
       "    .dataframe thead th {\n",
       "        text-align: right;\n",
       "    }\n",
       "</style>\n",
       "<table border=\"1\" class=\"dataframe\">\n",
       "  <thead>\n",
       "    <tr style=\"text-align: right;\">\n",
       "      <th></th>\n",
       "      <th>Name</th>\n",
       "      <th>Platform</th>\n",
       "      <th>Year_of_Release</th>\n",
       "      <th>Genre</th>\n",
       "      <th>Publisher</th>\n",
       "      <th>NA_Sales</th>\n",
       "      <th>EU_Sales</th>\n",
       "      <th>JP_Sales</th>\n",
       "      <th>Other_Sales</th>\n",
       "      <th>Global_Sales</th>\n",
       "      <th>Critic_Score</th>\n",
       "      <th>Critic_Count</th>\n",
       "      <th>User_Score</th>\n",
       "      <th>User_Count</th>\n",
       "      <th>Developer</th>\n",
       "      <th>Rating</th>\n",
       "    </tr>\n",
       "  </thead>\n",
       "  <tbody>\n",
       "    <tr>\n",
       "      <th>0</th>\n",
       "      <td>Wii Sports</td>\n",
       "      <td>Wii</td>\n",
       "      <td>2006.0</td>\n",
       "      <td>Sports</td>\n",
       "      <td>Nintendo</td>\n",
       "      <td>41.36</td>\n",
       "      <td>28.96</td>\n",
       "      <td>3.77</td>\n",
       "      <td>8.45</td>\n",
       "      <td>82.53</td>\n",
       "      <td>76.0</td>\n",
       "      <td>51.0</td>\n",
       "      <td>8</td>\n",
       "      <td>322.0</td>\n",
       "      <td>Nintendo</td>\n",
       "      <td>E</td>\n",
       "    </tr>\n",
       "    <tr>\n",
       "      <th>1</th>\n",
       "      <td>Super Mario Bros.</td>\n",
       "      <td>NES</td>\n",
       "      <td>1985.0</td>\n",
       "      <td>Platform</td>\n",
       "      <td>Nintendo</td>\n",
       "      <td>29.08</td>\n",
       "      <td>3.58</td>\n",
       "      <td>6.81</td>\n",
       "      <td>0.77</td>\n",
       "      <td>40.24</td>\n",
       "      <td>NaN</td>\n",
       "      <td>NaN</td>\n",
       "      <td>NaN</td>\n",
       "      <td>NaN</td>\n",
       "      <td>NaN</td>\n",
       "      <td>NaN</td>\n",
       "    </tr>\n",
       "    <tr>\n",
       "      <th>2</th>\n",
       "      <td>Mario Kart Wii</td>\n",
       "      <td>Wii</td>\n",
       "      <td>2008.0</td>\n",
       "      <td>Racing</td>\n",
       "      <td>Nintendo</td>\n",
       "      <td>15.68</td>\n",
       "      <td>12.76</td>\n",
       "      <td>3.79</td>\n",
       "      <td>3.29</td>\n",
       "      <td>35.52</td>\n",
       "      <td>82.0</td>\n",
       "      <td>73.0</td>\n",
       "      <td>8.3</td>\n",
       "      <td>709.0</td>\n",
       "      <td>Nintendo</td>\n",
       "      <td>E</td>\n",
       "    </tr>\n",
       "    <tr>\n",
       "      <th>3</th>\n",
       "      <td>Wii Sports Resort</td>\n",
       "      <td>Wii</td>\n",
       "      <td>2009.0</td>\n",
       "      <td>Sports</td>\n",
       "      <td>Nintendo</td>\n",
       "      <td>15.61</td>\n",
       "      <td>10.93</td>\n",
       "      <td>3.28</td>\n",
       "      <td>2.95</td>\n",
       "      <td>32.77</td>\n",
       "      <td>80.0</td>\n",
       "      <td>73.0</td>\n",
       "      <td>8</td>\n",
       "      <td>192.0</td>\n",
       "      <td>Nintendo</td>\n",
       "      <td>E</td>\n",
       "    </tr>\n",
       "    <tr>\n",
       "      <th>4</th>\n",
       "      <td>Pokemon Red/Pokemon Blue</td>\n",
       "      <td>GB</td>\n",
       "      <td>1996.0</td>\n",
       "      <td>Role-Playing</td>\n",
       "      <td>Nintendo</td>\n",
       "      <td>11.27</td>\n",
       "      <td>8.89</td>\n",
       "      <td>10.22</td>\n",
       "      <td>1.00</td>\n",
       "      <td>31.37</td>\n",
       "      <td>NaN</td>\n",
       "      <td>NaN</td>\n",
       "      <td>NaN</td>\n",
       "      <td>NaN</td>\n",
       "      <td>NaN</td>\n",
       "      <td>NaN</td>\n",
       "    </tr>\n",
       "  </tbody>\n",
       "</table>\n",
       "</div>"
      ],
      "text/plain": [
       "                       Name Platform  Year_of_Release         Genre Publisher  \\\n",
       "0                Wii Sports      Wii           2006.0        Sports  Nintendo   \n",
       "1         Super Mario Bros.      NES           1985.0      Platform  Nintendo   \n",
       "2            Mario Kart Wii      Wii           2008.0        Racing  Nintendo   \n",
       "3         Wii Sports Resort      Wii           2009.0        Sports  Nintendo   \n",
       "4  Pokemon Red/Pokemon Blue       GB           1996.0  Role-Playing  Nintendo   \n",
       "\n",
       "   NA_Sales  EU_Sales  JP_Sales  Other_Sales  Global_Sales  Critic_Score  \\\n",
       "0     41.36     28.96      3.77         8.45         82.53          76.0   \n",
       "1     29.08      3.58      6.81         0.77         40.24           NaN   \n",
       "2     15.68     12.76      3.79         3.29         35.52          82.0   \n",
       "3     15.61     10.93      3.28         2.95         32.77          80.0   \n",
       "4     11.27      8.89     10.22         1.00         31.37           NaN   \n",
       "\n",
       "   Critic_Count User_Score  User_Count Developer Rating  \n",
       "0          51.0          8       322.0  Nintendo      E  \n",
       "1           NaN        NaN         NaN       NaN    NaN  \n",
       "2          73.0        8.3       709.0  Nintendo      E  \n",
       "3          73.0          8       192.0  Nintendo      E  \n",
       "4           NaN        NaN         NaN       NaN    NaN  "
      ]
     },
     "execution_count": 4,
     "metadata": {},
     "output_type": "execute_result"
    }
   ],
   "source": [
    "data = pd.read_csv(\"./Video_Games_Sales_as_at_22_Dec_2016.csv\")\n",
    "data.head()"
   ]
  },
  {
   "cell_type": "code",
   "execution_count": 5,
   "metadata": {},
   "outputs": [
    {
     "data": {
      "text/html": [
       "<div>\n",
       "<style scoped>\n",
       "    .dataframe tbody tr th:only-of-type {\n",
       "        vertical-align: middle;\n",
       "    }\n",
       "\n",
       "    .dataframe tbody tr th {\n",
       "        vertical-align: top;\n",
       "    }\n",
       "\n",
       "    .dataframe thead th {\n",
       "        text-align: right;\n",
       "    }\n",
       "</style>\n",
       "<table border=\"1\" class=\"dataframe\">\n",
       "  <thead>\n",
       "    <tr style=\"text-align: right;\">\n",
       "      <th></th>\n",
       "      <th>Name</th>\n",
       "      <th>Platform</th>\n",
       "      <th>Year</th>\n",
       "      <th>Genre</th>\n",
       "      <th>Publisher</th>\n",
       "      <th>NA</th>\n",
       "      <th>EU</th>\n",
       "      <th>JP</th>\n",
       "      <th>Other</th>\n",
       "      <th>Global</th>\n",
       "      <th>Critic_Score</th>\n",
       "      <th>Critic_Count</th>\n",
       "      <th>User_Score</th>\n",
       "      <th>User_Count</th>\n",
       "      <th>Developer</th>\n",
       "      <th>Rating</th>\n",
       "      <th>Age</th>\n",
       "    </tr>\n",
       "  </thead>\n",
       "  <tbody>\n",
       "    <tr>\n",
       "      <th>count</th>\n",
       "      <td>16448</td>\n",
       "      <td>16448</td>\n",
       "      <td>16448.000000</td>\n",
       "      <td>16448</td>\n",
       "      <td>16416</td>\n",
       "      <td>16448.000000</td>\n",
       "      <td>16448.000000</td>\n",
       "      <td>16448.000000</td>\n",
       "      <td>16448.000000</td>\n",
       "      <td>16448.00000</td>\n",
       "      <td>7983.000000</td>\n",
       "      <td>7983.000000</td>\n",
       "      <td>9840</td>\n",
       "      <td>7463.000000</td>\n",
       "      <td>9907</td>\n",
       "      <td>9769</td>\n",
       "      <td>16448.000000</td>\n",
       "    </tr>\n",
       "    <tr>\n",
       "      <th>unique</th>\n",
       "      <td>11429</td>\n",
       "      <td>31</td>\n",
       "      <td>NaN</td>\n",
       "      <td>12</td>\n",
       "      <td>579</td>\n",
       "      <td>NaN</td>\n",
       "      <td>NaN</td>\n",
       "      <td>NaN</td>\n",
       "      <td>NaN</td>\n",
       "      <td>NaN</td>\n",
       "      <td>NaN</td>\n",
       "      <td>NaN</td>\n",
       "      <td>96</td>\n",
       "      <td>NaN</td>\n",
       "      <td>1680</td>\n",
       "      <td>8</td>\n",
       "      <td>NaN</td>\n",
       "    </tr>\n",
       "    <tr>\n",
       "      <th>top</th>\n",
       "      <td>Need for Speed: Most Wanted</td>\n",
       "      <td>PS2</td>\n",
       "      <td>NaN</td>\n",
       "      <td>Action</td>\n",
       "      <td>Electronic Arts</td>\n",
       "      <td>NaN</td>\n",
       "      <td>NaN</td>\n",
       "      <td>NaN</td>\n",
       "      <td>NaN</td>\n",
       "      <td>NaN</td>\n",
       "      <td>NaN</td>\n",
       "      <td>NaN</td>\n",
       "      <td>tbd</td>\n",
       "      <td>NaN</td>\n",
       "      <td>Ubisoft</td>\n",
       "      <td>E</td>\n",
       "      <td>NaN</td>\n",
       "    </tr>\n",
       "    <tr>\n",
       "      <th>freq</th>\n",
       "      <td>12</td>\n",
       "      <td>2127</td>\n",
       "      <td>NaN</td>\n",
       "      <td>3308</td>\n",
       "      <td>1344</td>\n",
       "      <td>NaN</td>\n",
       "      <td>NaN</td>\n",
       "      <td>NaN</td>\n",
       "      <td>NaN</td>\n",
       "      <td>NaN</td>\n",
       "      <td>NaN</td>\n",
       "      <td>NaN</td>\n",
       "      <td>2377</td>\n",
       "      <td>NaN</td>\n",
       "      <td>201</td>\n",
       "      <td>3922</td>\n",
       "      <td>NaN</td>\n",
       "    </tr>\n",
       "    <tr>\n",
       "      <th>mean</th>\n",
       "      <td>NaN</td>\n",
       "      <td>NaN</td>\n",
       "      <td>2006.488996</td>\n",
       "      <td>NaN</td>\n",
       "      <td>NaN</td>\n",
       "      <td>0.263965</td>\n",
       "      <td>0.145895</td>\n",
       "      <td>0.078472</td>\n",
       "      <td>0.047583</td>\n",
       "      <td>0.53617</td>\n",
       "      <td>68.994363</td>\n",
       "      <td>26.441313</td>\n",
       "      <td>NaN</td>\n",
       "      <td>163.015141</td>\n",
       "      <td>NaN</td>\n",
       "      <td>NaN</td>\n",
       "      <td>14.511004</td>\n",
       "    </tr>\n",
       "    <tr>\n",
       "      <th>std</th>\n",
       "      <td>NaN</td>\n",
       "      <td>NaN</td>\n",
       "      <td>5.877470</td>\n",
       "      <td>NaN</td>\n",
       "      <td>NaN</td>\n",
       "      <td>0.818286</td>\n",
       "      <td>0.506660</td>\n",
       "      <td>0.311064</td>\n",
       "      <td>0.187984</td>\n",
       "      <td>1.55846</td>\n",
       "      <td>13.920060</td>\n",
       "      <td>19.008136</td>\n",
       "      <td>NaN</td>\n",
       "      <td>563.863327</td>\n",
       "      <td>NaN</td>\n",
       "      <td>NaN</td>\n",
       "      <td>5.877470</td>\n",
       "    </tr>\n",
       "    <tr>\n",
       "      <th>min</th>\n",
       "      <td>NaN</td>\n",
       "      <td>NaN</td>\n",
       "      <td>1980.000000</td>\n",
       "      <td>NaN</td>\n",
       "      <td>NaN</td>\n",
       "      <td>0.000000</td>\n",
       "      <td>0.000000</td>\n",
       "      <td>0.000000</td>\n",
       "      <td>0.000000</td>\n",
       "      <td>0.01000</td>\n",
       "      <td>13.000000</td>\n",
       "      <td>3.000000</td>\n",
       "      <td>NaN</td>\n",
       "      <td>4.000000</td>\n",
       "      <td>NaN</td>\n",
       "      <td>NaN</td>\n",
       "      <td>1.000000</td>\n",
       "    </tr>\n",
       "    <tr>\n",
       "      <th>25%</th>\n",
       "      <td>NaN</td>\n",
       "      <td>NaN</td>\n",
       "      <td>2003.000000</td>\n",
       "      <td>NaN</td>\n",
       "      <td>NaN</td>\n",
       "      <td>0.000000</td>\n",
       "      <td>0.000000</td>\n",
       "      <td>0.000000</td>\n",
       "      <td>0.000000</td>\n",
       "      <td>0.06000</td>\n",
       "      <td>60.000000</td>\n",
       "      <td>12.000000</td>\n",
       "      <td>NaN</td>\n",
       "      <td>10.000000</td>\n",
       "      <td>NaN</td>\n",
       "      <td>NaN</td>\n",
       "      <td>11.000000</td>\n",
       "    </tr>\n",
       "    <tr>\n",
       "      <th>50%</th>\n",
       "      <td>NaN</td>\n",
       "      <td>NaN</td>\n",
       "      <td>2007.000000</td>\n",
       "      <td>NaN</td>\n",
       "      <td>NaN</td>\n",
       "      <td>0.080000</td>\n",
       "      <td>0.020000</td>\n",
       "      <td>0.000000</td>\n",
       "      <td>0.010000</td>\n",
       "      <td>0.17000</td>\n",
       "      <td>71.000000</td>\n",
       "      <td>22.000000</td>\n",
       "      <td>NaN</td>\n",
       "      <td>24.000000</td>\n",
       "      <td>NaN</td>\n",
       "      <td>NaN</td>\n",
       "      <td>14.000000</td>\n",
       "    </tr>\n",
       "    <tr>\n",
       "      <th>75%</th>\n",
       "      <td>NaN</td>\n",
       "      <td>NaN</td>\n",
       "      <td>2010.000000</td>\n",
       "      <td>NaN</td>\n",
       "      <td>NaN</td>\n",
       "      <td>0.240000</td>\n",
       "      <td>0.110000</td>\n",
       "      <td>0.040000</td>\n",
       "      <td>0.030000</td>\n",
       "      <td>0.47000</td>\n",
       "      <td>79.000000</td>\n",
       "      <td>36.000000</td>\n",
       "      <td>NaN</td>\n",
       "      <td>81.000000</td>\n",
       "      <td>NaN</td>\n",
       "      <td>NaN</td>\n",
       "      <td>18.000000</td>\n",
       "    </tr>\n",
       "    <tr>\n",
       "      <th>max</th>\n",
       "      <td>NaN</td>\n",
       "      <td>NaN</td>\n",
       "      <td>2020.000000</td>\n",
       "      <td>NaN</td>\n",
       "      <td>NaN</td>\n",
       "      <td>41.360000</td>\n",
       "      <td>28.960000</td>\n",
       "      <td>10.220000</td>\n",
       "      <td>10.570000</td>\n",
       "      <td>82.53000</td>\n",
       "      <td>98.000000</td>\n",
       "      <td>113.000000</td>\n",
       "      <td>NaN</td>\n",
       "      <td>10665.000000</td>\n",
       "      <td>NaN</td>\n",
       "      <td>NaN</td>\n",
       "      <td>41.000000</td>\n",
       "    </tr>\n",
       "  </tbody>\n",
       "</table>\n",
       "</div>"
      ],
      "text/plain": [
       "                               Name Platform          Year   Genre  \\\n",
       "count                         16448    16448  16448.000000   16448   \n",
       "unique                        11429       31           NaN      12   \n",
       "top     Need for Speed: Most Wanted      PS2           NaN  Action   \n",
       "freq                             12     2127           NaN    3308   \n",
       "mean                            NaN      NaN   2006.488996     NaN   \n",
       "std                             NaN      NaN      5.877470     NaN   \n",
       "min                             NaN      NaN   1980.000000     NaN   \n",
       "25%                             NaN      NaN   2003.000000     NaN   \n",
       "50%                             NaN      NaN   2007.000000     NaN   \n",
       "75%                             NaN      NaN   2010.000000     NaN   \n",
       "max                             NaN      NaN   2020.000000     NaN   \n",
       "\n",
       "              Publisher            NA            EU            JP  \\\n",
       "count             16416  16448.000000  16448.000000  16448.000000   \n",
       "unique              579           NaN           NaN           NaN   \n",
       "top     Electronic Arts           NaN           NaN           NaN   \n",
       "freq               1344           NaN           NaN           NaN   \n",
       "mean                NaN      0.263965      0.145895      0.078472   \n",
       "std                 NaN      0.818286      0.506660      0.311064   \n",
       "min                 NaN      0.000000      0.000000      0.000000   \n",
       "25%                 NaN      0.000000      0.000000      0.000000   \n",
       "50%                 NaN      0.080000      0.020000      0.000000   \n",
       "75%                 NaN      0.240000      0.110000      0.040000   \n",
       "max                 NaN     41.360000     28.960000     10.220000   \n",
       "\n",
       "               Other       Global  Critic_Score  Critic_Count User_Score  \\\n",
       "count   16448.000000  16448.00000   7983.000000   7983.000000       9840   \n",
       "unique           NaN          NaN           NaN           NaN         96   \n",
       "top              NaN          NaN           NaN           NaN        tbd   \n",
       "freq             NaN          NaN           NaN           NaN       2377   \n",
       "mean        0.047583      0.53617     68.994363     26.441313        NaN   \n",
       "std         0.187984      1.55846     13.920060     19.008136        NaN   \n",
       "min         0.000000      0.01000     13.000000      3.000000        NaN   \n",
       "25%         0.000000      0.06000     60.000000     12.000000        NaN   \n",
       "50%         0.010000      0.17000     71.000000     22.000000        NaN   \n",
       "75%         0.030000      0.47000     79.000000     36.000000        NaN   \n",
       "max        10.570000     82.53000     98.000000    113.000000        NaN   \n",
       "\n",
       "          User_Count Developer Rating           Age  \n",
       "count    7463.000000      9907   9769  16448.000000  \n",
       "unique           NaN      1680      8           NaN  \n",
       "top              NaN   Ubisoft      E           NaN  \n",
       "freq             NaN       201   3922           NaN  \n",
       "mean      163.015141       NaN    NaN     14.511004  \n",
       "std       563.863327       NaN    NaN      5.877470  \n",
       "min         4.000000       NaN    NaN      1.000000  \n",
       "25%        10.000000       NaN    NaN     11.000000  \n",
       "50%        24.000000       NaN    NaN     14.000000  \n",
       "75%        81.000000       NaN    NaN     18.000000  \n",
       "max     10665.000000       NaN    NaN     41.000000  "
      ]
     },
     "execution_count": 5,
     "metadata": {},
     "output_type": "execute_result"
    }
   ],
   "source": [
    "data = data.rename(columns={\"Year_of_Release\": \"Year\", \n",
    "                            \"NA_Sales\": \"NA\",\n",
    "                            \"EU_Sales\": \"EU\",\n",
    "                            \"JP_Sales\": \"JP\",\n",
    "                            \"Other_Sales\": \"Other\",\n",
    "                            \"Global_Sales\": \"Global\"})\n",
    "data = data[data[\"Year\"].notnull()]\n",
    "data = data[data[\"Genre\"].notnull()]\n",
    "data[\"Year\"] = data[\"Year\"].apply(int)\n",
    "data[\"Age\"] = 2021 - data[\"Year\"]\n",
    "data.describe(include=\"all\")"
   ]
  },
  {
   "cell_type": "code",
   "execution_count": 6,
   "metadata": {},
   "outputs": [
    {
     "name": "stdout",
     "output_type": "stream",
     "text": [
      "(16448, 17)\n"
     ]
    }
   ],
   "source": [
    "print(data.shape)"
   ]
  },
  {
   "cell_type": "markdown",
   "metadata": {},
   "source": [
    "### check for outliers between dependent and independent variables"
   ]
  },
  {
   "cell_type": "code",
   "execution_count": 7,
   "metadata": {},
   "outputs": [
    {
     "data": {
      "image/png": "[encoded data removed]",
      "text/plain": [
       "<Figure size 432x288 with 1 Axes>"
      ]
     },
     "metadata": {
      "needs_background": "light"
     },
     "output_type": "display_data"
    }
   ],
   "source": [
    "fig, ax = plt.subplots()\n",
    "ax.scatter(x = data['Critic_Score'], y = data['Global'])\n",
    "plt.ylabel('Global_Sales', fontsize=13)\n",
    "plt.xlabel('Critic_Score', fontsize=13)\n",
    "plt.show()"
   ]
  },
  {
   "cell_type": "markdown",
   "metadata": {},
   "source": [
    " Remove outlier"
   ]
  },
  {
   "cell_type": "code",
   "execution_count": 8,
   "metadata": {},
   "outputs": [],
   "source": [
    "data = data.drop(data[(data['Critic_Score']>60) & (data['Global']>60)].index)"
   ]
  },
  {
   "cell_type": "code",
   "execution_count": 9,
   "metadata": {},
   "outputs": [
    {
     "data": {
      "image/png": "[encoded data removed]",
      "text/plain": [
       "<Figure size 432x288 with 1 Axes>"
      ]
     },
     "metadata": {
      "needs_background": "light"
     },
     "output_type": "display_data"
    }
   ],
   "source": [
    "fig, ax = plt.subplots()\n",
    "ax.scatter(x = data['Critic_Score'], y = data['Global'])\n",
    "plt.ylabel('Global_Sales', fontsize=13)\n",
    "plt.xlabel('Critic_Score', fontsize=13)\n",
    "plt.show()"
   ]
  },
  {
   "cell_type": "code",
   "execution_count": 42,
   "metadata": {},
   "outputs": [
    {
     "name": "stdout",
     "output_type": "stream",
     "text": [
      "\n",
      " mu = 0.83 and sigma = 1.90\n",
      "\n"
     ]
    },
    {
     "data": {
      "text/plain": [
       "Text(0.5, 1.0, 'Global_Sales distribution')"
      ]
     },
     "execution_count": 42,
     "metadata": {},
     "output_type": "execute_result"
    },
    {
     "data": {
      "image/png": "[encoded data removed]",
      "text/plain": [
       "<Figure size 432x288 with 1 Axes>"
      ]
     },
     "metadata": {
      "needs_background": "light"
     },
     "output_type": "display_data"
    }
   ],
   "source": [
    "from scipy import stats\n",
    "from scipy.stats import norm, skew \n",
    "\n",
    "sns.distplot(data['Global'] , fit=norm);\n",
    "\n",
    "# Get the fitted parameters used by the function\n",
    "(mu, sigma) = norm.fit(data['Global'])\n",
    "print( '\\n mu = {:.2f} and sigma = {:.2f}\\n'.format(mu, sigma))\n",
    "\n",
    "#Now plot the distribution\n",
    "plt.legend(['Normal dist. ($\\mu=$ {:.2f} and $\\sigma=$ {:.2f} )'.format(mu, sigma)],\n",
    "            loc='best')\n",
    "plt.ylabel('Frequency')\n",
    "plt.title('Global_Sales distribution')"
   ]
  },
  {
   "cell_type": "code",
   "execution_count": 11,
   "metadata": {},
   "outputs": [
    {
     "data": {
      "text/plain": [
       "<AxesSubplot:title={'center':'Pearson Correlation of Video Game Numerical Features'}>"
      ]
     },
     "execution_count": 11,
     "metadata": {},
     "output_type": "execute_result"
    },
    {
     "data": {
      "image/png": "[encoded data removed]",
      "text/plain": [
       "<Figure size 1008x792 with 2 Axes>"
      ]
     },
     "metadata": {
      "needs_background": "light"
     },
     "output_type": "display_data"
    }
   ],
   "source": [
    "str_list = [] # empty list to contain columns with strings (words)\n",
    "for colname, colvalue in data.iteritems():\n",
    "    if type(colvalue[2]) == str:\n",
    "         str_list.append(colname)\n",
    "# Get to the numeric columns by inversion            \n",
    "num_list = data.columns.difference(str_list) \n",
    "# Create Dataframe containing only numerical features\n",
    "data_num = data[num_list]\n",
    "f, ax = plt.subplots(figsize=(14, 11))\n",
    "plt.title('Pearson Correlation of Video Game Numerical Features')\n",
    "# Draw the heatmap using seaborn\n",
    "sns.heatmap(data_num.astype(float).corr(),linewidths=0.25,vmax=1.0, \n",
    "            square=True, cmap=\"cubehelix_r\", linecolor='k', annot=True)"
   ]
  },
  {
   "cell_type": "markdown",
   "metadata": {},
   "source": [
    "In terms of autocorrelation the prospective independent variables aren't too highly correlated with each other in the correlation heat map. Only sales numbers are highly correlated with each other. Therefore we can look at intercepts of regression models without too much worries if we wish to do so later on. Higher correlations between sales figures may speak to the global nature of the video game industry: a success in one continent usually means a success in another continent as well. This lends greater confidence to using just Global_Sales as the dependent variable."
   ]
  },
  {
   "cell_type": "code",
   "execution_count": 12,
   "metadata": {},
   "outputs": [
    {
     "data": {
      "text/html": [
       "<div>\n",
       "<style scoped>\n",
       "    .dataframe tbody tr th:only-of-type {\n",
       "        vertical-align: middle;\n",
       "    }\n",
       "\n",
       "    .dataframe tbody tr th {\n",
       "        vertical-align: top;\n",
       "    }\n",
       "\n",
       "    .dataframe thead th {\n",
       "        text-align: right;\n",
       "    }\n",
       "</style>\n",
       "<table border=\"1\" class=\"dataframe\">\n",
       "  <thead>\n",
       "    <tr style=\"text-align: right;\">\n",
       "      <th></th>\n",
       "      <th>Missing Ratio</th>\n",
       "    </tr>\n",
       "  </thead>\n",
       "  <tbody>\n",
       "    <tr>\n",
       "      <th>User_Count</th>\n",
       "      <td>54.630024</td>\n",
       "    </tr>\n",
       "    <tr>\n",
       "      <th>Critic_Count</th>\n",
       "      <td>51.468353</td>\n",
       "    </tr>\n",
       "    <tr>\n",
       "      <th>Critic_Score</th>\n",
       "      <td>51.468353</td>\n",
       "    </tr>\n",
       "    <tr>\n",
       "      <th>Rating</th>\n",
       "      <td>40.609230</td>\n",
       "    </tr>\n",
       "    <tr>\n",
       "      <th>User_Score</th>\n",
       "      <td>40.177540</td>\n",
       "    </tr>\n",
       "    <tr>\n",
       "      <th>Developer</th>\n",
       "      <td>39.770171</td>\n",
       "    </tr>\n",
       "    <tr>\n",
       "      <th>Publisher</th>\n",
       "      <td>0.194564</td>\n",
       "    </tr>\n",
       "  </tbody>\n",
       "</table>\n",
       "</div>"
      ],
      "text/plain": [
       "              Missing Ratio\n",
       "User_Count        54.630024\n",
       "Critic_Count      51.468353\n",
       "Critic_Score      51.468353\n",
       "Rating            40.609230\n",
       "User_Score        40.177540\n",
       "Developer         39.770171\n",
       "Publisher          0.194564"
      ]
     },
     "execution_count": 12,
     "metadata": {},
     "output_type": "execute_result"
    }
   ],
   "source": [
    "data_na = (data.isnull().sum() / len(data)) * 100\n",
    "data_na = data_na.drop(data_na[data_na == 0].index).sort_values(ascending=False)[:30]\n",
    "missing_data = pd.DataFrame({'Missing Ratio' :data_na})\n",
    "missing_data.head(16)"
   ]
  },
  {
   "cell_type": "code",
   "execution_count": 13,
   "metadata": {},
   "outputs": [
    {
     "name": "stdout",
     "output_type": "stream",
     "text": [
      "PS2     2127\n",
      "DS      2122\n",
      "PS3     1306\n",
      "Wii     1285\n",
      "X360    1232\n",
      "PSP     1193\n",
      "PS      1190\n",
      "PC       957\n",
      "GBA      811\n",
      "XB       803\n",
      "GC       542\n",
      "3DS      512\n",
      "PSV      431\n",
      "PS4      393\n",
      "N64      316\n",
      "XOne     247\n",
      "SNES     239\n",
      "SAT      173\n",
      "WiiU     147\n",
      "2600     116\n",
      "NES       98\n",
      "GB        97\n",
      "DC        52\n",
      "GEN       27\n",
      "NG        12\n",
      "WS         6\n",
      "SCD        6\n",
      "3DO        3\n",
      "TG16       2\n",
      "PCFX       1\n",
      "GG         1\n",
      "Name: Platform, dtype: int64\n"
     ]
    }
   ],
   "source": [
    "print(pd.value_counts(data[\"Platform\"]))"
   ]
  },
  {
   "cell_type": "code",
   "execution_count": 14,
   "metadata": {},
   "outputs": [],
   "source": [
    "data = data[(data['Platform'] == 'PS3') | (data['Platform'] == 'PS4') | (data['Platform'] == 'X360') | (data['Platform'] == 'XOne') | (data['Platform'] == 'Wii') | (data['Platform'] == 'WiiU') | (data['Platform'] == 'PC')]"
   ]
  },
  {
   "cell_type": "code",
   "execution_count": 15,
   "metadata": {},
   "outputs": [
    {
     "name": "stdout",
     "output_type": "stream",
     "text": [
      "PS3     1306\n",
      "Wii     1285\n",
      "X360    1232\n",
      "PC       957\n",
      "PS4      393\n",
      "XOne     247\n",
      "WiiU     147\n",
      "Name: Platform, dtype: int64\n"
     ]
    }
   ],
   "source": [
    "print(pd.value_counts(data[\"Platform\"]))"
   ]
  },
  {
   "cell_type": "code",
   "execution_count": 16,
   "metadata": {},
   "outputs": [
    {
     "name": "stdout",
     "output_type": "stream",
     "text": [
      "(5567, 17)\n"
     ]
    },
    {
     "data": {
      "text/html": [
       "<div>\n",
       "<style scoped>\n",
       "    .dataframe tbody tr th:only-of-type {\n",
       "        vertical-align: middle;\n",
       "    }\n",
       "\n",
       "    .dataframe tbody tr th {\n",
       "        vertical-align: top;\n",
       "    }\n",
       "\n",
       "    .dataframe thead th {\n",
       "        text-align: right;\n",
       "    }\n",
       "</style>\n",
       "<table border=\"1\" class=\"dataframe\">\n",
       "  <thead>\n",
       "    <tr style=\"text-align: right;\">\n",
       "      <th></th>\n",
       "      <th>Missing Ratio</th>\n",
       "    </tr>\n",
       "  </thead>\n",
       "  <tbody>\n",
       "    <tr>\n",
       "      <th>Critic_Count</th>\n",
       "      <td>37.578588</td>\n",
       "    </tr>\n",
       "    <tr>\n",
       "      <th>Critic_Score</th>\n",
       "      <td>37.578588</td>\n",
       "    </tr>\n",
       "    <tr>\n",
       "      <th>User_Count</th>\n",
       "      <td>34.488953</td>\n",
       "    </tr>\n",
       "    <tr>\n",
       "      <th>Rating</th>\n",
       "      <td>23.765044</td>\n",
       "    </tr>\n",
       "    <tr>\n",
       "      <th>User_Score</th>\n",
       "      <td>22.471708</td>\n",
       "    </tr>\n",
       "    <tr>\n",
       "      <th>Developer</th>\n",
       "      <td>21.807077</td>\n",
       "    </tr>\n",
       "    <tr>\n",
       "      <th>Publisher</th>\n",
       "      <td>0.089815</td>\n",
       "    </tr>\n",
       "  </tbody>\n",
       "</table>\n",
       "</div>"
      ],
      "text/plain": [
       "              Missing Ratio\n",
       "Critic_Count      37.578588\n",
       "Critic_Score      37.578588\n",
       "User_Count        34.488953\n",
       "Rating            23.765044\n",
       "User_Score        22.471708\n",
       "Developer         21.807077\n",
       "Publisher          0.089815"
      ]
     },
     "execution_count": 16,
     "metadata": {},
     "output_type": "execute_result"
    }
   ],
   "source": [
    "#Let's see the shape of the data again\n",
    "print(data.shape)\n",
    "\n",
    "#Lets see the missing ratios again\n",
    "data_na = (data.isnull().sum() / len(data)) * 100\n",
    "data_na = data_na.drop(data_na[data_na == 0].index).sort_values(ascending=False)[:30]\n",
    "missing_data = pd.DataFrame({'Missing Ratio' :data_na})\n",
    "missing_data.head(16)"
   ]
  },
  {
   "cell_type": "code",
   "execution_count": 17,
   "metadata": {},
   "outputs": [
    {
     "name": "stdout",
     "output_type": "stream",
     "text": [
      "(3475, 17)\n"
     ]
    },
    {
     "data": {
      "text/html": [
       "<div>\n",
       "<style scoped>\n",
       "    .dataframe tbody tr th:only-of-type {\n",
       "        vertical-align: middle;\n",
       "    }\n",
       "\n",
       "    .dataframe tbody tr th {\n",
       "        vertical-align: top;\n",
       "    }\n",
       "\n",
       "    .dataframe thead th {\n",
       "        text-align: right;\n",
       "    }\n",
       "</style>\n",
       "<table border=\"1\" class=\"dataframe\">\n",
       "  <thead>\n",
       "    <tr style=\"text-align: right;\">\n",
       "      <th></th>\n",
       "      <th>Missing Ratio</th>\n",
       "    </tr>\n",
       "  </thead>\n",
       "  <tbody>\n",
       "    <tr>\n",
       "      <th>User_Count</th>\n",
       "      <td>4.863309</td>\n",
       "    </tr>\n",
       "    <tr>\n",
       "      <th>Rating</th>\n",
       "      <td>1.985612</td>\n",
       "    </tr>\n",
       "    <tr>\n",
       "      <th>User_Score</th>\n",
       "      <td>0.460432</td>\n",
       "    </tr>\n",
       "    <tr>\n",
       "      <th>Developer</th>\n",
       "      <td>0.086331</td>\n",
       "    </tr>\n",
       "    <tr>\n",
       "      <th>Publisher</th>\n",
       "      <td>0.028777</td>\n",
       "    </tr>\n",
       "  </tbody>\n",
       "</table>\n",
       "</div>"
      ],
      "text/plain": [
       "            Missing Ratio\n",
       "User_Count       4.863309\n",
       "Rating           1.985612\n",
       "User_Score       0.460432\n",
       "Developer        0.086331\n",
       "Publisher        0.028777"
      ]
     },
     "execution_count": 17,
     "metadata": {},
     "output_type": "execute_result"
    }
   ],
   "source": [
    "data = data.dropna(subset=['Critic_Score'])\n",
    "\n",
    "#Let's see the shape of the data again\n",
    "print(data.shape)\n",
    "\n",
    "#Lets see the missing ratios again\n",
    "data_na = (data.isnull().sum() / len(data)) * 100\n",
    "data_na = data_na.drop(data_na[data_na == 0].index).sort_values(ascending=False)[:30]\n",
    "missing_data = pd.DataFrame({'Missing Ratio' :data_na})\n",
    "missing_data.head(16)"
   ]
  },
  {
   "cell_type": "markdown",
   "metadata": {},
   "source": [
    "This looks better already. We've reached the point where we've dealt with N/A values for the most important variable and we still have enough data to work with. We still have to handle N/A values for the rest of the variables however, but this isn't as glaring of an issue as the missing ratios are relatively small, the highest being roughly 5 % for User_Count.\n",
    "\n",
    "Let's deal with the rest of the N/A values next."
   ]
  },
  {
   "cell_type": "markdown",
   "metadata": {},
   "source": [
    "### Fill Publisher, Developer, Rating with the mode\n",
    "### Fill User_Score, User_count , Year with median"
   ]
  },
  {
   "cell_type": "code",
   "execution_count": 18,
   "metadata": {},
   "outputs": [],
   "source": [
    "data['Publisher'] = data['Publisher'].fillna(data['Publisher'].mode()[0])\n",
    "data['Developer'] = data['Developer'].fillna(data['Developer'].mode()[0])\n",
    "data['Rating'] = data['Rating'].fillna(data['Rating'].mode()[0])"
   ]
  },
  {
   "cell_type": "code",
   "execution_count": 19,
   "metadata": {},
   "outputs": [],
   "source": [
    "#There's \"tbd\" values in the mix here which we need to handle first\n",
    "data['User_Score'] = data['User_Score'].replace('tbd', None)\n",
    "\n",
    "#Now we can handle the N/A's appropriately\n",
    "data['User_Score'] = data['User_Score'].fillna(data['User_Score'].median())\n",
    "\n",
    "data['Year'] = data['Year'].fillna(data['Year'].median())\n",
    "data['User_Count'] = data['User_Count'].fillna(data['User_Count'].median())"
   ]
  },
  {
   "cell_type": "code",
   "execution_count": 20,
   "metadata": {},
   "outputs": [
    {
     "data": {
      "text/html": [
       "<div>\n",
       "<style scoped>\n",
       "    .dataframe tbody tr th:only-of-type {\n",
       "        vertical-align: middle;\n",
       "    }\n",
       "\n",
       "    .dataframe tbody tr th {\n",
       "        vertical-align: top;\n",
       "    }\n",
       "\n",
       "    .dataframe thead th {\n",
       "        text-align: right;\n",
       "    }\n",
       "</style>\n",
       "<table border=\"1\" class=\"dataframe\">\n",
       "  <thead>\n",
       "    <tr style=\"text-align: right;\">\n",
       "      <th></th>\n",
       "      <th>Missing Ratio</th>\n",
       "    </tr>\n",
       "  </thead>\n",
       "  <tbody>\n",
       "  </tbody>\n",
       "</table>\n",
       "</div>"
      ],
      "text/plain": [
       "Empty DataFrame\n",
       "Columns: [Missing Ratio]\n",
       "Index: []"
      ]
     },
     "execution_count": 20,
     "metadata": {},
     "output_type": "execute_result"
    }
   ],
   "source": [
    "#Lets see the missing ratios again\n",
    "data_na = (data.isnull().sum() / len(data)) * 100\n",
    "data_na = data_na.drop(data_na[data_na == 0].index).sort_values(ascending=False)[:30]\n",
    "missing_data = pd.DataFrame({'Missing Ratio' :data_na})\n",
    "missing_data.head(16)"
   ]
  },
  {
   "cell_type": "markdown",
   "metadata": {},
   "source": [
    "### Change independent  variables to dummy variables ( one-hot )\n",
    "    - platform\n",
    "    - Genre\n",
    "    - Publisher\n",
    "    - Developer\n",
    "    - Rating"
   ]
  },
  {
   "cell_type": "code",
   "execution_count": 21,
   "metadata": {},
   "outputs": [
    {
     "data": {
      "text/plain": [
       "array(['Wii', 'X360', 'PS3', 'PS4', 'PC', 'WiiU', 'XOne'], dtype=object)"
      ]
     },
     "execution_count": 21,
     "metadata": {},
     "output_type": "execute_result"
    }
   ],
   "source": [
    "data['Platform'].unique()"
   ]
  },
  {
   "cell_type": "code",
   "execution_count": 22,
   "metadata": {},
   "outputs": [
    {
     "data": {
      "text/plain": [
       "array(['Racing', 'Sports', 'Misc', 'Platform', 'Action', 'Shooter',\n",
       "       'Fighting', 'Role-Playing', 'Simulation', 'Adventure', 'Strategy',\n",
       "       'Puzzle'], dtype=object)"
      ]
     },
     "execution_count": 22,
     "metadata": {},
     "output_type": "execute_result"
    }
   ],
   "source": [
    "data['Genre'].unique()"
   ]
  },
  {
   "cell_type": "code",
   "execution_count": 23,
   "metadata": {},
   "outputs": [
    {
     "data": {
      "text/plain": [
       "array(['Nintendo', 'Microsoft Game Studios', 'Take-Two Interactive',\n",
       "       'Activision', 'Sony Computer Entertainment', 'Ubisoft',\n",
       "       'Bethesda Softworks', 'Electronic Arts',\n",
       "       'Konami Digital Entertainment',\n",
       "       'Sony Computer Entertainment Europe', 'LucasArts',\n",
       "       'Warner Bros. Interactive Entertainment', 'Square Enix', 'Capcom',\n",
       "       'Eidos Interactive', 'Vivendi Games', 'Namco Bandai Games',\n",
       "       'MTV Games', 'THQ', 'Disney Interactive Studios', 'Sega',\n",
       "       '505 Games', 'Midway Games', 'Red Orb', 'Deep Silver', 'NCSoft',\n",
       "       'Valve Software', 'Valve', 'Hello Games', 'Atari', 'Codemasters',\n",
       "       'Zoo Games', 'RTL', 'D3Publisher', 'City Interactive', 'Russel',\n",
       "       'Slightly Mad Studios', 'Tomy Corporation', 'Tecmo Koei',\n",
       "       'Focus Home Interactive', 'Square Enix ', 'Ubisoft Annecy',\n",
       "       'Rising Star Games', 'Koch Media', 'Hudson Soft', 'Touchstone',\n",
       "       'Atlus', 'Spike', 'Sony Computer Entertainment America',\n",
       "       'SouthPeak Games', 'Unknown', 'Rondomedia', 'PQube',\n",
       "       'Trion Worlds', 'Nippon Ichi Software', 'Gamebridge',\n",
       "       'Sony Online Entertainment', 'Harmonix Music Systems',\n",
       "       'Activision Blizzard', 'Xplosiv', 'System 3 Arcade Software',\n",
       "       'Knowledge Adventure', 'Black Bean Games',\n",
       "       'Zoo Digital Publishing', 'Majesco Entertainment', 'Kalypso Media',\n",
       "       'Home Entertainment Suppliers', 'Arc System Works', 'Banpresto',\n",
       "       'Wargaming.net', 'Ignition Entertainment', 'Destineer',\n",
       "       'PopCap Games', 'Oxygen Interactive', 'DTP Entertainment',\n",
       "       'Marvelous Interactive', 'Milestone S.r.l.', 'Crave Entertainment',\n",
       "       'XS Games', 'Telltale Games', 'Zushi Games', 'CCP',\n",
       "       'Rebellion Developments', 'Compile Heart', 'bitComposer Games',\n",
       "       'JoWood Productions', 'Performance Designed Products', 'Funcom',\n",
       "       'Playlogic Game Factory', 'Activision Value', 'Scholastic Inc.',\n",
       "       'System 3', 'Nordic Games', 'Daedalic', 'Game Factory', 'EA Games',\n",
       "       'Paradox Interactive', 'Tripwire Interactive', 'SCS Software',\n",
       "       'Havas Interactive', 'Sting', 'Tru Blu Entertainment', 'Mindscape',\n",
       "       'Crytek', 'Moss', 'From Software', 'Bigben Interactive',\n",
       "       'Brash Entertainment', 'Gathering of Developers', 'O-Games',\n",
       "       'Bohemia Interactive', 'Reef Entertainment',\n",
       "       'The Adventure Company', 'Empire Interactive', 'Aqua Plus',\n",
       "       'Ackkstudios', 'HMH Interactive', 'inXile Entertainment',\n",
       "       'Yacht Club Games', 'Phantom EFX', 'Evolved Games', 'Takara Tomy',\n",
       "       'Idea Factory', 'Valcon Games', 'Little Orbit', 'Popcorn Arcade',\n",
       "       'Insomniac Games', 'Mastertronic', 'Milestone', 'Mad Catz',\n",
       "       'Idea Factory International', 'Success', 'Ghostlight', 'Metro 3D',\n",
       "       'Daedalic Entertainment', 'Revolution Software', 'Nobilis',\n",
       "       'Midas Interactive Entertainment', 'Xseed Games',\n",
       "       'Ascaron Entertainment GmbH', 'Aksys Games', 'Gamecock',\n",
       "       'Nordcurrent', '1C Company', 'Taito', 'Dusenberry Martin Racing',\n",
       "       'Conspiracy Entertainment', 'Navarre Corp', 'Team17 Software',\n",
       "       'Milestone S.r.l', 'Monte Christo Multimedia',\n",
       "       'DreamCatcher Interactive', 'Avanquest',\n",
       "       'Cloud Imperium Games Corporation', 'Flashpoint Games',\n",
       "       'Alternative Software', 'Iceberg Interactive', 'Astragon',\n",
       "       '2D Boy', 'Gearbox Software', 'Interplay', 'Mamba Games',\n",
       "       'Just Flight', 'Introversion Software', 'Sold Out', 'Sunflowers',\n",
       "       'Headup Games', 'id Software', 'Maxis', 'Pinnacle',\n",
       "       'Devolver Digital', 'Number None', 'Microids', 'Storm City Games',\n",
       "       'Strategy First', 'GOA', 'Graphsim Entertainment',\n",
       "       'Codemasters Online', 'Stainless Games', 'Aspyr',\n",
       "       'FuRyu Corporation', 'Visco', 'Virgin Interactive',\n",
       "       'MC2 Entertainment', 'Crimson Cow', 'Lighthouse Interactive',\n",
       "       'CDV Software Entertainment', 'Blue Byte', 'Paradox Development'],\n",
       "      dtype=object)"
      ]
     },
     "execution_count": 23,
     "metadata": {},
     "output_type": "execute_result"
    }
   ],
   "source": [
    "data['Publisher'].unique()"
   ]
  },
  {
   "cell_type": "code",
   "execution_count": 24,
   "metadata": {},
   "outputs": [
    {
     "data": {
      "text/plain": [
       "array(['Nintendo', 'Good Science Studio', 'Rockstar North',\n",
       "       'Infinity Ward, Sledgehammer Games', 'Treyarch', 'Infinity Ward',\n",
       "       'Game Arts', 'Bungie Software, Bungie', 'Polyphony Digital',\n",
       "       'Ubisoft', 'Bungie', '343 Industries', 'Bethesda Game Studios',\n",
       "       'EA Sports', 'Nd Cube', 'Hudson', 'Electronic Arts',\n",
       "       'The Sims Studio', 'Sledgehammer Games', 'EA Sports, EA Vancouver',\n",
       "       'Nintendo EAD Tokyo', 'EA DICE', 'Ubisoft Paris', 'Epic Games',\n",
       "       'Naughty Dog', 'Rockstar San Diego', 'EA Canada', 'Retro Studios',\n",
       "       'Blizzard Entertainment', 'Rare Ltd.', 'Kojima Productions',\n",
       "       'SCE/WWS, Media Molecule', \"Traveller's Tales\", 'Ubisoft Montreal',\n",
       "       'Turn 10', 'Rocksteady Studios', 'Square Enix', 'Lionhead Studios',\n",
       "       'Capcom', 'Naughty Dog, SCE/WWS', 'SCE Santa Monica',\n",
       "       'Bluepoint Games', 'Vicarious Visions', 'Neversoft Entertainment',\n",
       "       'Bethesda Softworks', 'Ubisoft Paris, Ubisoft Montpellier',\n",
       "       'Insomniac Games', 'Valve Software', 'Obsidian Entertainment',\n",
       "       'Cat Daddy Games', 'CD Projekt Red Studio',\n",
       "       'Ubisoft, Ubisoft Montreal', 'Visual Concepts',\n",
       "       'Evolution Studios', 'SCEA, Zindagi Games',\n",
       "       'Massive Entertainment', 'Maxis', 'Intelligent Systems',\n",
       "       'Certain Affinity', 'Gearbox Software',\n",
       "       'Kojima Productions, Moby Dick Studio', 'Media Molecule',\n",
       "       'Ubisoft Quebec', 'Splash Damage, The Coalition',\n",
       "       'Harmonix Music Systems', 'Team Bondi', '4J Studios', 'BioWare',\n",
       "       'Luxoflux, Inc.', 'Quantic Dream', 'Volition Inc.', 'Guerrilla',\n",
       "       'Junction Point', 'LucasArts, BioWare', 'Monolith Productions',\n",
       "       'Respawn Entertainment', 'Sucker Punch', 'Sumo Digital',\n",
       "       'OfficeCreate', 'EA Tiburon', 'NetherRealm Studios',\n",
       "       'Irrational Games, 2K Marin', 'EA DICE, Danger Close',\n",
       "       'Criterion Games', 'Toys for Bob',\n",
       "       'Warner Bros. Interactive Entertainment, NetherRealm Studios',\n",
       "       'LucasArts', 'Namco Bandai Games', 'Sonic Team',\n",
       "       'Slightly Mad Studios', 'EA Black Box', 'Ensemble Studios',\n",
       "       'Dice, Danger Close', 'Next Level Games', 'CAProduction',\n",
       "       'Raven Software', 'Midway', 'From Software', 'Black Rock Studio',\n",
       "       'Cyan Worlds', 'THQ', 'Konami', 'Techland',\n",
       "       'Pipeworks Software, Inc.', 'Frontier Developments',\n",
       "       'Rare Ltd., BigPark', 'ArenaNet', 'WB Games Montreal',\n",
       "       'Backbone Entertainment', 'Sega', 'TT Games', '2K Marin',\n",
       "       'Io Interactive', 'Visceral Games', \"Yuke's\", 'EA Vancouver',\n",
       "       'Black Box', 'EA Redwood Shores', 'Ghost Games',\n",
       "       'PLAYGROUND, Playground Games', 'Exakt', 'Irrational Games',\n",
       "       'Papaya Studios', 'Krome Studios', 'Avalanche Studios',\n",
       "       'Rockstar Studios', 'Ubisoft Montpellier', 'Hangar 13',\n",
       "       'Tango Gameworks', 'Realtime Worlds', 'Terminal Reality',\n",
       "       'Ready at Dawn, SCE Santa Monica', 'SCE Japan Studio',\n",
       "       'Ubisoft Reflections, Ivory Tower', 'Arkane Studios',\n",
       "       'Hello Games', 'Farsight Studios', 'Firaxis Games',\n",
       "       'Bandai Namco Games', 'EA Chicago', 'SuperMassive Games',\n",
       "       'HB Studios Multimedia', 'HAL Labs', 'Ninja Theory', 'EA Montreal',\n",
       "       'id Software', 'Genius Sonority Inc.', 'Namco',\n",
       "       'Nintendo, Nd Cube', 'Capcom Vancouver', 'MachineGames',\n",
       "       '2K Czech', 'h.a.n.d. Inc.', 'Cavia Inc.', 'Sports Interactive',\n",
       "       'Level 5', 'Blue Castle Games', 'Kaos Studios',\n",
       "       'Avalanche Software', 'BigPark', 'Planet Moon Studios',\n",
       "       'Blue Byte, Related Designs', 'EA Bright Light',\n",
       "       'Digital Extremes, 2K Marin', 'PlatinumGames', 'Danger Close',\n",
       "       'Playground Games', 'Crytek', 'Crystal Dynamics',\n",
       "       'Sega, Sonic Team', 'Eidos Montreal', 'The Coalition',\n",
       "       'Team Ninja', 'Codemasters Birmingham', 'Remedy Entertainment',\n",
       "       'Radical Entertainment', 'Good-Feel',\n",
       "       'Namco Bandai Games America, Namco Bandai Games',\n",
       "       'Artefacts Studio', 'Ubisoft Sofia', 'ZeniMax Media', '3G Studios',\n",
       "       \"THQ, Yuke's\", 'Virtuos', 'Nixxes Software', 'Slant Six',\n",
       "       'Chris Sawyer', '49Games', 'Omega Force', 'High Voltage Software',\n",
       "       'CyberConnect2', 'Nex Entertainment', 'EA LA', 'Codemasters',\n",
       "       'Omega Force, Tecmo Koei Games', 'Creatures Inc.',\n",
       "       'City Interactive', 'Clap Hanz', 'Creative Assembly',\n",
       "       'SCEE London Studio', 'United Front Games',\n",
       "       'Ryu ga Gotoku Studios', 'Ruffian Games', 'Dimps Corporation',\n",
       "       'Mercury Steam', 'EA Games', 'EA Redwood Shores, EA Salt Lake',\n",
       "       'Sega AM2', 'PopCap', 'FreeStyleGames',\n",
       "       'Mad Doc Software, Rockstar Vancouver', 'Rebellion',\n",
       "       'Blizzard North', 'Arika', 'Vigil Games', 'Pandemic Studios',\n",
       "       'Incognito Inc.', 'Sega AM3', 'Electronic Arts, EA Redwood Shores',\n",
       "       'Splash Damage', 'Red Storm Entertainment, Ubisoft Paris',\n",
       "       'TT Fusion', 'Tantalus Interactive, Tantatus, Nintendo',\n",
       "       'Crystal Dynamics, Nixxes Software', 'EA Salt Lake',\n",
       "       'Spike, Namco Bandai Games', 'Eurocom Entertainment Software',\n",
       "       'Longtail Studios', 'Epic Games, People Can Fly',\n",
       "       'Heavy Iron Studios', '8ing/Raizing', 'Project Aces',\n",
       "       'Electronic Arts, Rebellion', 'Team Ninja, Tecmo',\n",
       "       'UBlart Montpellier', 'Free Radical Design', 'Incinerator Games',\n",
       "       'Ubisoft Toronto', 'Double Fine Productions',\n",
       "       'Turtle Rock Studios', 'Giants Software',\n",
       "       'Vicarious Visions, Neversoft Entertainment',\n",
       "       'Blue Tongue Entertainment', 'SuperBot Entertainment',\n",
       "       'Ubisoft Reflections', 'Buzz Monkey', 'Activision',\n",
       "       'Rainbow Studios', 'SCEA San Diego Studios', 'Mistwalker, Artoon',\n",
       "       'Xpec', 'Ubisoft Shanghai', 'Monolith Soft', 'Mistwalker',\n",
       "       'Blitz Games Studios', 'Zipper Interactive', 'Rockstar Toronto',\n",
       "       'Big Huge Games', 'Media Molecule, United Front Games',\n",
       "       'Cooking Mama Limited', 'Red Fly Studio', 'Page 44 Studios',\n",
       "       'Dimps Corporation, Namco Bandai Games', 'Headstrong Games',\n",
       "       'Gearbox Software, 3D Realms', 'Treyarch, Sledgehammer Games',\n",
       "       'Marvelous Entertainment', 'Capcom, Pipeworks Software, Inc.',\n",
       "       'Spike', 'Monkey Bar Games', 'Square Enix, Tri-Ace',\n",
       "       'Silicon Knights', 'iNiS',\n",
       "       'Artificial Mind and Movement, Polygon Magic',\n",
       "       'Exient Entertainment', 'LucasArts, Red Fly Studio',\n",
       "       'Game Republic', 'Project Soul', 'Propaganda Games', 'TOSE',\n",
       "       'Tri-Ace', 'Natsume', 'Arc System Works', 'CyberConnect2, Racjin',\n",
       "       'Artificial Mind and Movement', 'Kush Games', '2K Australia',\n",
       "       'SCEA', 'Bizarre Creations', 'Koei, Omega Force',\n",
       "       'Eighting, Genius Sonority Inc.', 'Reality Pump', 'Atlus',\n",
       "       'Kalypso', 'Ubisoft Milan', 'Gaijin Entertainment',\n",
       "       'Sanzaru Games', 'Secret Level', 'Trion Worlds',\n",
       "       'BioWare, Demiurge Studios', 'Engine Software', 'Now Production',\n",
       "       'Starbreeze', 'Grasshopper Manufacture',\n",
       "       'Krome Studios, Screenlife Games', 'Paradigm Entertainment',\n",
       "       'Epicenter Studios', 'Juice Games', 'id Software, Raven Software',\n",
       "       'SEGA Racing Studio', 'EA Sports, EA Canada', 'Paon Corporation',\n",
       "       'Robomodo', 'Ascaron Entertainment GmbH, Ascaron Entertainment',\n",
       "       '2K Sports', 'Microsoft Game Studios', 'Vanillaware',\n",
       "       'Ready at Dawn', 'Coldwood Interactive', 'Pam Development',\n",
       "       'Asobo Studio', 'Beenox', 'Ubisoft Romania', 'Spicy Horse',\n",
       "       'Kush Games, Visual Concepts', 'High Impact Games',\n",
       "       'Overkill Software', 'Midway Studios - Austin',\n",
       "       'Nippon Ichi Software', 'Silicon Studio', 'Etranges Libellules',\n",
       "       'Relic', 'Tetris Online, Inc', 'THQ Digital Studio Phoenix',\n",
       "       'Yager', 'Day 1 Studios', 'Omega Force, Koei Tecmo Games',\n",
       "       '4A Games', 'Destineer', 'Eighting', 'Monster Games Inc.', 'GRIN',\n",
       "       'MTO', 'Machatin, Inc.', 'City Interactive, Deck 13', 'Acquire',\n",
       "       'Factor 5, SCE/WWS', 'WBIE', 'Eugen Systems', 'Blitz Games',\n",
       "       'Racjin', 'Eden Studios', 'Zoe Mode', 'Screenlife Games, WXP',\n",
       "       'Digital Extremes', 'Marvelous AQL', 'Razorworks', 'FASA Studio',\n",
       "       'Ubisoft Barcelona, Ubisoft Reflections', 'Artoon',\n",
       "       'Eurocom Entertainment Software, Visceral Games',\n",
       "       'Climax Group, Climax Studios', 'Vatra', 'Shiny Entertainment',\n",
       "       'Nerve Software', 'High Moon Studios', 'Wideload Games Inc.',\n",
       "       'Farsight Studios, Crave', 'Nintendo, Camelot Software Planning',\n",
       "       'Q Entertainment', 'Tri-Crescendo', 'LucasArts, Krome Studios',\n",
       "       'Idea Factory, Compile Heart', 'Gust', 'RedLynx',\n",
       "       'Nintendo, Intelligent Systems', 'Saber Interactive',\n",
       "       'Maximum Games', 'Knowledge Adventure Inc.',\n",
       "       'Harmonix Music Systems, Demiurge Studios', 'Digital Illusions',\n",
       "       'Shaba Games', '7 Studios', 'Triumph Studios',\n",
       "       'DONTNOD Entertainment', 'WayForward', 'Twisted Pixel Games',\n",
       "       'Prope', 'Sega Studios San Francisco', 'Milestone S.r.l',\n",
       "       'Point of View', 'Lightning Fish Games', 'Blueside', '2K Games',\n",
       "       'Psyonix', 'Climax Group', 'Neverland', '5TH Cell',\n",
       "       'Zombie Studios', 'Sandlot', 'Airtight Games',\n",
       "       'Take-Two Interactive', 'Deep Silver Dambuster Studios',\n",
       "       'Spike Chunsoft', 'Destination Software', 'Z-Axis, Ltd.', 'Nadeo',\n",
       "       'Kuju Entertainment', 'Gas Powered Games', 'K2 LLC', 'Nihilistic',\n",
       "       'Cohort Studios', 'SCEJ', 'EA Canada, EA Vancouver',\n",
       "       'SNK Playmore', 'Smart Bomb Interactive',\n",
       "       'Terminal Reality, 4mm Games', 'AI', 'Eidos Interactive',\n",
       "       'n-Space', 'Polygon Magic', 'Inti Creates', 'Hijinx Studios',\n",
       "       'Venom Games', 'Game Republic, JapanStudio',\n",
       "       'Mercury Steam, Alchemic Productions', 'Iron Galaxy Studios',\n",
       "       'Hudson Soft', 'Access Games', 'Human Head Studios',\n",
       "       'Big Red Button Entertainment', 'Blue Byte', 'Haemimont',\n",
       "       'Ganbarion', 'Sidhe Interactive', 'Edge of Reality', 'Humagade',\n",
       "       'Artdink', 'Eutechnyx', 'Banpresto, SoftMax', 'Related Designs',\n",
       "       'The Workshop', 'Neversoft Entertainment, Underground Development',\n",
       "       'Double Helix Games', 'Cing', 'LightBox Interactive',\n",
       "       'Spark Unlimited', 'Vicious Cycle', 'Wargaming.net', 'Cave',\n",
       "       'Amaze Entertainment', 'Volatile Games', 'Ignition Entertainment',\n",
       "       'Indies Zero', 'Zindagi Games', 'AWE Games', 'Firebrand Games',\n",
       "       'Zoe Mode, HB Studios Multimedia', 'Arcade Moon',\n",
       "       'Ubisoft Vancouver', 'TimeGate Studios',\n",
       "       'Rocksteady Studios, Virtuos', 'Rovio Mobile, Rovio Entertainment',\n",
       "       'Treyarch, Shaba Games', '2K Shanghai', \"Crispy's\",\n",
       "       'Cyanide, Cyanide Studios', 'Sony Interactive Entertainment',\n",
       "       'InXile Entertainment', 'ZootFly', 'Rockstar Leeds',\n",
       "       'SCE Studio Cambridge', 'Bandai Namco Games, Artdink',\n",
       "       'Io Interactive, Nixxes Software', 'Tamsoft, D3Publisher',\n",
       "       'Frogwares', 'Oxygen Interactive', 'Revolution Software',\n",
       "       'Larian Studios', 'Compile Heart', 'Red Tribe',\n",
       "       'Magic Pixel Games', 'Disney Interactive Studios',\n",
       "       'JGI Entertainment', 'Hudson, NATSUME ATARI Inc.', 'Piranha Bytes',\n",
       "       'FUN Labs', 'Tecmo, Ntreev Soft', 'Monumental Games',\n",
       "       'Infinite Interactive', 'Team 17', 'Beyond Reality',\n",
       "       'Pseudo Interactive', 'Rhino Studios', 'Taito Corporation',\n",
       "       'Swordfish Studios', 'ThatGameCompany', 'Piranha Games',\n",
       "       'Telltale Games',\n",
       "       'Deep Silver, Sproing Interactive Media, Sproing', '2XL Games',\n",
       "       'Jellyvision, Iron Galaxy Studios', 'Bongfish', 'Bec', 'CCP',\n",
       "       'Behaviour Interactive', 'Ubisoft Annecy', 'Pyro Studios',\n",
       "       'Gaming Minds Studios', 'Media Vision', 'Torus Games', 'Falcom',\n",
       "       'Cauldron Ltd.', 'Jet Black Games', 'Sony Online Entertainment',\n",
       "       'Examu', 'FeelPlus', 'Spiders', 'Genki', 'GCP1', 'ChunSoft',\n",
       "       'Pivotal Games', 'Stormfront Studios', 'Tecmo', 'Keen Games',\n",
       "       'Activision, FreeStyleGames', 'Image Epoch, Imageepoch', 'SCEE',\n",
       "       'Games Farm', 'Tecmo Koei Canada', 'Spellbound',\n",
       "       'Buena Vista Games', 'Snowblind Studios', 'D3Publisher', 'Teyon',\n",
       "       'Majesco Games, Majesco', 'Hydravision', 'Big Ant Studios',\n",
       "       'Performance Designed Products', 'Gust, Idea Factory',\n",
       "       'Marvelous Inc.', 'Eighting, Takara Tomy', 'Koei Tecmo Games',\n",
       "       'Replay Studios, ML Enterprises', 'SimBin', 'Funcom',\n",
       "       'Black Lantern Studios', 'Deep Silver',\n",
       "       'Playlogic, The Game Factory', 'Kylotonn', 'Bugbear',\n",
       "       'Artech Studios', 'Cyanide', 'Sega, French-Bread',\n",
       "       'FireFly Studios', 'SScholastic Media', 'Hudson Entertainment',\n",
       "       'Omiya Soft, Jamsworks', '10tacle Studios',\n",
       "       'Atari, Transmission Games, Atari SA', 'System 3',\n",
       "       'Carbine Studios', 'Koei', 'Compile Heart, GCREST',\n",
       "       'Game Arts, Seta Corporation', 'Aqua Plus', 'THQ Australia',\n",
       "       'Daedalic Entertainment', 'Warner Bros. Interactive Entertainment',\n",
       "       'Her Interactive', 'Armature Studio, comcept', 'Re-Logic',\n",
       "       'Two Tribes', 'Liquid Entertainment', 'Bohemia Interactive',\n",
       "       'Colossal Order', 'Seven45 Studios', 'TopWare Interactive',\n",
       "       'The Fun Pimps Entertainment LLC', 'Transmission Games',\n",
       "       'K2, Kurogane', 'Tripwire Interactive', 'Left Field Productions',\n",
       "       'Panic Button', 'Atari, Atari SA', 'Virtual Air Guitar Company',\n",
       "       'SCS Software', 'Rocksteady Studios, Iron Galaxy Studios',\n",
       "       'Deck 13', 'Phosphor Games Studio, LLC', 'Sting', 'Tamsoft',\n",
       "       'Nfusion', 'Super X Studios', 'Mindscape Inc., Mindscape',\n",
       "       'Kung Fu Factory', 'Prope, Kadokawa', 'Zeroscale', 'Moss',\n",
       "       'Midway Studios - San Diego', 'Tantatus', 'Griptonite Games',\n",
       "       'Animation Arts',\n",
       "       'Artificial Studios, Immersion Software & Graphics',\n",
       "       'Black Hole Games', 'Trickstar Games', 'Gusto Games',\n",
       "       'Guildford Studio', 'Bionic Games', 'Amanita Design',\n",
       "       'Guerilla Cambridge', 'Shift', 'Mass Media',\n",
       "       'XPEC Entertainment Inc.', 'Immersion Software & Graphics',\n",
       "       'Idea Factory', 'KING Art', 'Deep Silver, Keen Games', 'KCET',\n",
       "       'Petroglyph', '505 Games', 'ArtePiazza', 'Other Ocean Interactive',\n",
       "       'Ivory Tower', 'Kadokawa', 'Loose Cannon Studios',\n",
       "       'Yacht Club Games', 'IR Gurus', 'BudCat', '8Monkey Labs',\n",
       "       'Realmforge Studios', 'Atomic Motion', 'The Game Factory',\n",
       "       'Isopod Labs', 'Spark Unlimited, comcept', 'Hit Maker',\n",
       "       'Takara Tomy', 'Blue Omega', 'Crave', 'Hellbent Games',\n",
       "       'Collision Studios', 'Gaijin Games', 'G1M2',\n",
       "       'TimeGate Studios, Day 1 Studios', 'Tabot', 'Wizarbox',\n",
       "       'Red Storm Entertainment', 'Gulti', 'Digital Leisure Inc.',\n",
       "       'Shift, Bandai Namco Games', 'Digital Eclipse',\n",
       "       'Data Design Interactive', 'Kheops Studio',\n",
       "       'Namco Bandai Games, Monkey Bar Games', 'Vivendi Games', 'Egosoft',\n",
       "       'Mid Carolina Media', 'Milestone, Milestone S.r.l', 'Croteam',\n",
       "       'MileStone Inc.', 'Metropolis Software', 'Ubisoft Barcelona',\n",
       "       'FuRyu', 'Fatshark AB', 'Runic Games', 'Mad Catz', 'ValuSoft',\n",
       "       'Paradox Development Studio', 'Awesome Play Ltd.', 'Success',\n",
       "       'Leviathan Games', 'Ubisoft, FunHouse', 'Doublesix', 'Zoo Games',\n",
       "       'Studio Liverpool', 'Monte Cristo Multimedia',\n",
       "       'Neko Entertainment', 'Kunos Simulazioni', 'MBA International',\n",
       "       'Nikitova Games', 'Extra Mile Studios', 'Nitro+',\n",
       "       'Nordic Games Publishing', 'Pendulo Studios', 'Totally Games',\n",
       "       '10tacle Studios, Fusionsphere Systems', 'GSC Game World',\n",
       "       'Valhalla Game Studios', 'Left Field Productions, Zoo Games',\n",
       "       'Blue Fang Games', 'TOYBOX', 'KnowWonder',\n",
       "       'Eutechnyx, Deep Silver', 'Iron Lore Entertainment',\n",
       "       'Sensory Sweep', 'CI Games', 'Icon Games', 'Cranberry Production',\n",
       "       '1C: Maddox Games', 'RED Entertainment', 'THQ, 1C, 1C Company',\n",
       "       'NanaOn-Sha', 'Buka Entertainment, Targem Games', 'Gameinvest',\n",
       "       'Atomic Planet Entertainment', '5pb',\n",
       "       'Taito Corporation, 505 Games', 'Dusenberry Martin Racing',\n",
       "       'Liquid Dragon Studios', 'Digital Anvil',\n",
       "       'Stainless Steel Studios', 'VSTEP', 'Bright Future GmbH',\n",
       "       'SouthPeak Games', 'Coyote Console', 'Illusion Softworks',\n",
       "       'Humongous Entertainment', 'Alfa System', 'G.Rev', 'EKO Software',\n",
       "       'Fusionsphere Systems', 'Examu, Marvelous Inc.', 'Capcom, QLOC',\n",
       "       'Paprikari', 'Snap Dragon Games', 'Wicked Witch Software',\n",
       "       'Ascaron Entertainment GmbH',\n",
       "       'Atari, Slightly Mad Studios, Atari SA', 'Nival Interactive',\n",
       "       'Best Way', 'Naps Team', 'Mad Doc Software', 'Avalon Style',\n",
       "       'Tilted Mill', 'Reloaded Productions, Reloaded Games Inc.',\n",
       "       'System Prisma',\n",
       "       'Volition Inc., CD Projekt Red Studio, CD Projekt, CD Projekt Localisation Centre',\n",
       "       'Frozenbyte, Inc.', 'Urban Games', '2D Boy',\n",
       "       'Fusionsphere Systems, Animation Arts', 'PopTop Software',\n",
       "       'Enlight Software', 'Black Isle Studios', 'Ice-Pick Lodge',\n",
       "       'BattleGoat Studios', 'Volition Inc., Reactor Zero',\n",
       "       'Eidos Montreal, Nixxes Software',\n",
       "       'Edmund McMillen, Florian Himsl', 'Introversion, Double Eleven',\n",
       "       'Big Time Software', 'Viva Media, Viva Media, LLC',\n",
       "       'Eagle Dynamics', 'Black Sea Studios', 'Headup Games',\n",
       "       'Stormregion', 'Ironclad Games', 'Nitro Games',\n",
       "       'Number None Inc., Knockout Games', 'Microids',\n",
       "       'Legacy Interactive', 'Storm City Games', 'Still Alive Studios',\n",
       "       'Nordcurrent', 'Reflections Interactive', 'Arrowhead Game Studios',\n",
       "       'Activision, Behaviour Interactive', 'Twelve Games',\n",
       "       'Neon Studios, Kaiko', 'Dracue', 'EA Mythic', 'SEK Ost',\n",
       "       'Autumn Moon', 'The Tangentlemen', 'Cryptic Studios',\n",
       "       'Edge Entertainment, Anima Project', '1C, 1C Company',\n",
       "       'Boxed Dream', 'Lead Pursuit', 'The Digital Lounge, Dino Dini',\n",
       "       'Trendy Entertainment', 'DTP Entertainment',\n",
       "       'Mediascape, CUBETYPE', 'JoWooD Entertainment AG',\n",
       "       'Master Creating', 'Turbine Inc.', 'Stainless Games',\n",
       "       'People Can Fly', 'Nvizzio Creations', 'Unigine Corp, Russia',\n",
       "       'Flagship Studios', 'ApolloSoft', '1C:Ino-Co',\n",
       "       'Headup Games, Crenetic Studios', 'Pterodon', 'Aspyr',\n",
       "       'Strangelite', 'Deep Red', 'Supersonic Software',\n",
       "       'Magenta Software', 'GameCo', 'Flying Lab Software', 'Akella',\n",
       "       'Boomzap', '1C, Ino-Co, 1C Company', 'Paradox Interactive',\n",
       "       'Elixir Studios', 'Compulsion Games', 'Camouflaj, LLC',\n",
       "       'Ubisoft Bulgaria', 'Subterranean Games',\n",
       "       'DMA Design, Rockstar North', 'Spidersoft, Spiders',\n",
       "       'Battlefront.com, 1C, 1C Company', 'EA Phenomic',\n",
       "       'Empty Clip Studios', 'Ion Storm', 'Headgate',\n",
       "       'Coffee Stain Studios', 'Nintendo, Nintendo Software Technology',\n",
       "       'Societe Pollene', 'React Games', 'Katauri Interactive',\n",
       "       'High Moon Studios, Mercenary Technologies', 'Big Red Software',\n",
       "       \"Shin'en\", 'Atomic Games'], dtype=object)"
      ]
     },
     "execution_count": 24,
     "metadata": {},
     "output_type": "execute_result"
    }
   ],
   "source": [
    "data['Developer'].unique()"
   ]
  },
  {
   "cell_type": "code",
   "execution_count": 25,
   "metadata": {},
   "outputs": [
    {
     "data": {
      "text/plain": [
       "array(['E', 'M', 'T', 'E10+', 'RP'], dtype=object)"
      ]
     },
     "execution_count": 25,
     "metadata": {},
     "output_type": "execute_result"
    }
   ],
   "source": [
    "data['Rating'].unique()"
   ]
  },
  {
   "cell_type": "markdown",
   "metadata": {},
   "source": [
    "#### Publisher and Developer have so many unique values. At this point it seems best to drop these features entirely"
   ]
  },
  {
   "cell_type": "markdown",
   "metadata": {},
   "source": [
    "### Remaining independent  variables to dummy variables ( one-hot )\n",
    "    - platform\n",
    "    - Genre\n",
    "    - Rating"
   ]
  },
  {
   "cell_type": "code",
   "execution_count": 26,
   "metadata": {},
   "outputs": [
    {
     "name": "stdout",
     "output_type": "stream",
     "text": [
      "(3475, 17)\n",
      "(3475, 38)\n"
     ]
    },
    {
     "data": {
      "text/plain": [
       "<bound method NDFrame.head of                                     Name  Year                     Publisher  \\\n",
       "2                         Mario Kart Wii  2008                      Nintendo   \n",
       "3                      Wii Sports Resort  2009                      Nintendo   \n",
       "7                               Wii Play  2006                      Nintendo   \n",
       "8              New Super Mario Bros. Wii  2009                      Nintendo   \n",
       "13                               Wii Fit  2007                      Nintendo   \n",
       "...                                  ...   ...                           ...   \n",
       "16664                   Prison Architect  2016         Introversion Software   \n",
       "16696  Metal Gear Solid V: Ground Zeroes  2014  Konami Digital Entertainment   \n",
       "16700                             Breach  2011                     Destineer   \n",
       "16706            STORM: Frontline Nation  2011                       Unknown   \n",
       "16709                            15 Days  2009             DTP Entertainment   \n",
       "\n",
       "          NA     EU    JP  Other  Global  Critic_Score  Critic_Count  ...  \\\n",
       "2      15.68  12.76  3.79   3.29   35.52          82.0          73.0  ...   \n",
       "3      15.61  10.93  3.28   2.95   32.77          80.0          73.0  ...   \n",
       "7      13.96   9.18  2.93   2.84   28.92          58.0          41.0  ...   \n",
       "8      14.44   6.94  4.70   2.24   28.32          87.0          80.0  ...   \n",
       "13      8.92   8.03  3.60   2.15   22.70          80.0          63.0  ...   \n",
       "...      ...    ...   ...    ...     ...           ...           ...  ...   \n",
       "16664   0.01   0.00  0.00   0.00    0.01          74.0          13.0  ...   \n",
       "16696   0.00   0.01  0.00   0.00    0.01          80.0          20.0  ...   \n",
       "16700   0.01   0.00  0.00   0.00    0.01          61.0          12.0  ...   \n",
       "16706   0.00   0.01  0.00   0.00    0.01          60.0          12.0  ...   \n",
       "16709   0.00   0.01  0.00   0.00    0.01          63.0           6.0  ...   \n",
       "\n",
       "      Genre_Role-Playing  Genre_Shooter Genre_Simulation  Genre_Sports  \\\n",
       "2                      0              0                0             0   \n",
       "3                      0              0                0             1   \n",
       "7                      0              0                0             0   \n",
       "8                      0              0                0             0   \n",
       "13                     0              0                0             1   \n",
       "...                  ...            ...              ...           ...   \n",
       "16664                  0              0                0             0   \n",
       "16696                  0              0                0             0   \n",
       "16700                  0              1                0             0   \n",
       "16706                  0              0                0             0   \n",
       "16709                  0              0                0             0   \n",
       "\n",
       "       Genre_Strategy  Rating_E  Rating_E10+  Rating_M  Rating_RP  Rating_T  \n",
       "2                   0         1            0         0          0         0  \n",
       "3                   0         1            0         0          0         0  \n",
       "7                   0         1            0         0          0         0  \n",
       "8                   0         1            0         0          0         0  \n",
       "13                  0         1            0         0          0         0  \n",
       "...               ...       ...          ...       ...        ...       ...  \n",
       "16664               0         0            0         0          0         1  \n",
       "16696               0         0            0         1          0         0  \n",
       "16700               0         0            0         0          0         1  \n",
       "16706               1         0            1         0          0         0  \n",
       "16709               0         0            0         0          0         1  \n",
       "\n",
       "[3475 rows x 38 columns]>"
      ]
     },
     "execution_count": 26,
     "metadata": {},
     "output_type": "execute_result"
    }
   ],
   "source": [
    "print(data.shape) #pre-dummies shape\n",
    "data = pd.get_dummies(data=data, columns=['Platform', 'Genre', 'Rating'])\n",
    "print(data.shape) #post-dummies shape\n",
    "data.head #Check to verify that dummies are ok"
   ]
  },
  {
   "cell_type": "markdown",
   "metadata": {},
   "source": [
    "Let's drop the features we wish to discard for our models. These include:\n",
    "\n",
    "* Name\n",
    "* Publisher\n",
    "* Developer\n",
    "* NA\n",
    "* EU\n",
    "* JP\n",
    "* Other"
   ]
  },
  {
   "cell_type": "code",
   "execution_count": 27,
   "metadata": {},
   "outputs": [],
   "source": [
    "data = data.drop(['Name','Publisher','Developer','NA', 'EU', 'JP', 'Other'], axis=1)"
   ]
  },
  {
   "cell_type": "markdown",
   "metadata": {},
   "source": [
    "### Split into training and test data"
   ]
  },
  {
   "cell_type": "code",
   "execution_count": 28,
   "metadata": {},
   "outputs": [],
   "source": [
    "X = data[['Year', 'Critic_Score', 'Critic_Count',\n",
    "       'User_Score', 'User_Count', 'Platform_PC', 'Platform_PS3',\n",
    "       'Platform_PS4', 'Platform_Wii', 'Platform_WiiU', 'Platform_X360',\n",
    "       'Platform_XOne', 'Genre_Action', 'Genre_Adventure', 'Genre_Fighting',\n",
    "       'Genre_Misc', 'Genre_Platform', 'Genre_Puzzle', 'Genre_Racing',\n",
    "       'Genre_Role-Playing', 'Genre_Shooter', 'Genre_Simulation',\n",
    "       'Genre_Sports', 'Genre_Strategy', 'Rating_E', 'Rating_E10+', 'Rating_M',\n",
    "       'Rating_RP', 'Rating_T']]\n",
    "\n",
    "Y = data[['Global']]"
   ]
  },
  {
   "cell_type": "code",
   "execution_count": 29,
   "metadata": {},
   "outputs": [
    {
     "name": "stdout",
     "output_type": "stream",
     "text": [
      "(3475, 29)\n",
      "(3475, 1)\n"
     ]
    }
   ],
   "source": [
    "print(X.shape)\n",
    "print(Y.shape)"
   ]
  },
  {
   "cell_type": "code",
   "execution_count": 30,
   "metadata": {},
   "outputs": [
    {
     "name": "stdout",
     "output_type": "stream",
     "text": [
      "X_train shape: (2606, 29)\n",
      "Y_train shape: (2606, 1)\n",
      "X_test shape: (869, 29)\n",
      "Y_test shape: (869, 1)\n"
     ]
    }
   ],
   "source": [
    "from sklearn.model_selection import train_test_split\n",
    "\n",
    "X_train, X_test, Y_train, Y_test = train_test_split(X, Y, random_state=42)\n",
    "\n",
    "#Let's check the shape of the split data as a precaution\n",
    "print(\"X_train shape: {}\".format(X_train.shape))\n",
    "print(\"Y_train shape: {}\".format(Y_train.shape))\n",
    "\n",
    "print(\"X_test shape: {}\".format(X_test.shape))\n",
    "print(\"Y_test shape: {}\".format(Y_test.shape))"
   ]
  },
  {
   "cell_type": "markdown",
   "metadata": {},
   "source": [
    "When our original continuous data do not follow the bell curve, we can log transform this data to make it as “normal” as possible so that the statistical analysis results from this data become more valid"
   ]
  },
  {
   "cell_type": "code",
   "execution_count": 31,
   "metadata": {},
   "outputs": [],
   "source": [
    "#We use the numpy fuction log1p which  applies log(1+x) to all elements of the column\n",
    "Y_train = np.log1p(Y_train)\n",
    "Y_test = np.log1p(Y_test)"
   ]
  },
  {
   "cell_type": "code",
   "execution_count": 32,
   "metadata": {},
   "outputs": [
    {
     "name": "stdout",
     "output_type": "stream",
     "text": [
      "\n",
      " mu = 0.43 and sigma = 0.48\n",
      "\n"
     ]
    },
    {
     "data": {
      "image/png": "[encoded data removed]",
      "text/plain": [
       "<Figure size 432x288 with 1 Axes>"
      ]
     },
     "metadata": {
      "needs_background": "light"
     },
     "output_type": "display_data"
    },
    {
     "data": {
      "image/png": "[encoded data removed]",
      "text/plain": [
       "<Figure size 432x288 with 1 Axes>"
      ]
     },
     "metadata": {
      "needs_background": "light"
     },
     "output_type": "display_data"
    }
   ],
   "source": [
    "#Check the new distribution \n",
    "Y_log_transformed = np.log1p(data['Global']) #For comparison to earlier, here's the whole Y transformed\n",
    "sns.distplot(Y_log_transformed , fit=norm);\n",
    "\n",
    "# Get the fitted parameters used by the function\n",
    "(mu, sigma) = norm.fit(Y_log_transformed)\n",
    "print( '\\n mu = {:.2f} and sigma = {:.2f}\\n'.format(mu, sigma))\n",
    "\n",
    "#Now plot the distribution\n",
    "plt.legend(['Normal dist. ($\\mu=$ {:.2f} and $\\sigma=$ {:.2f} )'.format(mu, sigma)],\n",
    "            loc='best')\n",
    "plt.ylabel('Frequency')\n",
    "plt.title('Global_Sales distribution')\n",
    "\n",
    "#Get also the QQ-plot\n",
    "fig = plt.figure()\n",
    "res = stats.probplot(Y_log_transformed, plot=plt)\n",
    "plt.show()\n"
   ]
  },
  {
   "cell_type": "code",
   "execution_count": 33,
   "metadata": {},
   "outputs": [],
   "source": [
    "from sklearn.preprocessing import MinMaxScaler\n",
    "\n",
    "scaler = MinMaxScaler()\n",
    "scaler.fit(X_train)\n",
    "\n",
    "X_train_scaled = scaler.transform(X_train) \n",
    "X_test_scaled = scaler.transform(X_test)\n"
   ]
  },
  {
   "cell_type": "markdown",
   "metadata": {},
   "source": [
    "Now we are really close to the fun part. First however, we need to prepare our grids for grid search. For this, we need to decide, which models we will use. So let's try:\n",
    "\n",
    "* Linear Regression\n",
    "* Lasso\n",
    "* Ridge Regression\n",
    "* Support Vector Regressor\n",
    "* Random Forest\n",
    "* Gradient Boosting Regressor"
   ]
  },
  {
   "cell_type": "code",
   "execution_count": 34,
   "metadata": {},
   "outputs": [],
   "source": [
    "#No grid to define for vanilla linear regression\n",
    "param_grid_lr = [\n",
    "    {}\n",
    "]\n",
    "\n",
    "#Parameter grid for lasso\n",
    "param_grid_lasso = [\n",
    "    {'alpha': [10, 1, 0.1, 0.01, 0.001, 0.0001], 'max_iter': [1000000, 100000, 10000, 1000]}\n",
    "]\n",
    "\n",
    "#Parameter grid for Ridge Regression\n",
    "param_grid_rr = [\n",
    "    {'alpha': [100, 10, 1, 0.1, 0.01, 0.001]}\n",
    "]\n",
    "\n",
    "#Parameter grid for Support Vector Regressor\n",
    "param_grid_svr = [\n",
    "    {'C': [0.01, 0.1, 1, 10], 'gamma': [0.0001, 0.001, 0.01, 0.1, 1],\n",
    "     'kernel': ['rbf']}\n",
    "]\n",
    "\n",
    "#Parameter grid for Random Forest\n",
    "param_grid_rf = [\n",
    "    {'n_estimators': [3, 10, 30, 50, 70], 'max_features': [2,4,6,8,10,12], 'max_depth': [2, 3, 5, 7, 9]}\n",
    "]\n",
    "\n",
    "#Parameter grid for Gradient Boosting Regressor\n",
    "param_grid_gbr = [\n",
    "    {'n_estimators': [200, 225, 250, 275], 'max_features': [6, 8, 10, 12], 'max_depth': [5, 7, 9]}\n",
    "]"
   ]
  },
  {
   "cell_type": "markdown",
   "metadata": {},
   "source": [
    "### Use RMSE for scoring the models"
   ]
  },
  {
   "cell_type": "code",
   "execution_count": 35,
   "metadata": {},
   "outputs": [
    {
     "name": "stdout",
     "output_type": "stream",
     "text": [
      "Best parameters: {}\n",
      "Best cross-validation score: 0.42\n",
      "Test set score: 0.43\n"
     ]
    }
   ],
   "source": [
    "from sklearn.linear_model import LinearRegression\n",
    "from sklearn.model_selection import GridSearchCV\n",
    "\n",
    "grid_search_lr = GridSearchCV(LinearRegression(), param_grid_lr, scoring='neg_mean_squared_error',  cv=5)\n",
    "grid_search_lr.fit(X_train, Y_train)\n",
    "print(\"Best parameters: {}\".format(grid_search_lr.best_params_))\n",
    "lr_best_cross_val_score = (np.sqrt(-grid_search_lr.best_score_))\n",
    "print(\"Best cross-validation score: {:.2f}\".format(np.expm1(lr_best_cross_val_score)))\n",
    "lr_score = np.sqrt(-grid_search_lr.score(X_test, Y_test))\n",
    "print(\"Test set score: {:.2f}\".format(np.expm1(lr_score)))"
   ]
  },
  {
   "cell_type": "code",
   "execution_count": 36,
   "metadata": {},
   "outputs": [
    {
     "name": "stdout",
     "output_type": "stream",
     "text": [
      "Best parameters: {'alpha': 0.001, 'max_iter': 1000000}\n",
      "Best cross-validation score: 0.42\n",
      "Test set score: 0.43\n"
     ]
    }
   ],
   "source": [
    "from sklearn.linear_model import Lasso\n",
    "\n",
    "grid_search_lasso = GridSearchCV(Lasso(), param_grid_lasso, cv=5, scoring='neg_mean_squared_error')\n",
    "grid_search_lasso.fit(X_train, Y_train)\n",
    "print(\"Best parameters: {}\".format(grid_search_lasso.best_params_))\n",
    "lasso_best_cross_val_score = (np.sqrt(-grid_search_lasso.best_score_))\n",
    "print(\"Best cross-validation score: {:.2f}\".format(np.expm1(lasso_best_cross_val_score)))\n",
    "lasso_score = np.sqrt(-grid_search_lasso.score(X_test, Y_test))\n",
    "print(\"Test set score: {:.2f}\".format(np.expm1(lasso_score)))\n"
   ]
  },
  {
   "cell_type": "code",
   "execution_count": 37,
   "metadata": {},
   "outputs": [
    {
     "name": "stdout",
     "output_type": "stream",
     "text": [
      "Best parameters: {'alpha': 10}\n",
      "Best cross-validation score: 0.42\n",
      "Test set score: 0.43\n"
     ]
    }
   ],
   "source": [
    "from sklearn.linear_model import Ridge\n",
    "\n",
    "grid_search_rr = GridSearchCV(Ridge(), param_grid_rr, cv=5, scoring='neg_mean_squared_error')\n",
    "grid_search_rr.fit(X_train, Y_train)\n",
    "print(\"Best parameters: {}\".format(grid_search_rr.best_params_))\n",
    "rr_best_cross_val_score = (np.sqrt(-grid_search_rr.best_score_))\n",
    "print(\"Best cross-validation score: {:.2f}\".format(np.expm1(rr_best_cross_val_score)))\n",
    "rr_score = np.sqrt(-grid_search_rr.score(X_test, Y_test))\n",
    "print(\"Test set score: {:.2f}\".format(np.expm1(rr_score)))"
   ]
  },
  {
   "cell_type": "code",
   "execution_count": 38,
   "metadata": {},
   "outputs": [
    {
     "name": "stdout",
     "output_type": "stream",
     "text": [
      "Best parameters: {'C': 1, 'gamma': 0.0001, 'kernel': 'rbf'}\n",
      "Best cross-validation score: 0.50\n",
      "Test set score: 0.51\n"
     ]
    }
   ],
   "source": [
    "from sklearn.svm import SVR\n",
    "\n",
    "grid_search_svr = GridSearchCV(SVR(), param_grid_svr, cv=5, scoring='neg_mean_squared_error')\n",
    "grid_search_svr.fit(X_train, Y_train)\n",
    "print(\"Best parameters: {}\".format(grid_search_svr.best_params_))\n",
    "svr_best_cross_val_score = (np.sqrt(-grid_search_svr.best_score_))\n",
    "print(\"Best cross-validation score: {:.2f}\".format(np.expm1(svr_best_cross_val_score)))\n",
    "svr_score = np.sqrt(-grid_search_svr.score(X_test, Y_test))\n",
    "print(\"Test set score: {:.2f}\".format(np.expm1(svr_score)))"
   ]
  },
  {
   "cell_type": "code",
   "execution_count": 39,
   "metadata": {},
   "outputs": [
    {
     "name": "stdout",
     "output_type": "stream",
     "text": [
      "Best parameters: {'max_depth': 9, 'max_features': 12, 'n_estimators': 70}\n",
      "Best cross-validation score: 0.35\n",
      "Test set score: 0.35\n"
     ]
    }
   ],
   "source": [
    "from sklearn.ensemble import RandomForestRegressor\n",
    "\n",
    "grid_search_rf = GridSearchCV(RandomForestRegressor(), param_grid_rf, cv=5, scoring='neg_mean_squared_error')\n",
    "grid_search_rf.fit(X_train, Y_train)\n",
    "print(\"Best parameters: {}\".format(grid_search_rf.best_params_))\n",
    "rf_best_cross_val_score = (np.sqrt(-grid_search_rf.best_score_))\n",
    "print(\"Best cross-validation score: {:.2f}\".format(np.expm1(rf_best_cross_val_score)))\n",
    "rf_score = np.sqrt(-grid_search_rf.score(X_test, Y_test))\n",
    "print(\"Test set score: {:.2f}\".format(np.expm1(rf_score)))"
   ]
  },
  {
   "cell_type": "code",
   "execution_count": 40,
   "metadata": {},
   "outputs": [
    {
     "name": "stdout",
     "output_type": "stream",
     "text": [
      "Best parameters: {'max_depth': 5, 'max_features': 6, 'n_estimators': 250}\n",
      "Best cross-validation score: 0.33\n",
      "Test set score: 0.32\n"
     ]
    }
   ],
   "source": [
    "from sklearn.ensemble import GradientBoostingRegressor\n",
    "\n",
    "grid_search_gbr = GridSearchCV(GradientBoostingRegressor(), param_grid_gbr, cv=5, scoring='neg_mean_squared_error')\n",
    "grid_search_gbr.fit(X_train, Y_train)\n",
    "print(\"Best parameters: {}\".format(grid_search_gbr.best_params_))\n",
    "gbr_best_cross_val_score = (np.sqrt(-grid_search_gbr.best_score_))\n",
    "print(\"Best cross-validation score: {:.2f}\".format(np.expm1(gbr_best_cross_val_score)))\n",
    "gbr_score = np.sqrt(-grid_search_gbr.score(X_test, Y_test))\n",
    "print(\"Test set score: {:.2f}\".format(np.expm1(gbr_score)))"
   ]
  },
  {
   "cell_type": "code",
   "execution_count": null,
   "metadata": {},
   "outputs": [],
   "source": []
  }
 ],
 "metadata": {
  "kernelspec": {
   "display_name": "Python 3",
   "language": "python",
   "name": "python3"
  },
  "language_info": {
   "codemirror_mode": {
    "name": "ipython",
    "version": 3
   },
   "file_extension": ".py",
   "mimetype": "text/x-python",
   "name": "python",
   "nbconvert_exporter": "python",
   "pygments_lexer": "ipython3",
   "version": "3.8.5"
  }
 },
 "nbformat": 4,
 "nbformat_minor": 4
}
